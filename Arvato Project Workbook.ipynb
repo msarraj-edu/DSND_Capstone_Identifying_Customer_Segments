{
 "cells": [
  {
   "cell_type": "markdown",
   "metadata": {},
   "source": [
    "# Capstone Project: Create a Customer Segmentation Report for Arvato Financial Services\n",
    "\n",
    "In this project, you will analyze demographics data for customers of a mail-order sales company in Germany, comparing it against demographics information for the general population. You'll use unsupervised learning techniques to perform customer segmentation, identifying the parts of the population that best describe the core customer base of the company. Then, you'll apply what you've learned on a third dataset with demographics information for targets of a marketing campaign for the company, and use a model to predict which individuals are most likely to convert into becoming customers for the company. The data that you will use has been provided by our partners at Bertelsmann Arvato Analytics, and represents a real-life data science task.\n",
    "\n",
    "If you completed the first term of this program, you will be familiar with the first part of this project, from the unsupervised learning project. The versions of those two datasets used in this project will include many more features and has not been pre-cleaned. You are also free to choose whatever approach you'd like to analyzing the data rather than follow pre-determined steps. In your work on this project, make sure that you carefully document your steps and decisions, since your main deliverable for this project will be a blog post reporting your findings."
   ]
  },
  {
   "cell_type": "code",
   "execution_count": 119,
   "metadata": {},
   "outputs": [],
   "source": [
    "# import libraries here; add more as necessary\n",
    "import matplotlib.pyplot as plt\n",
    "import numpy as np\n",
    "import os\n",
    "import pandas as pd\n",
    "import seaborn as sns\n",
    "import time\n",
    "from sklearn.cluster import KMeans\n",
    "from sklearn.decomposition import PCA\n",
    "from sklearn.preprocessing import StandardScaler\n",
    "import sys\n",
    "\n",
    "# magic word for producing visualizations in notebook\n",
    "%matplotlib inline"
   ]
  },
  {
   "cell_type": "code",
   "execution_count": 2,
   "metadata": {},
   "outputs": [
    {
     "data": {
      "application/javascript": [
       "// Disables cell autoscrolling. Code borrowed from\n",
       "// https://bit.ly/3xBL7HR\n",
       "\n",
       "IPython.OutputArea.prototype._should_scroll = function(lines) {\n",
       "    return false;\n",
       "}\n"
      ],
      "text/plain": [
       "<IPython.core.display.Javascript object>"
      ]
     },
     "metadata": {},
     "output_type": "display_data"
    }
   ],
   "source": [
    "%%javascript\n",
    "// Disables cell autoscrolling. Code borrowed from\n",
    "// https://bit.ly/3xBL7HR\n",
    "\n",
    "IPython.OutputArea.prototype._should_scroll = function(lines) {\n",
    "    return false;\n",
    "}"
   ]
  },
  {
   "cell_type": "code",
   "execution_count": 3,
   "metadata": {},
   "outputs": [],
   "source": [
    "# Specify a max of 100 rows for displayed Dataframes\n",
    "pd.options.display.max_rows = 100"
   ]
  },
  {
   "cell_type": "markdown",
   "metadata": {},
   "source": [
    "## Part 0: Get to Know the Data\n",
    "\n",
    "There are four data files associated with this project:\n",
    "\n",
    "- `Udacity_AZDIAS_052018.csv`: Demographics data for the general population of Germany; 891 211 persons (rows) x 366 features (columns).\n",
    "- `Udacity_CUSTOMERS_052018.csv`: Demographics data for customers of a mail-order company; 191 652 persons (rows) x 369 features (columns).\n",
    "- `Udacity_MAILOUT_052018_TRAIN.csv`: Demographics data for individuals who were targets of a marketing campaign; 42 982 persons (rows) x 367 (columns).\n",
    "- `Udacity_MAILOUT_052018_TEST.csv`: Demographics data for individuals who were targets of a marketing campaign; 42 833 persons (rows) x 366 (columns).\n",
    "\n",
    "Each row of the demographics files represents a single person, but also includes information outside of individuals, including information about their household, building, and neighborhood. Use the information from the first two files to figure out how customers (\"CUSTOMERS\") are similar to or differ from the general population at large (\"AZDIAS\"), then use your analysis to make predictions on the other two files (\"MAILOUT\"), predicting which recipients are most likely to become a customer for the mail-order company.\n",
    "\n",
    "The \"CUSTOMERS\" file contains three extra columns ('CUSTOMER_GROUP', 'ONLINE_PURCHASE', and 'PRODUCT_GROUP'), which provide broad information about the customers depicted in the file. The original \"MAILOUT\" file included one additional column, \"RESPONSE\", which indicated whether or not each recipient became a customer of the company. For the \"TRAIN\" subset, this column has been retained, but in the \"TEST\" subset it has been removed; it is against that withheld column that your final predictions will be assessed in the Kaggle competition.\n",
    "\n",
    "Otherwise, all of the remaining columns are the same between the three data files. For more information about the columns depicted in the files, you can refer to two Excel spreadsheets provided in the workspace. [One of them](./DIAS Information Levels - Attributes 2017.xlsx) is a top-level list of attributes and descriptions, organized by informational category. [The other](./DIAS Attributes - Values 2017.xlsx) is a detailed mapping of data values for each feature in alphabetical order.\n",
    "\n",
    "In the below cell, we've provided some initial code to load in the first two datasets. Note for all of the `.csv` data files in this project that they're semicolon (`;`) delimited, so an additional argument in the [`read_csv()`](https://pandas.pydata.org/pandas-docs/stable/generated/pandas.read_csv.html) call has been included to read in the data properly. Also, considering the size of the datasets, it may take some time for them to load completely.\n",
    "\n",
    "You'll notice when the data is loaded in that a warning message will immediately pop up. Before you really start digging into the modeling and analysis, you're going to need to perform some cleaning. Take some time to browse the structure of the data and look over the informational spreadsheets to understand the data values. Make some decisions on which features to keep, which features to drop, and if any revisions need to be made on data formats. It'll be a good idea to create a function with pre-processing steps, since you'll need to clean all of the datasets before you work with them."
   ]
  },
  {
   "cell_type": "code",
   "execution_count": 4,
   "metadata": {},
   "outputs": [],
   "source": [
    "def my_load(filename, func=pd.read_csv, *args, **kwargs):\n",
    "    udacity_path = '../../data/Term2/capstone/arvato_data'.split('/')\n",
    "    full_path = os.path.join(*udacity_path, filename)\n",
    "    \n",
    "    errors = []\n",
    "    \n",
    "    try:\n",
    "        df = func(full_path, **kwargs)\n",
    "        return df\n",
    "    except Exception as e:\n",
    "        errors.append(e)\n",
    "    \n",
    "    try:\n",
    "        df = func(filename, **kwargs)\n",
    "        return df\n",
    "    except Exception as e:\n",
    "        errors.append(e)\n",
    "    \n",
    "    if errors:\n",
    "        raise Exception(errors)\n",
    "#     raise Exception('Error when loading the file...\\\n",
    "#     Please check the path is either current directory or ../../data/Term2/capstone/arvato_data ')"
   ]
  },
  {
   "cell_type": "code",
   "execution_count": 5,
   "metadata": {},
   "outputs": [
    {
     "name": "stderr",
     "output_type": "stream",
     "text": [
      "C:\\Users\\Mohammed\\miniconda3\\envs\\DSND_Cap_Clone\\lib\\site-packages\\IPython\\core\\interactiveshell.py:3185: DtypeWarning: Columns (18,19) have mixed types. Specify dtype option on import or set low_memory=False.\n",
      "  if (yield from self.run_code(code, result)):\n"
     ]
    }
   ],
   "source": [
    "# load in the data\n",
    "azdias = my_load('Udacity_AZDIAS_052018.csv', sep= ';')\n",
    "customers = my_load('Udacity_CUSTOMERS_052018.csv', sep=';')"
   ]
  },
  {
   "cell_type": "markdown",
   "metadata": {},
   "source": [
    "The first thing to notice is the warning about columns 18 and 19 being of mixed types (shown below). We will investigate that later. However, let us start by just looking at the basic structure of the data (azdias)"
   ]
  },
  {
   "cell_type": "code",
   "execution_count": 6,
   "metadata": {},
   "outputs": [
    {
     "data": {
      "text/html": [
       "<div>\n",
       "<style scoped>\n",
       "    .dataframe tbody tr th:only-of-type {\n",
       "        vertical-align: middle;\n",
       "    }\n",
       "\n",
       "    .dataframe tbody tr th {\n",
       "        vertical-align: top;\n",
       "    }\n",
       "\n",
       "    .dataframe thead th {\n",
       "        text-align: right;\n",
       "    }\n",
       "</style>\n",
       "<table border=\"1\" class=\"dataframe\">\n",
       "  <thead>\n",
       "    <tr style=\"text-align: right;\">\n",
       "      <th></th>\n",
       "      <th>CAMEO_DEU_2015</th>\n",
       "      <th>CAMEO_DEUG_2015</th>\n",
       "    </tr>\n",
       "  </thead>\n",
       "  <tbody>\n",
       "    <tr>\n",
       "      <th>0</th>\n",
       "      <td>NaN</td>\n",
       "      <td>NaN</td>\n",
       "    </tr>\n",
       "    <tr>\n",
       "      <th>1</th>\n",
       "      <td>8A</td>\n",
       "      <td>8</td>\n",
       "    </tr>\n",
       "    <tr>\n",
       "      <th>2</th>\n",
       "      <td>4C</td>\n",
       "      <td>4</td>\n",
       "    </tr>\n",
       "    <tr>\n",
       "      <th>3</th>\n",
       "      <td>2A</td>\n",
       "      <td>2</td>\n",
       "    </tr>\n",
       "    <tr>\n",
       "      <th>4</th>\n",
       "      <td>6B</td>\n",
       "      <td>6</td>\n",
       "    </tr>\n",
       "  </tbody>\n",
       "</table>\n",
       "</div>"
      ],
      "text/plain": [
       "  CAMEO_DEU_2015 CAMEO_DEUG_2015\n",
       "0            NaN             NaN\n",
       "1             8A               8\n",
       "2             4C               4\n",
       "3             2A               2\n",
       "4             6B               6"
      ]
     },
     "execution_count": 6,
     "metadata": {},
     "output_type": "execute_result"
    }
   ],
   "source": [
    "azdias.iloc[:,17:19].head()"
   ]
  },
  {
   "cell_type": "code",
   "execution_count": 7,
   "metadata": {},
   "outputs": [
    {
     "data": {
      "text/plain": [
       "8      78023\n",
       "9      62578\n",
       "6      61253\n",
       "4      60185\n",
       "8.0    56418\n",
       "3      50360\n",
       "2      48276\n",
       "9.0    45599\n",
       "7      45021\n",
       "6.0    44621\n",
       "4.0    43727\n",
       "3.0    36419\n",
       "2.0    34955\n",
       "7.0    32912\n",
       "5      32292\n",
       "5.0    23018\n",
       "1      20997\n",
       "1.0    15215\n",
       "X        373\n",
       "Name: CAMEO_DEUG_2015, dtype: int64"
      ]
     },
     "execution_count": 7,
     "metadata": {},
     "output_type": "execute_result"
    }
   ],
   "source": [
    "azdias.iloc[:,18].value_counts()"
   ]
  },
  {
   "cell_type": "markdown",
   "metadata": {},
   "source": [
    "Looks like the `X` represents missing values"
   ]
  },
  {
   "cell_type": "code",
   "execution_count": 8,
   "metadata": {},
   "outputs": [
    {
     "data": {
      "text/plain": [
       "6B    56672\n",
       "8A    52438\n",
       "4C    47819\n",
       "2D    35074\n",
       "3C    34769\n",
       "7A    34399\n",
       "3D    34307\n",
       "8B    33434\n",
       "4A    33155\n",
       "8C    30993\n",
       "9D    28593\n",
       "9B    27676\n",
       "9C    24987\n",
       "7B    24503\n",
       "9A    20542\n",
       "2C    19422\n",
       "8D    17576\n",
       "6E    16107\n",
       "2B    15486\n",
       "5D    14943\n",
       "6C    14820\n",
       "2A    13249\n",
       "5A    12214\n",
       "1D    11909\n",
       "1A    10850\n",
       "3A    10543\n",
       "5B    10354\n",
       "5C     9935\n",
       "7C     9065\n",
       "4B     9047\n",
       "4D     8570\n",
       "3B     7160\n",
       "6A     6810\n",
       "9E     6379\n",
       "6D     6073\n",
       "6F     5392\n",
       "7D     5333\n",
       "4E     5321\n",
       "1E     5065\n",
       "7E     4633\n",
       "1C     4317\n",
       "5F     4283\n",
       "1B     4071\n",
       "5E     3581\n",
       "XX      373\n",
       "Name: CAMEO_DEU_2015, dtype: int64"
      ]
     },
     "execution_count": 8,
     "metadata": {},
     "output_type": "execute_result"
    }
   ],
   "source": [
    "azdias.iloc[:,17].value_counts()"
   ]
  },
  {
   "cell_type": "markdown",
   "metadata": {},
   "source": [
    "Looks like the `XX` represents missing values"
   ]
  },
  {
   "cell_type": "code",
   "execution_count": 9,
   "metadata": {},
   "outputs": [
    {
     "data": {
      "text/html": [
       "<div>\n",
       "<style scoped>\n",
       "    .dataframe tbody tr th:only-of-type {\n",
       "        vertical-align: middle;\n",
       "    }\n",
       "\n",
       "    .dataframe tbody tr th {\n",
       "        vertical-align: top;\n",
       "    }\n",
       "\n",
       "    .dataframe thead th {\n",
       "        text-align: right;\n",
       "    }\n",
       "</style>\n",
       "<table border=\"1\" class=\"dataframe\">\n",
       "  <thead>\n",
       "    <tr style=\"text-align: right;\">\n",
       "      <th></th>\n",
       "      <th>LNR</th>\n",
       "      <th>AGER_TYP</th>\n",
       "      <th>AKT_DAT_KL</th>\n",
       "      <th>ALTER_HH</th>\n",
       "      <th>ALTER_KIND1</th>\n",
       "      <th>ALTER_KIND2</th>\n",
       "      <th>ALTER_KIND3</th>\n",
       "      <th>ALTER_KIND4</th>\n",
       "      <th>ALTERSKATEGORIE_FEIN</th>\n",
       "      <th>ANZ_HAUSHALTE_AKTIV</th>\n",
       "      <th>...</th>\n",
       "      <th>VHN</th>\n",
       "      <th>VK_DHT4A</th>\n",
       "      <th>VK_DISTANZ</th>\n",
       "      <th>VK_ZG11</th>\n",
       "      <th>W_KEIT_KIND_HH</th>\n",
       "      <th>WOHNDAUER_2008</th>\n",
       "      <th>WOHNLAGE</th>\n",
       "      <th>ZABEOTYP</th>\n",
       "      <th>ANREDE_KZ</th>\n",
       "      <th>ALTERSKATEGORIE_GROB</th>\n",
       "    </tr>\n",
       "  </thead>\n",
       "  <tbody>\n",
       "    <tr>\n",
       "      <th>count</th>\n",
       "      <td>8.912210e+05</td>\n",
       "      <td>891221.000000</td>\n",
       "      <td>817722.000000</td>\n",
       "      <td>817722.000000</td>\n",
       "      <td>81058.000000</td>\n",
       "      <td>29499.000000</td>\n",
       "      <td>6170.000000</td>\n",
       "      <td>1205.000000</td>\n",
       "      <td>628274.000000</td>\n",
       "      <td>798073.000000</td>\n",
       "      <td>...</td>\n",
       "      <td>770025.000000</td>\n",
       "      <td>815304.000000</td>\n",
       "      <td>815304.000000</td>\n",
       "      <td>815304.000000</td>\n",
       "      <td>783619.000000</td>\n",
       "      <td>817722.000000</td>\n",
       "      <td>798073.000000</td>\n",
       "      <td>891221.000000</td>\n",
       "      <td>891221.000000</td>\n",
       "      <td>891221.000000</td>\n",
       "    </tr>\n",
       "    <tr>\n",
       "      <th>mean</th>\n",
       "      <td>6.372630e+05</td>\n",
       "      <td>-0.358435</td>\n",
       "      <td>4.421928</td>\n",
       "      <td>10.864126</td>\n",
       "      <td>11.745392</td>\n",
       "      <td>13.402658</td>\n",
       "      <td>14.476013</td>\n",
       "      <td>15.089627</td>\n",
       "      <td>13.700717</td>\n",
       "      <td>8.287263</td>\n",
       "      <td>...</td>\n",
       "      <td>2.417322</td>\n",
       "      <td>6.001214</td>\n",
       "      <td>7.532130</td>\n",
       "      <td>5.945972</td>\n",
       "      <td>3.933406</td>\n",
       "      <td>7.908791</td>\n",
       "      <td>4.052836</td>\n",
       "      <td>3.362438</td>\n",
       "      <td>1.522098</td>\n",
       "      <td>2.777398</td>\n",
       "    </tr>\n",
       "    <tr>\n",
       "      <th>std</th>\n",
       "      <td>2.572735e+05</td>\n",
       "      <td>1.198724</td>\n",
       "      <td>3.638805</td>\n",
       "      <td>7.639683</td>\n",
       "      <td>4.097660</td>\n",
       "      <td>3.243300</td>\n",
       "      <td>2.712427</td>\n",
       "      <td>2.452932</td>\n",
       "      <td>5.079849</td>\n",
       "      <td>15.628087</td>\n",
       "      <td>...</td>\n",
       "      <td>1.166572</td>\n",
       "      <td>2.856091</td>\n",
       "      <td>3.247789</td>\n",
       "      <td>2.771464</td>\n",
       "      <td>1.964701</td>\n",
       "      <td>1.923137</td>\n",
       "      <td>1.949539</td>\n",
       "      <td>1.352704</td>\n",
       "      <td>0.499512</td>\n",
       "      <td>1.068775</td>\n",
       "    </tr>\n",
       "    <tr>\n",
       "      <th>min</th>\n",
       "      <td>1.916530e+05</td>\n",
       "      <td>-1.000000</td>\n",
       "      <td>1.000000</td>\n",
       "      <td>0.000000</td>\n",
       "      <td>2.000000</td>\n",
       "      <td>2.000000</td>\n",
       "      <td>4.000000</td>\n",
       "      <td>7.000000</td>\n",
       "      <td>0.000000</td>\n",
       "      <td>0.000000</td>\n",
       "      <td>...</td>\n",
       "      <td>0.000000</td>\n",
       "      <td>1.000000</td>\n",
       "      <td>1.000000</td>\n",
       "      <td>1.000000</td>\n",
       "      <td>0.000000</td>\n",
       "      <td>1.000000</td>\n",
       "      <td>0.000000</td>\n",
       "      <td>1.000000</td>\n",
       "      <td>1.000000</td>\n",
       "      <td>1.000000</td>\n",
       "    </tr>\n",
       "    <tr>\n",
       "      <th>25%</th>\n",
       "      <td>4.144580e+05</td>\n",
       "      <td>-1.000000</td>\n",
       "      <td>1.000000</td>\n",
       "      <td>0.000000</td>\n",
       "      <td>8.000000</td>\n",
       "      <td>11.000000</td>\n",
       "      <td>13.000000</td>\n",
       "      <td>14.000000</td>\n",
       "      <td>11.000000</td>\n",
       "      <td>1.000000</td>\n",
       "      <td>...</td>\n",
       "      <td>2.000000</td>\n",
       "      <td>3.000000</td>\n",
       "      <td>5.000000</td>\n",
       "      <td>4.000000</td>\n",
       "      <td>2.000000</td>\n",
       "      <td>8.000000</td>\n",
       "      <td>3.000000</td>\n",
       "      <td>3.000000</td>\n",
       "      <td>1.000000</td>\n",
       "      <td>2.000000</td>\n",
       "    </tr>\n",
       "    <tr>\n",
       "      <th>50%</th>\n",
       "      <td>6.372630e+05</td>\n",
       "      <td>-1.000000</td>\n",
       "      <td>3.000000</td>\n",
       "      <td>13.000000</td>\n",
       "      <td>12.000000</td>\n",
       "      <td>14.000000</td>\n",
       "      <td>15.000000</td>\n",
       "      <td>15.000000</td>\n",
       "      <td>14.000000</td>\n",
       "      <td>4.000000</td>\n",
       "      <td>...</td>\n",
       "      <td>2.000000</td>\n",
       "      <td>6.000000</td>\n",
       "      <td>8.000000</td>\n",
       "      <td>6.000000</td>\n",
       "      <td>4.000000</td>\n",
       "      <td>9.000000</td>\n",
       "      <td>3.000000</td>\n",
       "      <td>3.000000</td>\n",
       "      <td>2.000000</td>\n",
       "      <td>3.000000</td>\n",
       "    </tr>\n",
       "    <tr>\n",
       "      <th>75%</th>\n",
       "      <td>8.600680e+05</td>\n",
       "      <td>-1.000000</td>\n",
       "      <td>9.000000</td>\n",
       "      <td>17.000000</td>\n",
       "      <td>15.000000</td>\n",
       "      <td>16.000000</td>\n",
       "      <td>17.000000</td>\n",
       "      <td>17.000000</td>\n",
       "      <td>17.000000</td>\n",
       "      <td>9.000000</td>\n",
       "      <td>...</td>\n",
       "      <td>3.000000</td>\n",
       "      <td>9.000000</td>\n",
       "      <td>10.000000</td>\n",
       "      <td>8.000000</td>\n",
       "      <td>6.000000</td>\n",
       "      <td>9.000000</td>\n",
       "      <td>5.000000</td>\n",
       "      <td>4.000000</td>\n",
       "      <td>2.000000</td>\n",
       "      <td>4.000000</td>\n",
       "    </tr>\n",
       "    <tr>\n",
       "      <th>max</th>\n",
       "      <td>1.082873e+06</td>\n",
       "      <td>3.000000</td>\n",
       "      <td>9.000000</td>\n",
       "      <td>21.000000</td>\n",
       "      <td>18.000000</td>\n",
       "      <td>18.000000</td>\n",
       "      <td>18.000000</td>\n",
       "      <td>18.000000</td>\n",
       "      <td>25.000000</td>\n",
       "      <td>595.000000</td>\n",
       "      <td>...</td>\n",
       "      <td>4.000000</td>\n",
       "      <td>11.000000</td>\n",
       "      <td>13.000000</td>\n",
       "      <td>11.000000</td>\n",
       "      <td>6.000000</td>\n",
       "      <td>9.000000</td>\n",
       "      <td>8.000000</td>\n",
       "      <td>6.000000</td>\n",
       "      <td>2.000000</td>\n",
       "      <td>9.000000</td>\n",
       "    </tr>\n",
       "  </tbody>\n",
       "</table>\n",
       "<p>8 rows × 360 columns</p>\n",
       "</div>"
      ],
      "text/plain": [
       "                LNR       AGER_TYP     AKT_DAT_KL       ALTER_HH  \\\n",
       "count  8.912210e+05  891221.000000  817722.000000  817722.000000   \n",
       "mean   6.372630e+05      -0.358435       4.421928      10.864126   \n",
       "std    2.572735e+05       1.198724       3.638805       7.639683   \n",
       "min    1.916530e+05      -1.000000       1.000000       0.000000   \n",
       "25%    4.144580e+05      -1.000000       1.000000       0.000000   \n",
       "50%    6.372630e+05      -1.000000       3.000000      13.000000   \n",
       "75%    8.600680e+05      -1.000000       9.000000      17.000000   \n",
       "max    1.082873e+06       3.000000       9.000000      21.000000   \n",
       "\n",
       "        ALTER_KIND1   ALTER_KIND2  ALTER_KIND3  ALTER_KIND4  \\\n",
       "count  81058.000000  29499.000000  6170.000000  1205.000000   \n",
       "mean      11.745392     13.402658    14.476013    15.089627   \n",
       "std        4.097660      3.243300     2.712427     2.452932   \n",
       "min        2.000000      2.000000     4.000000     7.000000   \n",
       "25%        8.000000     11.000000    13.000000    14.000000   \n",
       "50%       12.000000     14.000000    15.000000    15.000000   \n",
       "75%       15.000000     16.000000    17.000000    17.000000   \n",
       "max       18.000000     18.000000    18.000000    18.000000   \n",
       "\n",
       "       ALTERSKATEGORIE_FEIN  ANZ_HAUSHALTE_AKTIV          ...           \\\n",
       "count         628274.000000        798073.000000          ...            \n",
       "mean              13.700717             8.287263          ...            \n",
       "std                5.079849            15.628087          ...            \n",
       "min                0.000000             0.000000          ...            \n",
       "25%               11.000000             1.000000          ...            \n",
       "50%               14.000000             4.000000          ...            \n",
       "75%               17.000000             9.000000          ...            \n",
       "max               25.000000           595.000000          ...            \n",
       "\n",
       "                 VHN       VK_DHT4A     VK_DISTANZ        VK_ZG11  \\\n",
       "count  770025.000000  815304.000000  815304.000000  815304.000000   \n",
       "mean        2.417322       6.001214       7.532130       5.945972   \n",
       "std         1.166572       2.856091       3.247789       2.771464   \n",
       "min         0.000000       1.000000       1.000000       1.000000   \n",
       "25%         2.000000       3.000000       5.000000       4.000000   \n",
       "50%         2.000000       6.000000       8.000000       6.000000   \n",
       "75%         3.000000       9.000000      10.000000       8.000000   \n",
       "max         4.000000      11.000000      13.000000      11.000000   \n",
       "\n",
       "       W_KEIT_KIND_HH  WOHNDAUER_2008       WOHNLAGE       ZABEOTYP  \\\n",
       "count   783619.000000   817722.000000  798073.000000  891221.000000   \n",
       "mean         3.933406        7.908791       4.052836       3.362438   \n",
       "std          1.964701        1.923137       1.949539       1.352704   \n",
       "min          0.000000        1.000000       0.000000       1.000000   \n",
       "25%          2.000000        8.000000       3.000000       3.000000   \n",
       "50%          4.000000        9.000000       3.000000       3.000000   \n",
       "75%          6.000000        9.000000       5.000000       4.000000   \n",
       "max          6.000000        9.000000       8.000000       6.000000   \n",
       "\n",
       "           ANREDE_KZ  ALTERSKATEGORIE_GROB  \n",
       "count  891221.000000         891221.000000  \n",
       "mean        1.522098              2.777398  \n",
       "std         0.499512              1.068775  \n",
       "min         1.000000              1.000000  \n",
       "25%         1.000000              2.000000  \n",
       "50%         2.000000              3.000000  \n",
       "75%         2.000000              4.000000  \n",
       "max         2.000000              9.000000  \n",
       "\n",
       "[8 rows x 360 columns]"
      ]
     },
     "execution_count": 9,
     "metadata": {},
     "output_type": "execute_result"
    }
   ],
   "source": [
    "azdias.describe()"
   ]
  },
  {
   "cell_type": "code",
   "execution_count": 10,
   "metadata": {},
   "outputs": [
    {
     "name": "stdout",
     "output_type": "stream",
     "text": [
      "<class 'pandas.core.frame.DataFrame'>\n",
      "RangeIndex: 891221 entries, 0 to 891220\n",
      "Columns: 366 entries, LNR to ALTERSKATEGORIE_GROB\n",
      "dtypes: float64(267), int64(93), object(6)\n",
      "memory usage: 2.4+ GB\n"
     ]
    }
   ],
   "source": [
    "azdias.info()"
   ]
  },
  {
   "cell_type": "markdown",
   "metadata": {},
   "source": [
    "Looks like the data is relatively big with a disk space of 2.4+ GB and 366 columns of which 267 are float, 93 are ints, and 6 are either strings or mixed.<br>\n",
    "The first step is to identify unknown values (nans). For that, the `DIAS Attributes - Values 2017.xlsx` file is needed. Upon a quick skim over that file, it seems that the nans are signaled in the `Meaning` column by either the phrase `unknown` or `no ... known ...`. The most approach to handle this is by filtering the rows by the `known` phrase then extracting corresponding values from the `Value` column "
   ]
  },
  {
   "cell_type": "code",
   "execution_count": 11,
   "metadata": {},
   "outputs": [
    {
     "data": {
      "text/html": [
       "<div>\n",
       "<style scoped>\n",
       "    .dataframe tbody tr th:only-of-type {\n",
       "        vertical-align: middle;\n",
       "    }\n",
       "\n",
       "    .dataframe tbody tr th {\n",
       "        vertical-align: top;\n",
       "    }\n",
       "\n",
       "    .dataframe thead th {\n",
       "        text-align: right;\n",
       "    }\n",
       "</style>\n",
       "<table border=\"1\" class=\"dataframe\">\n",
       "  <thead>\n",
       "    <tr style=\"text-align: right;\">\n",
       "      <th></th>\n",
       "      <th>Unnamed: 0</th>\n",
       "      <th>Attribute</th>\n",
       "      <th>Description</th>\n",
       "      <th>Value</th>\n",
       "      <th>Meaning</th>\n",
       "    </tr>\n",
       "  </thead>\n",
       "  <tbody>\n",
       "    <tr>\n",
       "      <th>0</th>\n",
       "      <td>NaN</td>\n",
       "      <td>AGER_TYP</td>\n",
       "      <td>best-ager typology</td>\n",
       "      <td>-1</td>\n",
       "      <td>unknown</td>\n",
       "    </tr>\n",
       "    <tr>\n",
       "      <th>5</th>\n",
       "      <td>NaN</td>\n",
       "      <td>ALTERSKATEGORIE_GROB</td>\n",
       "      <td>age classification through prename analysis</td>\n",
       "      <td>-1, 0</td>\n",
       "      <td>unknown</td>\n",
       "    </tr>\n",
       "    <tr>\n",
       "      <th>11</th>\n",
       "      <td>NaN</td>\n",
       "      <td>ALTER_HH</td>\n",
       "      <td>main age within the household</td>\n",
       "      <td>0</td>\n",
       "      <td>unknown / no main age detectable</td>\n",
       "    </tr>\n",
       "    <tr>\n",
       "      <th>33</th>\n",
       "      <td>NaN</td>\n",
       "      <td>ANREDE_KZ</td>\n",
       "      <td>gender</td>\n",
       "      <td>-1, 0</td>\n",
       "      <td>unknown</td>\n",
       "    </tr>\n",
       "    <tr>\n",
       "      <th>40</th>\n",
       "      <td>NaN</td>\n",
       "      <td>BALLRAUM</td>\n",
       "      <td>distance to next urban centre</td>\n",
       "      <td>-1</td>\n",
       "      <td>unknown</td>\n",
       "    </tr>\n",
       "  </tbody>\n",
       "</table>\n",
       "</div>"
      ],
      "text/plain": [
       "    Unnamed: 0             Attribute  \\\n",
       "0          NaN              AGER_TYP   \n",
       "5          NaN  ALTERSKATEGORIE_GROB   \n",
       "11         NaN              ALTER_HH   \n",
       "33         NaN             ANREDE_KZ   \n",
       "40         NaN              BALLRAUM   \n",
       "\n",
       "                                     Description  Value  \\\n",
       "0                             best-ager typology     -1   \n",
       "5   age classification through prename analysis   -1, 0   \n",
       "11                 main age within the household      0   \n",
       "33                                        gender  -1, 0   \n",
       "40                distance to next urban centre      -1   \n",
       "\n",
       "                             Meaning  \n",
       "0                            unknown  \n",
       "5                            unknown  \n",
       "11  unknown / no main age detectable  \n",
       "33                           unknown  \n",
       "40                           unknown  "
      ]
     },
     "execution_count": 11,
     "metadata": {},
     "output_type": "execute_result"
    }
   ],
   "source": [
    "def get_unknown_meanings():\n",
    "    df = my_load('DIAS Attributes - Values 2017.xls', func=pd.read_excel)\n",
    "    df.ffill(inplace=True)\n",
    "    df = df[df.Meaning.str.contains('known')]\n",
    "    df.to_csv('tmp.csv')\n",
    "    return df\n",
    "unknowns = get_unknown_meanings()\n",
    "unknowns.head()"
   ]
  },
  {
   "cell_type": "markdown",
   "metadata": {},
   "source": [
    "Just to make sure that we don't have irrelevant rows, I will print all different values of Meaning"
   ]
  },
  {
   "cell_type": "code",
   "execution_count": 12,
   "metadata": {},
   "outputs": [
    {
     "data": {
      "text/plain": [
       "{'company building w/o known company ',\n",
       " 'mixed building without actually known company ',\n",
       " 'mixed building without actually known household ',\n",
       " 'mixed building without actually known household or comapny ',\n",
       " 'no transaction known',\n",
       " 'no transactions known',\n",
       " 'residental building buildings without actually known household',\n",
       " 'unknown',\n",
       " 'unknown / no main age detectable'}"
      ]
     },
     "execution_count": 12,
     "metadata": {},
     "output_type": "execute_result"
    }
   ],
   "source": [
    "set(unknowns.Meaning.values)"
   ]
  },
  {
   "cell_type": "markdown",
   "metadata": {},
   "source": [
    "It turns out that the phrases that indicate missing values are only the following:\n",
    "<ul>\n",
    "    <li>unknown</li>\n",
    "    <li>unknown / no main age detectable</li>\n",
    "    <li>no transaction known</li>\n",
    "    <li>no transactions known</li>\n",
    "</ul>"
   ]
  },
  {
   "cell_type": "code",
   "execution_count": 13,
   "metadata": {},
   "outputs": [
    {
     "data": {
      "text/html": [
       "<div>\n",
       "<style scoped>\n",
       "    .dataframe tbody tr th:only-of-type {\n",
       "        vertical-align: middle;\n",
       "    }\n",
       "\n",
       "    .dataframe tbody tr th {\n",
       "        vertical-align: top;\n",
       "    }\n",
       "\n",
       "    .dataframe thead th {\n",
       "        text-align: right;\n",
       "    }\n",
       "</style>\n",
       "<table border=\"1\" class=\"dataframe\">\n",
       "  <thead>\n",
       "    <tr style=\"text-align: right;\">\n",
       "      <th></th>\n",
       "      <th>Unnamed: 0</th>\n",
       "      <th>Attribute</th>\n",
       "      <th>Description</th>\n",
       "      <th>Value</th>\n",
       "      <th>Meaning</th>\n",
       "    </tr>\n",
       "  </thead>\n",
       "  <tbody>\n",
       "    <tr>\n",
       "      <th>0</th>\n",
       "      <td>NaN</td>\n",
       "      <td>AGER_TYP</td>\n",
       "      <td>best-ager typology</td>\n",
       "      <td>-1</td>\n",
       "      <td>unknown</td>\n",
       "    </tr>\n",
       "    <tr>\n",
       "      <th>5</th>\n",
       "      <td>NaN</td>\n",
       "      <td>ALTERSKATEGORIE_GROB</td>\n",
       "      <td>age classification through prename analysis</td>\n",
       "      <td>-1, 0</td>\n",
       "      <td>unknown</td>\n",
       "    </tr>\n",
       "    <tr>\n",
       "      <th>11</th>\n",
       "      <td>NaN</td>\n",
       "      <td>ALTER_HH</td>\n",
       "      <td>main age within the household</td>\n",
       "      <td>0</td>\n",
       "      <td>unknown / no main age detectable</td>\n",
       "    </tr>\n",
       "    <tr>\n",
       "      <th>33</th>\n",
       "      <td>NaN</td>\n",
       "      <td>ANREDE_KZ</td>\n",
       "      <td>gender</td>\n",
       "      <td>-1, 0</td>\n",
       "      <td>unknown</td>\n",
       "    </tr>\n",
       "    <tr>\n",
       "      <th>40</th>\n",
       "      <td>NaN</td>\n",
       "      <td>BALLRAUM</td>\n",
       "      <td>distance to next urban centre</td>\n",
       "      <td>-1</td>\n",
       "      <td>unknown</td>\n",
       "    </tr>\n",
       "  </tbody>\n",
       "</table>\n",
       "</div>"
      ],
      "text/plain": [
       "    Unnamed: 0             Attribute  \\\n",
       "0          NaN              AGER_TYP   \n",
       "5          NaN  ALTERSKATEGORIE_GROB   \n",
       "11         NaN              ALTER_HH   \n",
       "33         NaN             ANREDE_KZ   \n",
       "40         NaN              BALLRAUM   \n",
       "\n",
       "                                     Description  Value  \\\n",
       "0                             best-ager typology     -1   \n",
       "5   age classification through prename analysis   -1, 0   \n",
       "11                 main age within the household      0   \n",
       "33                                        gender  -1, 0   \n",
       "40                distance to next urban centre      -1   \n",
       "\n",
       "                             Meaning  \n",
       "0                            unknown  \n",
       "5                            unknown  \n",
       "11  unknown / no main age detectable  \n",
       "33                           unknown  \n",
       "40                           unknown  "
      ]
     },
     "execution_count": 13,
     "metadata": {},
     "output_type": "execute_result"
    }
   ],
   "source": [
    "def get_unknown_meanings_updated():\n",
    "    df = my_load('DIAS Attributes - Values 2017.xls', func=pd.read_excel)\n",
    "    df.ffill(inplace=True)\n",
    "    lst_of_unknowns = ['unknown',\n",
    "                       'unknown / no main age detectable',\n",
    "                       'no transaction known',\n",
    "                       'no transactions known'\n",
    "                      ]\n",
    "    df = df[df.Meaning.str.contains('|'.join(lst_of_unknowns))]\n",
    "    df.to_csv('tmp2.csv')\n",
    "    return df\n",
    "unknowns = get_unknown_meanings_updated()\n",
    "unknowns.head()"
   ]
  },
  {
   "cell_type": "markdown",
   "metadata": {},
   "source": [
    "Now we need to extract the relevant values that indicate missing values for each column of the dataset"
   ]
  },
  {
   "cell_type": "code",
   "execution_count": 14,
   "metadata": {},
   "outputs": [],
   "source": [
    "def get_unknown_vals():\n",
    "    unknowns = get_unknown_meanings_updated()\n",
    "    unknown_vals = unknowns[['Attribute', 'Value']].set_index('Attribute').astype({'Value':str})\n",
    "    return unknown_vals"
   ]
  },
  {
   "cell_type": "code",
   "execution_count": 15,
   "metadata": {},
   "outputs": [],
   "source": [
    "unknown_vals = get_unknown_vals()"
   ]
  },
  {
   "cell_type": "markdown",
   "metadata": {},
   "source": [
    "It is important to remember that not all the attributes mentioned in the Attribute file contain unknown indicators. So, it is good to list those attributes here as they.<br>\n",
    "<br>\n"
   ]
  },
  {
   "cell_type": "markdown",
   "metadata": {},
   "source": [
    "Now that we are doing with identifying missing values specified in the Attribute file, it is time to add back the columns that were specified in the Attribute file but contained none of the `unknown` catch phrases mentioned above"
   ]
  },
  {
   "cell_type": "code",
   "execution_count": 16,
   "metadata": {},
   "outputs": [
    {
     "data": {
      "text/plain": [
       "{'ANZ_HAUSHALTE_AKTIV',\n",
       " 'ANZ_HH_TITEL',\n",
       " 'ANZ_PERSONEN',\n",
       " 'ANZ_TITEL',\n",
       " 'CAMEO_DEU_2015',\n",
       " 'D19_BANKEN_ONLINE_QUOTE_12',\n",
       " 'D19_GESAMT_ONLINE_QUOTE_12',\n",
       " 'D19_KONSUMTYP',\n",
       " 'D19_VERSAND_ONLINE_QUOTE_12',\n",
       " 'GEBAEUDETYP_RASTER',\n",
       " 'GEBURTSJAHR',\n",
       " 'GFK_URLAUBERTYP',\n",
       " 'GREEN_AVANTGARDE',\n",
       " 'KBA13_ANZAHL_PKW',\n",
       " 'KONSUMNAEHE',\n",
       " 'LP_FAMILIE_FEIN',\n",
       " 'LP_FAMILIE_GROB',\n",
       " 'LP_LEBENSPHASE_FEIN',\n",
       " 'LP_LEBENSPHASE_GROB',\n",
       " 'LP_STATUS_FEIN',\n",
       " 'LP_STATUS_GROB',\n",
       " 'MIN_GEBAEUDEJAHR',\n",
       " 'MOBI_REGIO',\n",
       " 'ONLINE_AFFINITAET',\n",
       " 'PLZ8_BAUMAX'}"
      ]
     },
     "execution_count": 16,
     "metadata": {},
     "output_type": "execute_result"
    }
   ],
   "source": [
    "def get_non_unknown_meanings(unknown_vals):\n",
    "    df = my_load('DIAS Attributes - Values 2017.xls', func=pd.read_excel)\n",
    "    df.ffill(inplace=True)\n",
    "    \n",
    "    attributes_of_interest = set(df.Attribute.unique()) - set(unknown_vals.index) \n",
    "    return attributes_of_interest\n",
    "\n",
    "cols_with_no_unknowns = get_non_unknown_meanings(unknown_vals)\n",
    "cols_with_no_unknowns"
   ]
  },
  {
   "cell_type": "code",
   "execution_count": 17,
   "metadata": {},
   "outputs": [
    {
     "data": {
      "text/plain": [
       "25"
      ]
     },
     "execution_count": 17,
     "metadata": {},
     "output_type": "execute_result"
    }
   ],
   "source": [
    "len(cols_with_no_unknowns)"
   ]
  },
  {
   "cell_type": "code",
   "execution_count": 18,
   "metadata": {},
   "outputs": [
    {
     "name": "stdout",
     "output_type": "stream",
     "text": [
      "Looks like there are 289 different attributes that need to be addressed in terms of identifying missing values. And, there are 25 columns that don't have missing values indicators\n"
     ]
    }
   ],
   "source": [
    "print(f'Looks like there are {len(set(unknowns.Attribute.values))} \\\n",
    "different attributes that need to be addressed in terms of identifying \\\n",
    "missing values. And, there are {len(cols_with_no_unknowns)} \\\n",
    "columns that don\\'t have missing values indicators')"
   ]
  },
  {
   "cell_type": "markdown",
   "metadata": {},
   "source": [
    "However, upon further inspection, it turns out that there are differences between the columns specified in the Attributes sheet and the columns found in the AZDIAS dataframe. <br>"
   ]
  },
  {
   "cell_type": "code",
   "execution_count": 19,
   "metadata": {},
   "outputs": [],
   "source": [
    "df = azdias.copy()"
   ]
  },
  {
   "cell_type": "code",
   "execution_count": 20,
   "metadata": {},
   "outputs": [],
   "source": [
    "def parse_missing_and_unknown(entry):\n",
    "    def is_number(s):\n",
    "        try:\n",
    "            float(s)\n",
    "            return True\n",
    "        except ValueError:\n",
    "            return False\n",
    "    \n",
    "    lst = entry.split(',')\n",
    "    lst = [float(num) if is_number(num) else num for num in lst]\n",
    "    return lst\n",
    "\n"
   ]
  },
  {
   "cell_type": "code",
   "execution_count": 21,
   "metadata": {},
   "outputs": [
    {
     "name": "stdout",
     "output_type": "stream",
     "text": [
      "For example, There are 42 columns that we can identify nans for but are not available in the AZDIAS dataframe\n",
      "On the other hand, there are 93 columns which we don't have information to identify nans with, since they are not mentioned in the Attribute sheet but available in the AZDIAS dataframe\n",
      "Fortunately, there are 273 columns that overlap and we can identify nans for\n"
     ]
    }
   ],
   "source": [
    "print(f'For example, There are {len(set(unknown_vals.index) - set(df.columns))} columns that we can identify nans for \\\n",
    "but are not available in the AZDIAS dataframe')\n",
    "print(f'On the other hand, there are {len(set(df.columns) - set(unknown_vals.index)  ) - len(cols_with_no_unknowns) - 1} columns which we don\\'t have information to identify nans with, since \\\n",
    "they are not mentioned in the Attribute sheet but available in the AZDIAS dataframe' )\n",
    "print(f'Fortunately, there are {len(set(df.columns) & set(unknown_vals.index)) + len(cols_with_no_unknowns) + 1} columns that overlap and we can identify nans for')"
   ]
  },
  {
   "cell_type": "markdown",
   "metadata": {},
   "source": [
    "In case this is confusing, here is a Venn Diagram to illustrate what we found."
   ]
  },
  {
   "cell_type": "markdown",
   "metadata": {},
   "source": [
    "<img src=\"Venn Diagram.png\" alt=\"Data Types Venn Diagram\" >"
   ]
  },
  {
   "cell_type": "code",
   "execution_count": 22,
   "metadata": {},
   "outputs": [
    {
     "name": "stdout",
     "output_type": "stream",
     "text": [
      "We have 42 columns that are Type I.(irrelevant since we don't have data on it)\n",
      "93 columns of Type II.(most like are going to be dropped as discussed below)\n",
      "And, 273 columns that are of Type III.(what we are looking for)\n"
     ]
    }
   ],
   "source": [
    "print(f'We have {len(set(unknown_vals.index) - set(df.columns))} columns that are Type I.\\\n",
    "(irrelevant since we don\\'t have data on it)')\n",
    "print(f'{len(set(df.columns) - set(unknown_vals.index)  ) - len(cols_with_no_unknowns) - 1} columns of Type II.\\\n",
    "(most like are going to be dropped as discussed below)' )\n",
    "print(f'And, {len(set(df.columns) & set(unknown_vals.index)) + len(cols_with_no_unknowns) + 1} columns that are of Type III.\\\n",
    "(what we are looking for)')"
   ]
  },
  {
   "cell_type": "markdown",
   "metadata": {},
   "source": [
    "On the good side, the majority of the columns can be processed easily, since they are overlapping between the 2 sheets. However, there is a large number of columns that are remaining. Those remaining columns are going to be addressed individually if there turned out to be a need to include them for further analysis. However, most likely, these columns are going to be dropped, because cleanliness of the data that is produced at this step is of top priority. Another reason is that learning models don't perform well (or not at all) with missing values.  "
   ]
  },
  {
   "cell_type": "code",
   "execution_count": 23,
   "metadata": {},
   "outputs": [
    {
     "name": "stdout",
     "output_type": "stream",
     "text": [
      "(891221, 366)\n",
      "Starting Dropping Type II...Completed\n",
      "(891221, 273)\n"
     ]
    }
   ],
   "source": [
    "def clean_data_by_dropping_type_II(df):\n",
    "    print('Starting Dropping Type II...', end='')\n",
    "    unknown_vals = get_unknown_vals()\n",
    "    cols_with_no_unknowns = get_non_unknown_meanings(unknown_vals)\n",
    "    tmp = set(set(df.columns) - (set(unknown_vals.index) | set(cols_with_no_unknowns)))\n",
    "    tmp.remove('LNR')\n",
    "    cols_to_drop = list(tmp)\n",
    "    df = df.drop(columns=cols_to_drop, errors='ignore')\n",
    "    print('Completed')\n",
    "    return df\n",
    "print(df.shape)\n",
    "df = clean_data_by_dropping_type_II(df)\n",
    "print(df.shape)"
   ]
  },
  {
   "cell_type": "code",
   "execution_count": 24,
   "metadata": {},
   "outputs": [
    {
     "name": "stdout",
     "output_type": "stream",
     "text": [
      "These are the remaining columns mentioned above (Type I), which will be ignored as there is no data\n"
     ]
    },
    {
     "data": {
      "text/plain": [
       "{'BIP_FLAG',\n",
       " 'CAMEO_DEUINTL_2015',\n",
       " 'D19_BANKEN_DIREKT_RZ',\n",
       " 'D19_BANKEN_GROSS_RZ',\n",
       " 'D19_BANKEN_LOKAL_RZ',\n",
       " 'D19_BANKEN_REST_RZ',\n",
       " 'D19_BEKLEIDUNG_GEH_RZ',\n",
       " 'D19_BEKLEIDUNG_REST_RZ',\n",
       " 'D19_BILDUNG_RZ',\n",
       " 'D19_BIO_OEKO_RZ',\n",
       " 'D19_BUCH_RZ',\n",
       " 'D19_DIGIT_SERV_RZ',\n",
       " 'D19_DROGERIEARTIKEL_RZ',\n",
       " 'D19_ENERGIE_RZ',\n",
       " 'D19_FREIZEIT_RZ',\n",
       " 'D19_GARTEN_RZ',\n",
       " 'D19_HANDWERK_RZ',\n",
       " 'D19_HAUS_DEKO_RZ',\n",
       " 'D19_KINDERARTIKEL_RZ',\n",
       " 'D19_KK_KUNDENTYP',\n",
       " 'D19_KOSMETIK_RZ',\n",
       " 'D19_LEBENSMITTEL_RZ',\n",
       " 'D19_LOTTO_RZ',\n",
       " 'D19_NAHRUNGSERGAENZUNG_RZ',\n",
       " 'D19_RATGEBER_RZ',\n",
       " 'D19_REISEN_RZ',\n",
       " 'D19_SAMMELARTIKEL_RZ',\n",
       " 'D19_SCHUHE_RZ',\n",
       " 'D19_SONSTIGE_RZ',\n",
       " 'D19_TECHNIK_RZ',\n",
       " 'D19_TELKO_MOBILE_RZ',\n",
       " 'D19_TELKO_REST_RZ',\n",
       " 'D19_TIERARTIKEL_RZ',\n",
       " 'D19_VERSAND_REST_RZ',\n",
       " 'D19_VERSICHERUNGEN_RZ',\n",
       " 'D19_VOLLSORTIMENT_RZ',\n",
       " 'D19_WEIN_FEINKOST_RZ',\n",
       " 'GEOSCORE_KLS7',\n",
       " 'HAUSHALTSSTRUKTUR',\n",
       " 'KBA13_CCM_1400_2500',\n",
       " 'SOHO_FLAG',\n",
       " 'WACHSTUMSGEBIET_NB'}"
      ]
     },
     "execution_count": 24,
     "metadata": {},
     "output_type": "execute_result"
    }
   ],
   "source": [
    "print('These are the remaining columns mentioned above (Type I), which will be ignored as there is no data')\n",
    "set(unknown_vals.index) - set(df.columns) "
   ]
  },
  {
   "cell_type": "code",
   "execution_count": null,
   "metadata": {},
   "outputs": [],
   "source": []
  },
  {
   "cell_type": "code",
   "execution_count": null,
   "metadata": {},
   "outputs": [],
   "source": []
  },
  {
   "cell_type": "code",
   "execution_count": null,
   "metadata": {},
   "outputs": [],
   "source": []
  },
  {
   "cell_type": "code",
   "execution_count": null,
   "metadata": {},
   "outputs": [],
   "source": []
  },
  {
   "cell_type": "code",
   "execution_count": null,
   "metadata": {},
   "outputs": [],
   "source": [
    "\n",
    "\n"
   ]
  },
  {
   "cell_type": "code",
   "execution_count": null,
   "metadata": {},
   "outputs": [],
   "source": []
  },
  {
   "cell_type": "markdown",
   "metadata": {},
   "source": [
    "As mentioned, there are multiple columns that are found in the Attribute sheet and cannot be found in the AZDIAS data (Type I). However, several of those have a very similar corresponding column names. For example, `D19_BANKEN_GROSS_RZ` is found in the Attributes and not in AZDIAS. However, `D19_BANKEN_GROSS` can be found in AZDIAS. There could be several reasons for this. One reason would be that these are different and unrelated columns. However, it is also possible that this is only a mismatch in the column names based on factors like (data storage database or differently located server). In other words, it could represent a lack of synchronization between the 2 files. Another possibility is that these are different stages of storing the same data, or that they were undergone different processing or preprocessing phases<br>\n",
    "Let's count how many of these columns are found"
   ]
  },
  {
   "cell_type": "code",
   "execution_count": 25,
   "metadata": {},
   "outputs": [
    {
     "name": "stdout",
     "output_type": "stream",
     "text": [
      "There are 0 such columns\n"
     ]
    },
    {
     "data": {
      "text/plain": [
       "[]"
      ]
     },
     "execution_count": 25,
     "metadata": {},
     "output_type": "execute_result"
    }
   ],
   "source": [
    "def get_columns_with_similar_names():\n",
    "    lst1 = list(set(unknown_vals.index) - set(df.columns) ) # type I\n",
    "    lst2 = list(set(df.columns) - set(unknown_vals.index) ) # type II\n",
    "    \n",
    "    lst1 = [e[:-3] if e.endswith('_RZ') else e for e in lst1 ] # remove _RZ if col name ends with it\n",
    "    return list(set(lst1) & set(lst2))\n",
    "print(f'There are {len(get_columns_with_similar_names())} such columns')\n",
    "get_columns_with_similar_names()"
   ]
  },
  {
   "cell_type": "markdown",
   "metadata": {},
   "source": [
    "These columns could be used in our analysis. However, it is really hard to prove that the columns found in the Attribute file correspond to the ones that are similar from AZDIAS. Therefore, they are going to be ignored for now. However, if a need arises to use them, then they can be potentially used with careful pre-processing/inspection.<br>\n",
    "<br>\n",
    "For now, we are sticking with the column names that are overlapping between the 2 files (mentioned in Attribute and AZDIAS)<br>\n",
    "The next step is to replace the values specified by the Value column to nans."
   ]
  },
  {
   "cell_type": "code",
   "execution_count": 26,
   "metadata": {},
   "outputs": [],
   "source": [
    "# replace values specified in Attribute with NaNs\n",
    "def clean_data_replace_missing_values_with_nans(df):\n",
    "    for col in list(set(unknown_vals.index) & set(df.columns)):\n",
    "        lst_of_values_to_be_converted_to_nans = parse_missing_and_unknown(unknown_vals['Value'][col])\n",
    "        df.loc[df[col].isin(lst_of_values_to_be_converted_to_nans), col] = np.nan\n",
    "    return df\n",
    "df = clean_data_replace_missing_values_with_nans(df)    "
   ]
  },
  {
   "cell_type": "code",
   "execution_count": 27,
   "metadata": {},
   "outputs": [
    {
     "data": {
      "text/plain": [
       "((891221, 366), (891221, 273))"
      ]
     },
     "execution_count": 27,
     "metadata": {},
     "output_type": "execute_result"
    }
   ],
   "source": [
    "azdias.shape,df.shape"
   ]
  },
  {
   "cell_type": "code",
   "execution_count": 28,
   "metadata": {},
   "outputs": [
    {
     "data": {
      "text/plain": [
       "-1    677503\n",
       " 2     98472\n",
       " 1     79802\n",
       " 3     27104\n",
       " 0      8340\n",
       "Name: AGER_TYP, dtype: int64"
      ]
     },
     "execution_count": 28,
     "metadata": {},
     "output_type": "execute_result"
    }
   ],
   "source": [
    "azdias.AGER_TYP.value_counts()"
   ]
  },
  {
   "cell_type": "code",
   "execution_count": 29,
   "metadata": {},
   "outputs": [
    {
     "data": {
      "text/plain": [
       "2.0    98472\n",
       "1.0    79802\n",
       "3.0    27104\n",
       "0.0     8340\n",
       "Name: AGER_TYP, dtype: int64"
      ]
     },
     "execution_count": 29,
     "metadata": {},
     "output_type": "execute_result"
    }
   ],
   "source": [
    "df.AGER_TYP.value_counts()"
   ]
  },
  {
   "cell_type": "markdown",
   "metadata": {},
   "source": [
    "Looks like missing values are detected and replaced properly. However, there is more cleaning to do. Some columns appear to be categorical, while others appear to be mixed. Careful handling needs to be used to address each of those.<br>\n",
    "However, before we start with that, one thing to do is to investigate the distribution of missing values in the dataset.<br>\n",
    "As can be seen below, the number of rows with no missing values is 0 (even after filtering out the columns that were not cleaned in the previous step)"
   ]
  },
  {
   "cell_type": "code",
   "execution_count": 30,
   "metadata": {},
   "outputs": [],
   "source": [
    "# df = df[list(set(unknown_vals.index) & set(df.columns))]"
   ]
  },
  {
   "cell_type": "code",
   "execution_count": 31,
   "metadata": {},
   "outputs": [
    {
     "data": {
      "text/html": [
       "<div>\n",
       "<style scoped>\n",
       "    .dataframe tbody tr th:only-of-type {\n",
       "        vertical-align: middle;\n",
       "    }\n",
       "\n",
       "    .dataframe tbody tr th {\n",
       "        vertical-align: top;\n",
       "    }\n",
       "\n",
       "    .dataframe thead th {\n",
       "        text-align: right;\n",
       "    }\n",
       "</style>\n",
       "<table border=\"1\" class=\"dataframe\">\n",
       "  <thead>\n",
       "    <tr style=\"text-align: right;\">\n",
       "      <th></th>\n",
       "      <th>LNR</th>\n",
       "      <th>AGER_TYP</th>\n",
       "      <th>ALTER_HH</th>\n",
       "      <th>ANZ_HAUSHALTE_AKTIV</th>\n",
       "      <th>ANZ_HH_TITEL</th>\n",
       "      <th>ANZ_PERSONEN</th>\n",
       "      <th>ANZ_TITEL</th>\n",
       "      <th>BALLRAUM</th>\n",
       "      <th>CAMEO_DEU_2015</th>\n",
       "      <th>CAMEO_DEUG_2015</th>\n",
       "      <th>...</th>\n",
       "      <th>SEMIO_VERT</th>\n",
       "      <th>SHOPPER_TYP</th>\n",
       "      <th>TITEL_KZ</th>\n",
       "      <th>VERS_TYP</th>\n",
       "      <th>W_KEIT_KIND_HH</th>\n",
       "      <th>WOHNDAUER_2008</th>\n",
       "      <th>WOHNLAGE</th>\n",
       "      <th>ZABEOTYP</th>\n",
       "      <th>ANREDE_KZ</th>\n",
       "      <th>ALTERSKATEGORIE_GROB</th>\n",
       "    </tr>\n",
       "  </thead>\n",
       "  <tbody>\n",
       "  </tbody>\n",
       "</table>\n",
       "<p>0 rows × 273 columns</p>\n",
       "</div>"
      ],
      "text/plain": [
       "Empty DataFrame\n",
       "Columns: [LNR, AGER_TYP, ALTER_HH, ANZ_HAUSHALTE_AKTIV, ANZ_HH_TITEL, ANZ_PERSONEN, ANZ_TITEL, BALLRAUM, CAMEO_DEU_2015, CAMEO_DEUG_2015, CJT_GESAMTTYP, D19_BANKEN_ANZ_12, D19_BANKEN_ANZ_24, D19_BANKEN_DATUM, D19_BANKEN_OFFLINE_DATUM, D19_BANKEN_ONLINE_DATUM, D19_BANKEN_ONLINE_QUOTE_12, D19_GESAMT_ANZ_12, D19_GESAMT_ANZ_24, D19_GESAMT_DATUM, D19_GESAMT_OFFLINE_DATUM, D19_GESAMT_ONLINE_DATUM, D19_GESAMT_ONLINE_QUOTE_12, D19_KONSUMTYP, D19_TELKO_ANZ_12, D19_TELKO_ANZ_24, D19_TELKO_DATUM, D19_TELKO_OFFLINE_DATUM, D19_TELKO_ONLINE_DATUM, D19_VERSAND_ANZ_12, D19_VERSAND_ANZ_24, D19_VERSAND_DATUM, D19_VERSAND_OFFLINE_DATUM, D19_VERSAND_ONLINE_DATUM, D19_VERSAND_ONLINE_QUOTE_12, D19_VERSI_ANZ_12, D19_VERSI_ANZ_24, EWDICHTE, FINANZ_ANLEGER, FINANZ_HAUSBAUER, FINANZ_MINIMALIST, FINANZ_SPARER, FINANZ_UNAUFFAELLIGER, FINANZ_VORSORGER, FINANZTYP, GEBAEUDETYP, GEBAEUDETYP_RASTER, GEBURTSJAHR, GFK_URLAUBERTYP, GREEN_AVANTGARDE, HEALTH_TYP, HH_EINKOMMEN_SCORE, INNENSTADT, KBA05_ALTER1, KBA05_ALTER2, KBA05_ALTER3, KBA05_ALTER4, KBA05_ANHANG, KBA05_ANTG1, KBA05_ANTG2, KBA05_ANTG3, KBA05_ANTG4, KBA05_AUTOQUOT, KBA05_BAUMAX, KBA05_CCM1, KBA05_CCM2, KBA05_CCM3, KBA05_CCM4, KBA05_DIESEL, KBA05_FRAU, KBA05_GBZ, KBA05_HERST1, KBA05_HERST2, KBA05_HERST3, KBA05_HERST4, KBA05_HERST5, KBA05_HERSTTEMP, KBA05_KRSAQUOT, KBA05_KRSHERST1, KBA05_KRSHERST2, KBA05_KRSHERST3, KBA05_KRSKLEIN, KBA05_KRSOBER, KBA05_KRSVAN, KBA05_KRSZUL, KBA05_KW1, KBA05_KW2, KBA05_KW3, KBA05_MAXAH, KBA05_MAXBJ, KBA05_MAXHERST, KBA05_MAXSEG, KBA05_MAXVORB, KBA05_MOD1, KBA05_MOD2, KBA05_MOD3, KBA05_MOD4, KBA05_MOD8, KBA05_MODTEMP, KBA05_MOTOR, ...]\n",
       "Index: []\n",
       "\n",
       "[0 rows x 273 columns]"
      ]
     },
     "execution_count": 31,
     "metadata": {},
     "output_type": "execute_result"
    }
   ],
   "source": [
    "df[~df.isnull().any(axis=1)].head()"
   ]
  },
  {
   "cell_type": "markdown",
   "metadata": {},
   "source": [
    "This is just too few. I am suspecting that there is at least one column that contains lots of missing data. So, let's check the percentage of nans in each column "
   ]
  },
  {
   "cell_type": "code",
   "execution_count": 32,
   "metadata": {},
   "outputs": [
    {
     "data": {
      "text/plain": [
       "TITEL_KZ                       99.757636\n",
       "D19_TELKO_ONLINE_DATUM         99.079577\n",
       "D19_BANKEN_OFFLINE_DATUM       97.791120\n",
       "D19_TELKO_ANZ_12               96.271295\n",
       "D19_BANKEN_ANZ_12              93.325225\n",
       "D19_TELKO_ANZ_24               92.705176\n",
       "D19_VERSI_ANZ_12               92.153237\n",
       "D19_TELKO_OFFLINE_DATUM        91.909190\n",
       "D19_BANKEN_ANZ_24              89.102479\n",
       "D19_VERSI_ANZ_24               87.187914\n",
       "D19_BANKEN_ONLINE_DATUM        81.571462\n",
       "D19_BANKEN_DATUM               76.112547\n",
       "AGER_TYP                       76.019640\n",
       "D19_TELKO_DATUM                74.706274\n",
       "D19_VERSAND_ANZ_12             71.584040\n",
       "D19_VERSAND_OFFLINE_DATUM      71.164504\n",
       "D19_GESAMT_ANZ_12              65.617507\n",
       "D19_VERSAND_ANZ_24             63.263545\n",
       "D19_GESAMT_OFFLINE_DATUM       62.673344\n",
       "D19_GESAMT_ANZ_24              56.697834\n",
       "D19_VERSAND_ONLINE_DATUM       55.481637\n",
       "KBA05_BAUMAX                   53.468668\n",
       "D19_GESAMT_ONLINE_DATUM        50.604171\n",
       "D19_VERSAND_DATUM              49.133268\n",
       "D19_GESAMT_DATUM               39.739863\n",
       "ALTER_HH                       34.813699\n",
       "D19_GESAMT_ONLINE_QUOTE_12     28.849522\n",
       "D19_KONSUMTYP                  28.849522\n",
       "D19_BANKEN_ONLINE_QUOTE_12     28.849522\n",
       "D19_VERSAND_ONLINE_QUOTE_12    28.849522\n",
       "KKK                            17.735668\n",
       "REGIOTYP                       17.735668\n",
       "KBA05_AUTOQUOT                 16.619335\n",
       "KBA05_KW1                      16.618774\n",
       "KBA05_KW2                      16.618774\n",
       "KBA05_MOD3                     16.618774\n",
       "KBA05_KRSKLEIN                 16.618774\n",
       "KBA05_MOD2                     16.618774\n",
       "KBA05_MOD1                     16.618774\n",
       "KBA05_MAXVORB                  16.618774\n",
       "KBA05_KRSOBER                  16.618774\n",
       "KBA05_KRSVAN                   16.618774\n",
       "KBA05_MAXSEG                   16.618774\n",
       "KBA05_MAXHERST                 16.618774\n",
       "KBA05_MOD8                     16.618774\n",
       "KBA05_MAXBJ                    16.618774\n",
       "KBA05_KRSZUL                   16.618774\n",
       "KBA05_MAXAH                    16.618774\n",
       "KBA05_KW3                      16.618774\n",
       "KBA05_MOD4                     16.618774\n",
       "                                 ...    \n",
       "EWDICHTE                       10.518154\n",
       "GEBAEUDETYP_RASTER             10.452514\n",
       "ANZ_HAUSHALTE_AKTIV            10.451729\n",
       "WOHNLAGE                       10.451729\n",
       "OST_WEST_KZ                    10.451729\n",
       "KBA05_MODTEMP                  10.451729\n",
       "GEBAEUDETYP                    10.451729\n",
       "MIN_GEBAEUDEJAHR               10.451729\n",
       "KONSUMNAEHE                     8.299737\n",
       "ANZ_TITEL                       8.247000\n",
       "WOHNDAUER_2008                  8.247000\n",
       "ANZ_PERSONEN                    8.247000\n",
       "HH_EINKOMMEN_SCORE              2.058749\n",
       "LP_FAMILIE_FEIN                 0.544646\n",
       "LP_FAMILIE_GROB                 0.544646\n",
       "ONLINE_AFFINITAET               0.544646\n",
       "LP_LEBENSPHASE_FEIN             0.544646\n",
       "LP_STATUS_FEIN                  0.544646\n",
       "GFK_URLAUBERTYP                 0.544646\n",
       "CJT_GESAMTTYP                   0.544646\n",
       "RETOURTYP_BK_S                  0.544646\n",
       "LP_STATUS_GROB                  0.544646\n",
       "LP_LEBENSPHASE_GROB             0.544646\n",
       "ALTERSKATEGORIE_GROB            0.000000\n",
       "FINANZ_ANLEGER                  0.000000\n",
       "FINANZ_HAUSBAUER                0.000000\n",
       "ZABEOTYP                        0.000000\n",
       "SEMIO_VERT                      0.000000\n",
       "SEMIO_TRADV                     0.000000\n",
       "SEMIO_SOZ                       0.000000\n",
       "SEMIO_REL                       0.000000\n",
       "SEMIO_RAT                       0.000000\n",
       "SEMIO_PFLICHT                   0.000000\n",
       "SEMIO_MAT                       0.000000\n",
       "SEMIO_LUST                      0.000000\n",
       "SEMIO_KULT                      0.000000\n",
       "SEMIO_KRIT                      0.000000\n",
       "SEMIO_KAEM                      0.000000\n",
       "SEMIO_FAM                       0.000000\n",
       "SEMIO_ERL                       0.000000\n",
       "SEMIO_DOM                       0.000000\n",
       "ANREDE_KZ                       0.000000\n",
       "GREEN_AVANTGARDE                0.000000\n",
       "GEBURTSJAHR                     0.000000\n",
       "FINANZTYP                       0.000000\n",
       "FINANZ_VORSORGER                0.000000\n",
       "FINANZ_UNAUFFAELLIGER           0.000000\n",
       "FINANZ_SPARER                   0.000000\n",
       "FINANZ_MINIMALIST               0.000000\n",
       "LNR                             0.000000\n",
       "Length: 273, dtype: float64"
      ]
     },
     "execution_count": 32,
     "metadata": {},
     "output_type": "execute_result"
    }
   ],
   "source": [
    "num_of_nans = df.isnull().sum().sort_values(ascending=False) / len(df.index) * 100\n",
    "num_of_nans"
   ]
  },
  {
   "cell_type": "code",
   "execution_count": 33,
   "metadata": {},
   "outputs": [
    {
     "data": {
      "image/png": "[encoded data removed]",
      "text/plain": [
       "<Figure size 432x288 with 1 Axes>"
      ]
     },
     "metadata": {
      "needs_background": "light"
     },
     "output_type": "display_data"
    }
   ],
   "source": [
    "num_of_nans.plot();\n",
    "plt.title('Percentage of Missing Values per Column');"
   ]
  },
  {
   "cell_type": "code",
   "execution_count": 34,
   "metadata": {},
   "outputs": [
    {
     "name": "stdout",
     "output_type": "stream",
     "text": [
      "Starting ... 0.00sec\n",
      "000\tTITEL_KZ\t5.46sec\n",
      "001\tD19_TELKO_ONLINE_DATUM\t10.98sec\n",
      "002\tD19_BANKEN_OFFLINE_DATUM\t16.38sec\n",
      "003\tD19_TELKO_ANZ_12\t21.80sec\n",
      "004\tD19_BANKEN_ANZ_12\t27.18sec\n",
      "005\tD19_TELKO_ANZ_24\t32.52sec\n",
      "006\tD19_VERSI_ANZ_12\t37.84sec\n",
      "007\tD19_TELKO_OFFLINE_DATUM\t43.13sec\n",
      "008\tD19_BANKEN_ANZ_24\t48.41sec\n",
      "009\tD19_VERSI_ANZ_24\t53.71sec\n",
      "010\tD19_BANKEN_ONLINE_DATUM\t58.96sec\n",
      "011\tD19_BANKEN_DATUM\t64.21sec\n",
      "012\tAGER_TYP\t69.49sec\n",
      "013\tD19_TELKO_DATUM\t74.92sec\n",
      "014\tD19_VERSAND_ANZ_12\t80.19sec\n",
      "015\tD19_VERSAND_OFFLINE_DATUM\t85.51sec\n",
      "016\tD19_GESAMT_ANZ_12\t90.82sec\n",
      "017\tD19_VERSAND_ANZ_24\t96.10sec\n",
      "018\tD19_GESAMT_OFFLINE_DATUM\t101.29sec\n",
      "019\tD19_GESAMT_ANZ_24\t106.50sec\n",
      "020\tD19_VERSAND_ONLINE_DATUM\t111.75sec\n",
      "021\tKBA05_BAUMAX\t117.03sec\n",
      "022\tD19_GESAMT_ONLINE_DATUM\t122.26sec\n",
      "023\tD19_VERSAND_DATUM\t127.47sec\n",
      "024\tD19_GESAMT_DATUM\t132.68sec\n",
      "025\tALTER_HH\t137.97sec\n",
      "026\tD19_GESAMT_ONLINE_QUOTE_12\t143.27sec\n",
      "027\tD19_KONSUMTYP\t148.43sec\n",
      "028\tD19_BANKEN_ONLINE_QUOTE_12\t153.65sec\n",
      "029\tD19_VERSAND_ONLINE_QUOTE_12\t158.92sec\n",
      "030\tKKK\t164.11sec\n",
      "031\tREGIOTYP\t169.26sec\n",
      "032\tKBA05_AUTOQUOT\t174.40sec\n",
      "033\tKBA05_KW1\t179.58sec\n",
      "034\tKBA05_KW2\t184.75sec\n",
      "035\tKBA05_MOD3\t189.84sec\n",
      "036\tKBA05_KRSKLEIN\t194.93sec\n",
      "037\tKBA05_MOD2\t200.05sec\n",
      "038\tKBA05_MOD1\t205.17sec\n",
      "039\tKBA05_MAXVORB\t210.17sec\n",
      "040\tKBA05_KRSOBER\t215.13sec\n",
      "041\tKBA05_KRSVAN\t220.09sec\n",
      "042\tKBA05_MAXSEG\t224.98sec\n",
      "043\tKBA05_MAXHERST\t230.05sec\n",
      "044\tKBA05_MOD8\t235.03sec\n",
      "045\tKBA05_MAXBJ\t239.99sec\n",
      "046\tKBA05_KRSZUL\t244.92sec\n",
      "047\tKBA05_MAXAH\t249.81sec\n",
      "048\tKBA05_KW3\t254.66sec\n",
      "049\tKBA05_MOD4\t259.53sec\n",
      "050\tKBA05_SEG10\t264.33sec\n",
      "051\tKBA05_MOTOR\t269.13sec\n",
      "052\tKBA05_SEG8\t273.86sec\n",
      "053\tKBA05_ZUL3\t278.57sec\n",
      "054\tKBA05_ZUL2\t283.24sec\n",
      "055\tKBA05_ZUL1\t287.86sec\n",
      "056\tKBA05_VORB2\t292.51sec\n",
      "057\tKBA05_VORB1\t297.16sec\n",
      "058\tKBA05_VORB0\t301.75sec\n",
      "059\tKBA05_SEG9\t306.35sec\n",
      "060\tKBA05_KRSHERST2\t310.91sec\n",
      "061\tKBA05_SEG1\t315.48sec\n",
      "062\tKBA05_SEG7\t320.01sec\n",
      "063\tKBA05_SEG6\t324.50sec\n",
      "064\tKBA05_ZUL4\t329.01sec\n",
      "065\tKBA05_SEG5\t333.46sec\n",
      "066\tKBA05_SEG4\t337.92sec\n",
      "067\tKBA05_SEG3\t342.33sec\n",
      "068\tKBA05_SEG2\t346.72sec\n",
      "069\tKBA05_KRSHERST3\t351.13sec\n",
      "070\tKBA05_HERST4\t355.42sec\n",
      "071\tKBA05_KRSHERST1\t359.91sec\n",
      "072\tKBA05_DIESEL\t364.41sec\n",
      "073\tKBA05_ALTER1\t368.74sec\n",
      "074\tKBA05_ALTER2\t373.15sec\n",
      "075\tKBA05_ALTER3\t377.39sec\n",
      "076\tKBA05_ALTER4\t381.65sec\n",
      "077\tKBA05_KRSAQUOT\t385.96sec\n",
      "078\tKBA05_CCM2\t390.20sec\n",
      "079\tKBA05_CCM3\t394.36sec\n",
      "080\tKBA05_CCM4\t398.50sec\n",
      "081\tKBA05_CCM1\t402.73sec\n",
      "082\tKBA05_FRAU\t406.89sec\n",
      "083\tKBA05_HERST3\t411.01sec\n",
      "084\tKBA05_HERST1\t415.08sec\n",
      "085\tKBA05_HERST2\t419.14sec\n",
      "086\tKBA05_HERST5\t423.16sec\n",
      "087\tW_KEIT_KIND_HH\t427.11sec\n",
      "088\tKBA05_ANHANG\t431.06sec\n",
      "089\tKBA05_MOTRAD\t435.03sec\n",
      "090\tKBA05_ANTG1\t438.95sec\n",
      "091\tKBA05_GBZ\t442.88sec\n",
      "092\tKBA05_ANTG2\t446.79sec\n",
      "093\tKBA05_ANTG3\t450.74sec\n",
      "094\tKBA05_ANTG4\t454.69sec\n",
      "095\tMOBI_REGIO\t458.61sec\n",
      "096\tPLZ8_HHZ\t462.40sec\n",
      "097\tPLZ8_GBZ\t466.25sec\n",
      "098\tPLZ8_BAUMAX\t470.06sec\n",
      "099\tPLZ8_ANTG4\t473.78sec\n",
      "100\tPLZ8_ANTG3\t477.53sec\n",
      "101\tPLZ8_ANTG2\t481.30sec\n",
      "102\tPLZ8_ANTG1\t484.98sec\n",
      "103\tSHOPPER_TYP\t488.72sec\n",
      "104\tHEALTH_TYP\t492.46sec\n",
      "105\tVERS_TYP\t496.12sec\n",
      "106\tKBA05_HERSTTEMP\t499.74sec\n",
      "107\tNATIONALITAET_KZ\t503.45sec\n",
      "108\tPRAEGENDE_JUGENDJAHRE\t507.03sec\n",
      "109\tKBA13_CCM_1600\t510.60sec\n",
      "110\tKBA13_BJ_2008\t514.22sec\n",
      "111\tKBA13_CCM_1400\t517.70sec\n",
      "112\tKBA13_CCM_1200\t521.23sec\n",
      "113\tKBA13_CCM_1000\t524.70sec\n",
      "114\tKBA13_CCM_1800\t528.24sec\n",
      "115\tKBA13_CCM_0_1400\t531.68sec\n",
      "116\tKBA13_BMW\t535.17sec\n",
      "117\tKBA13_BJ_2009\t538.55sec\n",
      "118\tKBA13_BJ_2000\t541.93sec\n",
      "119\tKBA13_BJ_2006\t545.30sec\n",
      "120\tKBA13_BJ_2004\t548.59sec\n",
      "121\tKBA13_BJ_1999\t551.89sec\n",
      "122\tKBA13_AUTOQUOTE\t555.22sec\n",
      "123\tKBA13_AUDI\t558.50sec\n",
      "124\tKBA13_ANZAHL_PKW\t561.76sec\n",
      "125\tKBA13_ALTERHALTER_61\t565.10sec\n",
      "126\tKBA13_ALTERHALTER_60\t568.31sec\n",
      "127\tKBA13_ALTERHALTER_45\t571.44sec\n",
      "128\tKBA13_ALTERHALTER_30\t574.63sec\n",
      "129\tKBA13_CCM_2500\t577.83sec\n",
      "130\tKBA13_CCM_2000\t580.99sec\n",
      "131\tKBA13_CCM_1500\t584.16sec\n",
      "132\tKBA13_CCM_2501\t587.27sec\n",
      "133\tKBA13_MOTOR\t590.31sec\n",
      "134\tKBA13_SEG_KLEINWAGEN\t593.32sec\n",
      "135\tKBA13_SEG_KLEINST\t596.35sec\n",
      "136\tKBA13_SEG_GROSSRAUMVANS\t599.37sec\n",
      "137\tKBA13_SEG_GELAENDEWAGEN\t602.39sec\n",
      "138\tKBA13_RENAULT\t605.36sec\n",
      "139\tKBA13_CCM_3000\t608.32sec\n",
      "140\tKBA13_OPEL\t611.25sec\n",
      "141\tKBA13_NISSAN\t614.18sec\n",
      "142\tKBA13_MERCEDES\t617.05sec\n",
      "143\tKBA13_KW_121\t619.87sec\n",
      "144\tKBA13_MAZDA\t622.77sec\n",
      "145\tKBA13_KW_90\t625.63sec\n",
      "146\tKBA13_KW_80\t628.45sec\n",
      "147\tKBA13_KW_70\t631.28sec\n",
      "148\tKBA13_KW_61_120\t634.06sec\n",
      "149\tKBA13_KW_60\t636.77sec\n",
      "150\tKBA13_KW_50\t639.53sec\n",
      "151\tKBA13_KW_40\t642.26sec\n",
      "152\tKBA13_SEG_KOMPAKTKLASSE\t644.92sec\n",
      "153\tKBA13_SEG_MINIVANS\t647.62sec\n",
      "154\tKBA13_SEG_MINIWAGEN\t650.26sec\n",
      "155\tKBA13_SEG_MITTELKLASSE\t652.87sec\n",
      "156\tKBA13_VW\t655.53sec\n",
      "157\tKBA13_VORB_3\t658.08sec\n",
      "158\tKBA13_VORB_2\t660.62sec\n",
      "159\tKBA13_VORB_1_2\t663.23sec\n",
      "160\tKBA13_VORB_1\t665.77sec\n",
      "161\tKBA13_VORB_0\t668.29sec\n",
      "162\tKBA13_TOYOTA\t670.72sec\n",
      "163\tKBA13_SITZE_6\t673.22sec\n",
      "164\tKBA13_SITZE_5\t675.63sec\n",
      "165\tKBA13_SITZE_4\t678.08sec\n",
      "166\tKBA13_SEG_WOHNMOBILE\t680.47sec\n",
      "167\tKBA13_SEG_VAN\t682.79sec\n",
      "168\tKBA13_SEG_UTILITIES\t685.23sec\n",
      "169\tKBA13_SEG_SPORTWAGEN\t687.55sec\n",
      "170\tKBA13_SEG_SONSTIGE\t689.83sec\n",
      "171\tKBA13_SEG_OBERKLASSE\t692.20sec\n",
      "172\tKBA13_SEG_OBEREMITTELKLASSE\t694.49sec\n",
      "173\tKBA13_KW_30\t696.73sec\n",
      "174\tKBA13_PEUGEOT\t698.99sec\n",
      "175\tKBA13_HALTER_20\t701.27sec\n",
      "176\tKBA13_HALTER_45\t703.49sec\n",
      "177\tKBA13_HERST_BMW_BENZ\t705.64sec\n",
      "178\tKBA13_HERST_AUDI_VW\t707.77sec\n",
      "179\tKBA13_HERST_ASIEN\t709.94sec\n",
      "180\tKBA13_HALTER_66\t712.12sec\n",
      "181\tKBA13_HALTER_65\t714.26sec\n",
      "182\tKBA13_HALTER_60\t716.34sec\n",
      "183\tKBA13_HALTER_55\t718.40sec\n",
      "184\tKBA13_HALTER_50\t720.43sec\n",
      "185\tKBA13_HALTER_40\t722.42sec\n",
      "186\tKBA13_HERST_FORD_OPEL\t724.42sec\n",
      "187\tKBA13_HALTER_35\t726.42sec\n",
      "188\tKBA13_HALTER_30\t728.41sec\n",
      "189\tKBA13_KW_120\t730.39sec\n",
      "190\tKBA13_FORD\t732.30sec\n",
      "191\tKBA13_FIAT\t734.21sec\n",
      "192\tKBA13_FAB_SONSTIGE\t736.10sec\n",
      "193\tKBA13_FAB_ASIEN\t737.91sec\n",
      "194\tKBA13_CCM_3001\t739.74sec\n",
      "195\tKBA13_HERST_EUROPA\t741.50sec\n",
      "196\tKBA13_HALTER_25\t743.29sec\n",
      "197\tKBA13_HERST_SONST\t745.10sec\n",
      "198\tKBA13_KRSHERST_AUDI_VW\t746.81sec\n",
      "199\tKBA13_KMH_0_140\t748.51sec\n",
      "200\tKBA13_KW_110\t750.19sec\n",
      "201\tKBA13_KW_0_60\t751.80sec\n",
      "202\tKBA13_KRSZUL_NEU\t753.44sec\n",
      "203\tKBA13_KRSSEG_OBER\t755.23sec\n",
      "204\tKBA13_KRSSEG_KLEIN\t756.82sec\n",
      "205\tKBA13_KRSHERST_FORD_OPEL\t758.37sec\n",
      "206\tKBA13_KRSHERST_BMW_BENZ\t759.95sec\n",
      "207\tKBA13_KRSSEG_VAN\t761.46sec\n",
      "208\tKBA13_KRSAQUOT\t762.91sec\n",
      "209\tKBA13_KMH_110\t764.39sec\n",
      "210\tKBA13_KMH_250\t765.83sec\n",
      "211\tKBA13_KMH_211\t767.25sec\n",
      "212\tKBA13_KMH_180\t768.67sec\n",
      "213\tKBA13_KMH_140_210\t770.07sec\n",
      "214\tKBA13_KMH_140\t771.40sec\n",
      "215\tKBA13_KMH_251\t772.73sec\n",
      "216\tCAMEO_DEUG_2015\t774.00sec\n",
      "217\tCAMEO_DEU_2015\t775.21sec\n",
      "218\tRELAT_AB\t776.38sec\n",
      "219\tORTSGR_KLS9\t777.55sec\n",
      "220\tANZ_HH_TITEL\t778.72sec\n",
      "221\tINNENSTADT\t779.82sec\n",
      "222\tBALLRAUM\t780.88sec\n",
      "223\tEWDICHTE\t781.97sec\n",
      "224\tGEBAEUDETYP_RASTER\t783.02sec\n",
      "225\tANZ_HAUSHALTE_AKTIV\t784.07sec\n",
      "226\tWOHNLAGE\t785.11sec\n",
      "227\tOST_WEST_KZ\t786.06sec\n",
      "228\tKBA05_MODTEMP\t786.93sec\n",
      "229\tGEBAEUDETYP\t787.88sec\n",
      "230\tMIN_GEBAEUDEJAHR\t788.71sec\n",
      "231\tKONSUMNAEHE\t789.56sec\n",
      "232\tANZ_TITEL\t790.39sec\n",
      "233\tWOHNDAUER_2008\t791.22sec\n",
      "234\tANZ_PERSONEN\t791.98sec\n",
      "235\tHH_EINKOMMEN_SCORE\t792.78sec\n",
      "236\tLP_FAMILIE_FEIN\t793.50sec\n",
      "237\tLP_FAMILIE_GROB\t794.22sec\n",
      "238\tONLINE_AFFINITAET\t794.95sec\n",
      "239\tLP_LEBENSPHASE_FEIN\t795.75sec\n",
      "240\tLP_STATUS_FEIN\t796.47sec\n",
      "241\tGFK_URLAUBERTYP\t797.18sec\n",
      "242\tCJT_GESAMTTYP\t797.83sec\n",
      "243\tRETOURTYP_BK_S\t798.47sec\n",
      "244\tLP_STATUS_GROB\t799.11sec\n",
      "245\tLP_LEBENSPHASE_GROB\t799.71sec\n",
      "246\tALTERSKATEGORIE_GROB\t800.27sec\n",
      "247\tFINANZ_ANLEGER\t800.81sec\n",
      "248\tFINANZ_HAUSBAUER\t801.36sec\n",
      "249\tZABEOTYP\t801.88sec\n",
      "250\tSEMIO_VERT\t802.37sec\n",
      "251\tSEMIO_TRADV\t802.83sec\n",
      "252\tSEMIO_SOZ\t803.27sec\n",
      "253\tSEMIO_REL\t803.72sec\n",
      "254\tSEMIO_RAT\t804.18sec\n",
      "255\tSEMIO_PFLICHT\t804.57sec\n",
      "256\tSEMIO_MAT\t804.97sec\n",
      "257\tSEMIO_LUST\t805.43sec\n",
      "258\tSEMIO_KULT\t805.77sec\n",
      "259\tSEMIO_KRIT\t806.18sec\n",
      "260\tSEMIO_KAEM\t806.45sec\n",
      "261\tSEMIO_FAM\t806.71sec\n",
      "262\tSEMIO_ERL\t806.96sec\n",
      "263\tSEMIO_DOM\t807.20sec\n",
      "264\tANREDE_KZ\t807.39sec\n",
      "265\tGREEN_AVANTGARDE\t807.57sec\n",
      "266\tGEBURTSJAHR\t807.71sec\n",
      "267\tFINANZTYP\t807.84sec\n",
      "268\tFINANZ_VORSORGER\t807.95sec\n",
      "269\tFINANZ_UNAUFFAELLIGER\t808.06sec\n",
      "270\tFINANZ_SPARER\t808.13sec\n",
      "271\tFINANZ_MINIMALIST\t808.16sec\n",
      "272\tLNR\t808.18sec\n"
     ]
    }
   ],
   "source": [
    "import pickle\n",
    "def get_remaining_after_dropping_columns(df, num_of_nans):\n",
    "    times = []\n",
    "    \n",
    "    tmp = df.copy()\n",
    "    initial_count_of_nans = tmp.count().sum()\n",
    "    counts_of_non_nans = [100.]\n",
    "    num_of_rows_without_nans = [0]\n",
    "    t0 = time.time()\n",
    "    times.append(t0)\n",
    "    print(f'Starting ... {time.time() - t0:0.2f}sec')\n",
    "    \n",
    "    for i, col in enumerate(num_of_nans.index):\n",
    "        print(f'{i:03d}\\t{col}', end='\\t')\n",
    "        tmp = tmp.drop(columns=[col])\n",
    "        try:\n",
    "            counts_of_non_nans.append(tmp.count().sum()*100/initial_count_of_nans)\n",
    "            num_of_rows_without_nans.append(len(tmp[~tmp.isnull().any(axis=1)].index))\n",
    "        except Exception as e:\n",
    "            print(str(e))\n",
    "        new_time = time.time()-t0\n",
    "        times.append(new_time)\n",
    "        print(f'{new_time:0.2f}sec') \n",
    "    \n",
    "    stored = {'times': times,\n",
    "              'result': (counts_of_non_nans, initial_count_of_nans, num_of_rows_without_nans)\n",
    "             }\n",
    "    pickle.dump(stored, open(os.path.join('pickles', 'remaining_after_drop.pickle'), 'wb'))\n",
    "    \n",
    "    return counts_of_non_nans, initial_count_of_nans, num_of_rows_without_nans\n",
    "\n",
    "try:\n",
    "    stored = pickle.load(open(os.path.join('pickles', 'remaining_after_drop.pickle'),'rb'))\n",
    "    times = stored['times']\n",
    "    counts_of_non_nans, initial_count_of_nans, num_of_rows_without_nans = stored['result']\n",
    "    \n",
    "    print('Starting ... 0.00sec')\n",
    "    for i, col in enumerate(num_of_nans.index):\n",
    "        print(f'{i:03d}\\t{col}\\t{times[i+1]:0.2f}sec')\n",
    "except (OSError, IOError) as e:\n",
    "    counts_of_non_nans, initial_count_of_nans, num_of_rows_without_nans = get_remaining_after_dropping_columns(df, num_of_nans)"
   ]
  },
  {
   "cell_type": "code",
   "execution_count": 35,
   "metadata": {},
   "outputs": [
    {
     "data": {
      "image/png": "[encoded data removed]",
      "text/plain": [
       "<Figure size 432x288 with 1 Axes>"
      ]
     },
     "metadata": {
      "needs_background": "light"
     },
     "output_type": "display_data"
    }
   ],
   "source": [
    "plt.plot(range(len(counts_of_non_nans)), counts_of_non_nans);\n",
    "plt.title('Percentage of Non-NaNs vs # of Dropped Columns');\n",
    "plt.ylabel('% of Remaining Non-NaNs');\n",
    "plt.xlabel('# of Dropped Columns');"
   ]
  },
  {
   "cell_type": "code",
   "execution_count": 36,
   "metadata": {},
   "outputs": [
    {
     "data": {
      "image/png": "[encoded data removed]",
      "text/plain": [
       "<Figure size 432x288 with 1 Axes>"
      ]
     },
     "metadata": {
      "needs_background": "light"
     },
     "output_type": "display_data"
    }
   ],
   "source": [
    "plt.plot(range(len(counts_of_non_nans[:50])), counts_of_non_nans[:50]);\n",
    "plt.title('Percentage of Non-NaNs vs # of Dropped Columns');\n",
    "plt.ylabel('% of Remaining Non-NaNs');\n",
    "plt.xlabel('# of Dropped Columns');"
   ]
  },
  {
   "cell_type": "markdown",
   "metadata": {},
   "source": [
    "Looks like the drop of starts around 25 columns. That means that even after dropping the top 25 columns with the most amount of missing values, we get to  used about 96% of the data found in the data set"
   ]
  },
  {
   "cell_type": "code",
   "execution_count": 37,
   "metadata": {},
   "outputs": [
    {
     "data": {
      "image/png": "[encoded data removed]",
      "text/plain": [
       "<Figure size 432x288 with 1 Axes>"
      ]
     },
     "metadata": {
      "needs_background": "light"
     },
     "output_type": "display_data"
    }
   ],
   "source": [
    "plt.plot(range(len(num_of_rows_without_nans)), num_of_rows_without_nans);\n",
    "plt.title('Percentage of Non-NaNs vs # of Dropped Columns');\n",
    "plt.ylabel('% of Remaining Non-NaNs');\n",
    "plt.xlabel('# of Dropped Columns');"
   ]
  },
  {
   "cell_type": "code",
   "execution_count": 38,
   "metadata": {},
   "outputs": [
    {
     "data": {
      "image/png": "[encoded data removed]",
      "text/plain": [
       "<Figure size 432x288 with 1 Axes>"
      ]
     },
     "metadata": {
      "needs_background": "light"
     },
     "output_type": "display_data"
    }
   ],
   "source": [
    "plt.plot(range(len(num_of_rows_without_nans[:40])), num_of_rows_without_nans[:40]);\n",
    "plt.title('Percentage of Non-NaNs vs # of Dropped Columns');\n",
    "plt.ylabel('% of Remaining Non-NaNs');\n",
    "plt.xlabel('# of Dropped Columns');"
   ]
  },
  {
   "cell_type": "markdown",
   "metadata": {},
   "source": [
    "A similar conclusion can be drawn from counting the number of remaining rows with no missing values after dropping the columns. Looks like we need to zoom in to decide on the exact number"
   ]
  },
  {
   "cell_type": "code",
   "execution_count": 39,
   "metadata": {},
   "outputs": [
    {
     "data": {
      "image/png": "[encoded data removed]",
      "text/plain": [
       "<Figure size 432x288 with 1 Axes>"
      ]
     },
     "metadata": {
      "needs_background": "light"
     },
     "output_type": "display_data"
    }
   ],
   "source": [
    "plt.plot(range(20, len(num_of_rows_without_nans[:40])), num_of_rows_without_nans[20:40]);\n",
    "plt.title('Percentage of Non-NaNs vs # of Dropped Columns');\n",
    "plt.ylabel('% of Remaining Non-NaNs');\n",
    "plt.xlabel('# of Dropped Columns');\n",
    "plt.xticks(np.arange(20,40));\n",
    "plt.grid()"
   ]
  },
  {
   "cell_type": "markdown",
   "metadata": {},
   "source": [
    "It turns out that our magic number is 30. (drop the top most 30 columns with nans)<br>\n",
    "These are the columns to be dropped"
   ]
  },
  {
   "cell_type": "code",
   "execution_count": 40,
   "metadata": {},
   "outputs": [
    {
     "data": {
      "text/plain": [
       "['TITEL_KZ',\n",
       " 'D19_TELKO_ONLINE_DATUM',\n",
       " 'D19_BANKEN_OFFLINE_DATUM',\n",
       " 'D19_TELKO_ANZ_12',\n",
       " 'D19_BANKEN_ANZ_12',\n",
       " 'D19_TELKO_ANZ_24',\n",
       " 'D19_VERSI_ANZ_12',\n",
       " 'D19_TELKO_OFFLINE_DATUM',\n",
       " 'D19_BANKEN_ANZ_24',\n",
       " 'D19_VERSI_ANZ_24',\n",
       " 'D19_BANKEN_ONLINE_DATUM',\n",
       " 'D19_BANKEN_DATUM',\n",
       " 'AGER_TYP',\n",
       " 'D19_TELKO_DATUM',\n",
       " 'D19_VERSAND_ANZ_12',\n",
       " 'D19_VERSAND_OFFLINE_DATUM',\n",
       " 'D19_GESAMT_ANZ_12',\n",
       " 'D19_VERSAND_ANZ_24',\n",
       " 'D19_GESAMT_OFFLINE_DATUM',\n",
       " 'D19_GESAMT_ANZ_24',\n",
       " 'D19_VERSAND_ONLINE_DATUM',\n",
       " 'KBA05_BAUMAX',\n",
       " 'D19_GESAMT_ONLINE_DATUM',\n",
       " 'D19_VERSAND_DATUM',\n",
       " 'D19_GESAMT_DATUM',\n",
       " 'ALTER_HH',\n",
       " 'D19_GESAMT_ONLINE_QUOTE_12',\n",
       " 'D19_KONSUMTYP',\n",
       " 'D19_BANKEN_ONLINE_QUOTE_12',\n",
       " 'D19_VERSAND_ONLINE_QUOTE_12']"
      ]
     },
     "execution_count": 40,
     "metadata": {},
     "output_type": "execute_result"
    }
   ],
   "source": [
    "num_of_nans.index.values.tolist()[:30]"
   ]
  },
  {
   "cell_type": "code",
   "execution_count": 127,
   "metadata": {},
   "outputs": [],
   "source": [
    "def clean_data_by_dropping_cols_with_many_nans(df):\n",
    "    print('Starting Dropping Columns with Many NaNs...', end='')\n",
    "    df = df.drop(columns=num_of_nans.index.values.tolist()[:30], errors='ignore')\n",
    "    df = df.drop(columns=['LNR'] )\n",
    "    print('Completed')\n",
    "    return df\n",
    "#df = clean_data_by_dropping_cols_with_many_nans(df)"
   ]
  },
  {
   "cell_type": "markdown",
   "metadata": {},
   "source": [
    "Now that we have identified missing values for the numerical columns, let's take a look at columns of type string"
   ]
  },
  {
   "cell_type": "code",
   "execution_count": 42,
   "metadata": {},
   "outputs": [
    {
     "data": {
      "text/html": [
       "<div>\n",
       "<style scoped>\n",
       "    .dataframe tbody tr th:only-of-type {\n",
       "        vertical-align: middle;\n",
       "    }\n",
       "\n",
       "    .dataframe tbody tr th {\n",
       "        vertical-align: top;\n",
       "    }\n",
       "\n",
       "    .dataframe thead th {\n",
       "        text-align: right;\n",
       "    }\n",
       "</style>\n",
       "<table border=\"1\" class=\"dataframe\">\n",
       "  <thead>\n",
       "    <tr style=\"text-align: right;\">\n",
       "      <th></th>\n",
       "      <th>CAMEO_DEU_2015</th>\n",
       "      <th>CAMEO_DEUG_2015</th>\n",
       "      <th>OST_WEST_KZ</th>\n",
       "    </tr>\n",
       "  </thead>\n",
       "  <tbody>\n",
       "    <tr>\n",
       "      <th>0</th>\n",
       "      <td>NaN</td>\n",
       "      <td>NaN</td>\n",
       "      <td>NaN</td>\n",
       "    </tr>\n",
       "    <tr>\n",
       "      <th>1</th>\n",
       "      <td>8A</td>\n",
       "      <td>8</td>\n",
       "      <td>W</td>\n",
       "    </tr>\n",
       "    <tr>\n",
       "      <th>2</th>\n",
       "      <td>4C</td>\n",
       "      <td>4</td>\n",
       "      <td>W</td>\n",
       "    </tr>\n",
       "    <tr>\n",
       "      <th>3</th>\n",
       "      <td>2A</td>\n",
       "      <td>2</td>\n",
       "      <td>W</td>\n",
       "    </tr>\n",
       "    <tr>\n",
       "      <th>4</th>\n",
       "      <td>6B</td>\n",
       "      <td>6</td>\n",
       "      <td>W</td>\n",
       "    </tr>\n",
       "  </tbody>\n",
       "</table>\n",
       "</div>"
      ],
      "text/plain": [
       "  CAMEO_DEU_2015 CAMEO_DEUG_2015 OST_WEST_KZ\n",
       "0            NaN             NaN         NaN\n",
       "1             8A               8           W\n",
       "2             4C               4           W\n",
       "3             2A               2           W\n",
       "4             6B               6           W"
      ]
     },
     "execution_count": 42,
     "metadata": {},
     "output_type": "execute_result"
    }
   ],
   "source": [
    "df.select_dtypes(include='object').head()"
   ]
  },
  {
   "cell_type": "code",
   "execution_count": 43,
   "metadata": {},
   "outputs": [
    {
     "name": "stdout",
     "output_type": "stream",
     "text": [
      "Looks like there are 3 such columns\n",
      "['CAMEO_DEU_2015' 'CAMEO_DEUG_2015' 'OST_WEST_KZ']\n"
     ]
    }
   ],
   "source": [
    "tmp = df.select_dtypes(include=\"object\").columns.values\n",
    "print(f'Looks like there are {len(tmp)} such columns')\n",
    "print(tmp)"
   ]
  },
  {
   "cell_type": "markdown",
   "metadata": {},
   "source": [
    "Let us consider the values for the first of those columns"
   ]
  },
  {
   "cell_type": "code",
   "execution_count": 44,
   "metadata": {},
   "outputs": [
    {
     "data": {
      "text/plain": [
       "6B    56672\n",
       "8A    52438\n",
       "4C    47819\n",
       "2D    35074\n",
       "3C    34769\n",
       "7A    34399\n",
       "3D    34307\n",
       "8B    33434\n",
       "4A    33155\n",
       "8C    30993\n",
       "9D    28593\n",
       "9B    27676\n",
       "9C    24987\n",
       "7B    24503\n",
       "9A    20542\n",
       "2C    19422\n",
       "8D    17576\n",
       "6E    16107\n",
       "2B    15486\n",
       "5D    14943\n",
       "6C    14820\n",
       "2A    13249\n",
       "5A    12214\n",
       "1D    11909\n",
       "1A    10850\n",
       "3A    10543\n",
       "5B    10354\n",
       "5C     9935\n",
       "7C     9065\n",
       "4B     9047\n",
       "4D     8570\n",
       "3B     7160\n",
       "6A     6810\n",
       "9E     6379\n",
       "6D     6073\n",
       "6F     5392\n",
       "7D     5333\n",
       "4E     5321\n",
       "1E     5065\n",
       "7E     4633\n",
       "1C     4317\n",
       "5F     4283\n",
       "1B     4071\n",
       "5E     3581\n",
       "XX      373\n",
       "Name: CAMEO_DEU_2015, dtype: int64"
      ]
     },
     "execution_count": 44,
     "metadata": {},
     "output_type": "execute_result"
    }
   ],
   "source": [
    "df.CAMEO_DEU_2015.value_counts()"
   ]
  },
  {
   "cell_type": "markdown",
   "metadata": {},
   "source": [
    "Looks like the value `XX` is invalid as it is not mentioned in the Attribute file. Let us convert that into NaN."
   ]
  },
  {
   "cell_type": "code",
   "execution_count": 45,
   "metadata": {},
   "outputs": [
    {
     "data": {
      "text/plain": [
       "8      78023\n",
       "9      62578\n",
       "6      61253\n",
       "4      60185\n",
       "8.0    56418\n",
       "3      50360\n",
       "2      48276\n",
       "9.0    45599\n",
       "7      45021\n",
       "6.0    44621\n",
       "4.0    43727\n",
       "3.0    36419\n",
       "2.0    34955\n",
       "7.0    32912\n",
       "5      32292\n",
       "5.0    23018\n",
       "1      20997\n",
       "1.0    15215\n",
       "X        373\n",
       "Name: CAMEO_DEUG_2015, dtype: int64"
      ]
     },
     "execution_count": 45,
     "metadata": {},
     "output_type": "execute_result"
    }
   ],
   "source": [
    "df.CAMEO_DEUG_2015.value_counts()"
   ]
  },
  {
   "cell_type": "markdown",
   "metadata": {},
   "source": [
    "Looks like the value `X` is invalid as it is not mentioned in the Attribute file. Let us convert that into NaN. Also, the floats and integers should be combined (e.g. 1 & 1.0)."
   ]
  },
  {
   "cell_type": "code",
   "execution_count": 46,
   "metadata": {},
   "outputs": [
    {
     "data": {
      "text/plain": [
       "W    629528\n",
       "O    168545\n",
       "Name: OST_WEST_KZ, dtype: int64"
      ]
     },
     "execution_count": 46,
     "metadata": {},
     "output_type": "execute_result"
    }
   ],
   "source": [
    "df.OST_WEST_KZ.value_counts()"
   ]
  },
  {
   "cell_type": "markdown",
   "metadata": {},
   "source": [
    "Nothing strange here! Values need to be converted to 0s and 1s though"
   ]
  },
  {
   "cell_type": "code",
   "execution_count": 47,
   "metadata": {},
   "outputs": [
    {
     "name": "stdout",
     "output_type": "stream",
     "text": [
      "Starting fixing string columns...Completed\n"
     ]
    }
   ],
   "source": [
    "def clean_data_by_fixing_string_cols(df):\n",
    "    print('Starting fixing string columns...', end='')\n",
    "    df.loc[df.CAMEO_DEU_2015 == 'XX','CAMEO_DEU_2015'] = np.nan\n",
    "    #TODO dummy variable for CAMEO_DEU_2015\n",
    "    \n",
    "    df.loc[df.CAMEO_DEUG_2015 == 'X','CAMEO_DEUG_2015'] = np.nan\n",
    "    df.CAMEO_DEUG_2015 = df.CAMEO_DEUG_2015.astype(np.float)\n",
    "    \n",
    "    naming_mapping = {'OST_WEST_KZ':{'O':0, 'W':1}}\n",
    "    df.replace(naming_mapping, inplace=True)\n",
    "    \n",
    "    print('Completed')\n",
    "    \n",
    "    return df\n",
    "df = clean_data_by_fixing_string_cols(df)"
   ]
  },
  {
   "cell_type": "markdown",
   "metadata": {},
   "source": [
    "columns are fixed now"
   ]
  },
  {
   "cell_type": "code",
   "execution_count": 48,
   "metadata": {},
   "outputs": [
    {
     "data": {
      "text/plain": [
       "6B    56672\n",
       "8A    52438\n",
       "4C    47819\n",
       "2D    35074\n",
       "3C    34769\n",
       "7A    34399\n",
       "3D    34307\n",
       "8B    33434\n",
       "4A    33155\n",
       "8C    30993\n",
       "9D    28593\n",
       "9B    27676\n",
       "9C    24987\n",
       "7B    24503\n",
       "9A    20542\n",
       "2C    19422\n",
       "8D    17576\n",
       "6E    16107\n",
       "2B    15486\n",
       "5D    14943\n",
       "6C    14820\n",
       "2A    13249\n",
       "5A    12214\n",
       "1D    11909\n",
       "1A    10850\n",
       "3A    10543\n",
       "5B    10354\n",
       "5C     9935\n",
       "7C     9065\n",
       "4B     9047\n",
       "4D     8570\n",
       "3B     7160\n",
       "6A     6810\n",
       "9E     6379\n",
       "6D     6073\n",
       "6F     5392\n",
       "7D     5333\n",
       "4E     5321\n",
       "1E     5065\n",
       "7E     4633\n",
       "1C     4317\n",
       "5F     4283\n",
       "1B     4071\n",
       "5E     3581\n",
       "Name: CAMEO_DEU_2015, dtype: int64"
      ]
     },
     "execution_count": 48,
     "metadata": {},
     "output_type": "execute_result"
    }
   ],
   "source": [
    "df.CAMEO_DEU_2015.value_counts()"
   ]
  },
  {
   "cell_type": "markdown",
   "metadata": {},
   "source": [
    "Looks good! <br>\n",
    "Moving on to the other columns"
   ]
  },
  {
   "cell_type": "code",
   "execution_count": 49,
   "metadata": {},
   "outputs": [
    {
     "data": {
      "text/plain": [
       "8.0    134441\n",
       "9.0    108177\n",
       "6.0    105874\n",
       "4.0    103912\n",
       "3.0     86779\n",
       "2.0     83231\n",
       "7.0     77933\n",
       "5.0     55310\n",
       "1.0     36212\n",
       "Name: CAMEO_DEUG_2015, dtype: int64"
      ]
     },
     "execution_count": 49,
     "metadata": {},
     "output_type": "execute_result"
    }
   ],
   "source": [
    "df.CAMEO_DEUG_2015.value_counts()"
   ]
  },
  {
   "cell_type": "code",
   "execution_count": 50,
   "metadata": {},
   "outputs": [
    {
     "data": {
      "text/plain": [
       "1.0    629528\n",
       "0.0    168545\n",
       "Name: OST_WEST_KZ, dtype: int64"
      ]
     },
     "execution_count": 50,
     "metadata": {},
     "output_type": "execute_result"
    }
   ],
   "source": [
    "df.OST_WEST_KZ.value_counts()"
   ]
  },
  {
   "cell_type": "markdown",
   "metadata": {},
   "source": [
    "All good!"
   ]
  },
  {
   "cell_type": "code",
   "execution_count": 51,
   "metadata": {},
   "outputs": [],
   "source": [
    "# This is done to manually check the values of the columns and that there are nothing that looks odd\n",
    "with open('type-values.txt', 'w') as f:\n",
    "    for col in df.columns:\n",
    "        f.write(f'#########\\n{col}\\n')\n",
    "        f.write(f'{df[col].value_counts()}\\n\\n')\n",
    "    "
   ]
  },
  {
   "cell_type": "markdown",
   "metadata": {},
   "source": [
    "All that remains is to clean/pre-process the columns based on their types. There are 4 basic types:\n",
    "<ul>\n",
    "    <li>Numeric: such as integers, floats, ranges, etc.</li>\n",
    "    <li>Ordinal data: Although, they could be treated as categorical or at least with some further processing, for the sake of simplicity, we are going to use them as is. It is not an unusual practice to treat ordinals as numeric values</li>\n",
    "    <li>categorical: this type is similar to ordinal, but doesn't have the property of following some kind of a trend/sequence. Those are going to be treated individually and would be converted into on-hot-encoded format using dummies</li>\n",
    "    <li>mixed: These contain multiple dimensions combined in one. This is, also, going to be treated individually and would be separtated into multiple columns accordingly.</li>\n",
    "</ul>\n",
    "That being said, the categorical and mixed columns are going to be very time consuming to process. So, the following analysis would try to do as many of them as possible within the allowed timeframe (without going overboard)."
   ]
  },
  {
   "cell_type": "markdown",
   "metadata": {},
   "source": [
    "The first step is to determine, for each column, which type it belongs too. This will be done manually by reading the Attribute file. The main task is to determine the mixed type as well as the categorical type. The rest will be dealt with as numeric/ordinal, which we are going to leave untouched as mentioned above."
   ]
  },
  {
   "cell_type": "code",
   "execution_count": 52,
   "metadata": {},
   "outputs": [],
   "source": [
    "def create_attribute_summary(df):\n",
    "    tmp = my_load('DIAS Attributes - Values 2017.xls', func=pd.read_excel)\n",
    "    tmp.ffill(inplace=True)\n",
    "    \n",
    "    lst_of_cols = df.columns.values.tolist()\n",
    "    \n",
    "    tmp = tmp[tmp.Attribute.isin(lst_of_cols)]\n",
    "    tmp = tmp.set_index(['Attribute', 'Description'])\n",
    "    tmp.to_excel('attribute_summary.xls', merge_cells=True)\n",
    "\n",
    "create_attribute_summary(df)"
   ]
  },
  {
   "cell_type": "code",
   "execution_count": 53,
   "metadata": {},
   "outputs": [
    {
     "data": {
      "text/plain": [
       "Type\n",
       "Categorical     22\n",
       "Mixed            3\n",
       "Numeric          7\n",
       "Ordinal        207\n",
       "dtype: int64"
      ]
     },
     "execution_count": 53,
     "metadata": {},
     "output_type": "execute_result"
    }
   ],
   "source": [
    "def get_attribute_types():\n",
    "    tmp = my_load('attribute_type_summary.xls', func=pd.read_excel)\n",
    "    tmp = tmp[~tmp.Attribute.isnull()]\n",
    "    return tmp\n",
    "\n",
    "attribute_types = get_attribute_types()\n",
    "attribute_types.groupby('Type').size()"
   ]
  },
  {
   "cell_type": "markdown",
   "metadata": {},
   "source": [
    "Looks like we have 22 categorical columns as well as 3 mixed ones. The rest are ok as is (Numeric & Ordinal).<br>\n",
    "Let us start with the Mixed columns"
   ]
  },
  {
   "cell_type": "code",
   "execution_count": 54,
   "metadata": {},
   "outputs": [
    {
     "data": {
      "text/html": [
       "<div>\n",
       "<style scoped>\n",
       "    .dataframe tbody tr th:only-of-type {\n",
       "        vertical-align: middle;\n",
       "    }\n",
       "\n",
       "    .dataframe tbody tr th {\n",
       "        vertical-align: top;\n",
       "    }\n",
       "\n",
       "    .dataframe thead th {\n",
       "        text-align: right;\n",
       "    }\n",
       "</style>\n",
       "<table border=\"1\" class=\"dataframe\">\n",
       "  <thead>\n",
       "    <tr style=\"text-align: right;\">\n",
       "      <th></th>\n",
       "      <th>Attribute</th>\n",
       "      <th>Type</th>\n",
       "    </tr>\n",
       "  </thead>\n",
       "  <tbody>\n",
       "    <tr>\n",
       "      <th>1304</th>\n",
       "      <td>LP_LEBENSPHASE_FEIN</td>\n",
       "      <td>Mixed</td>\n",
       "    </tr>\n",
       "    <tr>\n",
       "      <th>1344</th>\n",
       "      <td>LP_LEBENSPHASE_GROB</td>\n",
       "      <td>Mixed</td>\n",
       "    </tr>\n",
       "    <tr>\n",
       "      <th>1444</th>\n",
       "      <td>PRAEGENDE_JUGENDJAHRE</td>\n",
       "      <td>Mixed</td>\n",
       "    </tr>\n",
       "  </tbody>\n",
       "</table>\n",
       "</div>"
      ],
      "text/plain": [
       "                  Attribute   Type\n",
       "1304    LP_LEBENSPHASE_FEIN  Mixed\n",
       "1344    LP_LEBENSPHASE_GROB  Mixed\n",
       "1444  PRAEGENDE_JUGENDJAHRE  Mixed"
      ]
     },
     "execution_count": 54,
     "metadata": {},
     "output_type": "execute_result"
    }
   ],
   "source": [
    "attribute_types[attribute_types.Type == 'Mixed']"
   ]
  },
  {
   "cell_type": "code",
   "execution_count": 55,
   "metadata": {},
   "outputs": [],
   "source": [
    "# LP_LEBENSPHASE_FEIN is split into 2 dimensions\n",
    "\n",
    "def map_to_LP_LEBENSPHASE_FEIN_age(row):\n",
    "    '''\n",
    "    maps column according to age, where:\n",
    "    young = 0\n",
    "    middle = 1\n",
    "    higher = 2\n",
    "    retirement = 3\n",
    "    advanced = 4\n",
    "    else = 5\n",
    "    ambiguous terms are set to middle\n",
    "    '''\n",
    "    value = row['LP_LEBENSPHASE_FEIN']\n",
    "    \n",
    "    if value in [1, 3, 14, 18, 29, 30, 33, 34, 35]:\n",
    "        return 0\n",
    "    elif value in [2, 4, 9, 10, 17, 21, 22, 23, 24, 25, 26, 27, 28, 39]:\n",
    "        return 1\n",
    "    elif value in [13, 15, 16, 19, 20, 31, 32, 36]:\n",
    "        return 2\n",
    "    elif value in [6, 8, 12, 38, 40]:\n",
    "        return 3\n",
    "    elif value in [5, 7, 11, 37]:\n",
    "        return 4\n",
    "    else:\n",
    "        return 5\n",
    "\n",
    "    \n",
    "def map_to_LP_LEBENSPHASE_FEIN_income(row):\n",
    "    '''maps column according to income, where:\n",
    "    low = 0\n",
    "    average = 1\n",
    "    wealthy = 2\n",
    "    top = 3\n",
    "    else = 4\n",
    "    ambiguous terms are set to average\n",
    "    '''\n",
    "    value = row['LP_LEBENSPHASE_FEIN']\n",
    "    if value in [1, 2, 5, 6, 15, 21, 24, 29, 31]:\n",
    "        return 0\n",
    "    elif value in [3, 4, 7, 8, 9, 11, 12, 14, 16, 17, 19, 22, 25, 26, 27, 30, 32, 33, 34, 36, 37, 38]:\n",
    "        return 1\n",
    "    elif value in [23]:\n",
    "        return 2\n",
    "    elif value in [10, 18]:\n",
    "        return 3\n",
    "    elif value in [13, 20, 28, 35, 39, 40]:\n",
    "        return 4\n",
    "    else:\n",
    "        return 5\n",
    "    \n"
   ]
  },
  {
   "cell_type": "markdown",
   "metadata": {},
   "source": [
    "The LP_LEBENSPHASE_GROB is similar to LP_LEBENSPHASE_FEIN, since it is referring to the same data but with a coarser scale. The similarity observation comes from the documentation as well as the calculation below"
   ]
  },
  {
   "cell_type": "code",
   "execution_count": 56,
   "metadata": {},
   "outputs": [
    {
     "data": {
      "text/plain": [
       "0.9899607961397078"
      ]
     },
     "execution_count": 56,
     "metadata": {},
     "output_type": "execute_result"
    }
   ],
   "source": [
    "df.LP_LEBENSPHASE_FEIN.corr(df.LP_LEBENSPHASE_GROB)"
   ]
  },
  {
   "cell_type": "code",
   "execution_count": 57,
   "metadata": {},
   "outputs": [],
   "source": [
    "def map_to_generation(row):\n",
    "    value = row['PRAEGENDE_JUGENDJAHRE']\n",
    "    if value == 1 or value == 2:\n",
    "        return 40\n",
    "    elif value == 3 or value == 4:\n",
    "        return 50\n",
    "    elif value == 5 or value == 6 or value == 7:\n",
    "        return 60\n",
    "    elif value == 8 or value == 9:\n",
    "        return 70\n",
    "    elif 10 <= value <= 13:\n",
    "        return 80\n",
    "    elif value >= 14:\n",
    "        return 90\n",
    "    else:\n",
    "        return value\n",
    "    \n",
    "    \n",
    "def map_to_movement(row):\n",
    "    value = row['PRAEGENDE_JUGENDJAHRE']\n",
    "    if value in [1, 3, 5, 8, 10, 12, 14]:\n",
    "        return 0\n",
    "    elif value in [2, 4, 6, 7, 9, 11, 13, 15]:\n",
    "        return 1\n",
    "    else:\n",
    "        return value"
   ]
  },
  {
   "cell_type": "code",
   "execution_count": 58,
   "metadata": {},
   "outputs": [
    {
     "name": "stdout",
     "output_type": "stream",
     "text": [
      "Starting processing mixed columns...Completed\n"
     ]
    }
   ],
   "source": [
    "def clean_data_process_mixed_cols(df):\n",
    "    print('Starting processing mixed columns...', end='')\n",
    "    df['LP_LEBENSPHASE_FEIN_age'] = df.apply(lambda row: map_to_LP_LEBENSPHASE_FEIN_age(row), axis=1)\n",
    "    df['LP_LEBENSPHASE_FEIN_income'] = df.apply(lambda row: map_to_LP_LEBENSPHASE_FEIN_income(row), axis=1)\n",
    "    \n",
    "    df['PRAEGENDE_JUGENDJAHRE_GENERATION'] = df.apply(lambda row: map_to_generation(row), axis=1)\n",
    "    df['PRAEGENDE_JUGENDJAHRE_MOVEMENT'] = df.apply(lambda row: map_to_movement(row), axis=1)\n",
    "    \n",
    "    df.drop(columns=['LP_LEBENSPHASE_FEIN', 'LP_LEBENSPHASE_GROB', 'PRAEGENDE_JUGENDJAHRE'], inplace=True, errors='ignore')\n",
    "    print('Completed')\n",
    "    return df\n",
    "\n",
    "df = clean_data_process_mixed_cols(df)"
   ]
  },
  {
   "cell_type": "code",
   "execution_count": 59,
   "metadata": {},
   "outputs": [
    {
     "data": {
      "text/plain": [
       "ANREDE_KZ              2\n",
       "CAMEO_DEUG_2015        9\n",
       "CAMEO_DEU_2015        44\n",
       "CJT_GESAMTTYP          6\n",
       "FINANZTYP              6\n",
       "GEBAEUDETYP            7\n",
       "GEBAEUDETYP_RASTER     5\n",
       "HEALTH_TYP             3\n",
       "KBA05_HERSTTEMP        5\n",
       "KBA05_MAXHERST         5\n",
       "KBA05_MODTEMP          6\n",
       "LP_FAMILIE_FEIN       12\n",
       "LP_STATUS_FEIN        10\n",
       "LP_STATUS_GROB         5\n",
       "NATIONALITAET_KZ       3\n",
       "OST_WEST_KZ            2\n",
       "REGIOTYP               7\n",
       "RETOURTYP_BK_S         5\n",
       "SHOPPER_TYP            4\n",
       "VERS_TYP               2\n",
       "WOHNLAGE               8\n",
       "ZABEOTYP               6\n",
       "dtype: int64"
      ]
     },
     "execution_count": 59,
     "metadata": {},
     "output_type": "execute_result"
    }
   ],
   "source": [
    "categorical_cols = attribute_types[attribute_types.Type == 'Categorical'].Attribute.values.tolist()\n",
    "df[categorical_cols].nunique()"
   ]
  },
  {
   "cell_type": "code",
   "execution_count": 60,
   "metadata": {},
   "outputs": [
    {
     "name": "stdout",
     "output_type": "stream",
     "text": [
      "Starting processing categorical columns...Completed\n"
     ]
    }
   ],
   "source": [
    "def clean_data_process_categorical_cols(df):\n",
    "    print('Starting processing categorical columns...', end='')\n",
    "    attribute_types = get_attribute_types()\n",
    "    categorical_cols = attribute_types[attribute_types.Type == 'Categorical'].Attribute.values.tolist()\n",
    "    df = pd.get_dummies(df, columns=categorical_cols, drop_first=True)\n",
    "    print('Completed')\n",
    "    return df\n",
    "    \n",
    "df = clean_data_process_categorical_cols(df)"
   ]
  },
  {
   "cell_type": "code",
   "execution_count": 61,
   "metadata": {},
   "outputs": [
    {
     "name": "stdout",
     "output_type": "stream",
     "text": [
      "Starting Dropping rows with NaNs...Completed\n"
     ]
    }
   ],
   "source": [
    "def clean_data_drop_rows_with_nans(df):\n",
    "    print('Starting Dropping rows with NaNs...', end='')\n",
    "    df = df[~df.isnull().any(axis=1)]\n",
    "    print('Completed')\n",
    "    return df\n",
    "\n",
    "df = clean_data_drop_rows_with_nans(df)"
   ]
  },
  {
   "cell_type": "code",
   "execution_count": 154,
   "metadata": {},
   "outputs": [
    {
     "name": "stdout",
     "output_type": "stream",
     "text": [
      " ZABEOTYP_6.0                                                                      \n",
      "Conversion to floats Completed\n"
     ]
    }
   ],
   "source": [
    "def clean_data_convert_types_to_float(df):\n",
    "    print('Starting conversion to floats...', end='')\n",
    "    for col in df.columns:\n",
    "#         sys.stdout.write('\\r'+col)\n",
    "#         sys.stdout.write(\"\\033[F\")\n",
    "#         sys.stdout.write(\"\\033[K\")\n",
    "        print('\\r', col, end=' '*50)\n",
    "        df.loc[:,col] = df.loc[:,col].astype(np.float)\n",
    "#     df.loc[:,col] = df.astype(np.float)\n",
    "    print('\\nConversion to floats Completed')\n",
    "    return df\n",
    "\n",
    "df = clean_data_convert_types_to_float(df)"
   ]
  },
  {
   "cell_type": "code",
   "execution_count": 151,
   "metadata": {},
   "outputs": [
    {
     "name": "stdout",
     "output_type": "stream",
     "text": [
      "Starting...\n",
      "\r",
      " LNR                                                                                                    \r",
      " AGER_TYP                                                                                                    \r",
      " AKT_DAT_KL                                                                                                    \r",
      " ALTER_HH                                                                                                    \r",
      " ALTER_KIND1                                                                                                    \r",
      " ALTER_KIND2                                                                                                    \r",
      " ALTER_KIND3                                                                                                    \r",
      " ALTER_KIND4                                                                                                    \r",
      " ALTERSKATEGORIE_FEIN                                                                                                    \r",
      " ANZ_HAUSHALTE_AKTIV                                                                                                    \r",
      " ANZ_HH_TITEL                                                                                                    \r",
      " ANZ_KINDER                                                                                                    \r",
      " ANZ_PERSONEN                                                                                                    \r",
      " ANZ_STATISTISCHE_HAUSHALTE                                                                                                    \r",
      " ANZ_TITEL                                                                                                    \r",
      " ARBEIT                                                                                                    \r",
      " BALLRAUM                                                                                                    \r",
      " CAMEO_DEU_2015                                                                                                    \r",
      " CAMEO_DEUG_2015                                                                                                    \r",
      " CAMEO_INTL_2015                                                                                                    \r",
      " CJT_GESAMTTYP                                                                                                    \r",
      " CJT_KATALOGNUTZER                                                                                                    \r",
      " CJT_TYP_1                                                                                                    \r",
      " CJT_TYP_2                                                                                                    \r",
      " CJT_TYP_3                                                                                                    \r",
      " CJT_TYP_4                                                                                                    \r",
      " CJT_TYP_5                                                                                                    \r",
      " CJT_TYP_6                                                                                                    \r",
      " D19_BANKEN_ANZ_12                                                                                                    \r",
      " D19_BANKEN_ANZ_24                                                                                                    \r",
      " D19_BANKEN_DATUM                                                                                                    \r",
      " D19_BANKEN_DIREKT                                                                                                    \r",
      " D19_BANKEN_GROSS                                                                                                    \r",
      " D19_BANKEN_LOKAL                                                                                                    \r",
      " D19_BANKEN_OFFLINE_DATUM                                                                                                    \r",
      " D19_BANKEN_ONLINE_DATUM                                                                                                    \r",
      " D19_BANKEN_ONLINE_QUOTE_12                                                                                                    \r",
      " D19_BANKEN_REST                                                                                                    \r",
      " D19_BEKLEIDUNG_GEH                                                                                                    \r",
      " D19_BEKLEIDUNG_REST                                                                                                    \r",
      " D19_BILDUNG                                                                                                    \r",
      " D19_BIO_OEKO                                                                                                    \r",
      " D19_BUCH_CD                                                                                                    \r",
      " D19_DIGIT_SERV                                                                                                    \r",
      " D19_DROGERIEARTIKEL                                                                                                    \r",
      " D19_ENERGIE                                                                                                    \r",
      " D19_FREIZEIT                                                                                                    \r",
      " D19_GARTEN                                                                                                    \r",
      " D19_GESAMT_ANZ_12                                                                                                    \r",
      " D19_GESAMT_ANZ_24                                                                                                    \r",
      " D19_GESAMT_DATUM                                                                                                    \r",
      " D19_GESAMT_OFFLINE_DATUM                                                                                                    \r",
      " D19_GESAMT_ONLINE_DATUM                                                                                                    \r",
      " D19_GESAMT_ONLINE_QUOTE_12                                                                                                    \r",
      " D19_HANDWERK                                                                                                    \r",
      " D19_HAUS_DEKO                                                                                                    \r",
      " D19_KINDERARTIKEL                                                                                                    \r",
      " D19_KONSUMTYP                                                                                                    \r",
      " D19_KONSUMTYP_MAX                                                                                                    \r",
      " D19_KOSMETIK                                                                                                    \r",
      " D19_LEBENSMITTEL                                                                                                    \r",
      " D19_LETZTER_KAUF_BRANCHE                                                                                                    \r",
      " D19_LOTTO                                                                                                    \r",
      " D19_NAHRUNGSERGAENZUNG                                                                                                    \r",
      " D19_RATGEBER                                                                                                    \r",
      " D19_REISEN                                                                                                    \r",
      " D19_SAMMELARTIKEL                                                                                                    \r",
      " D19_SCHUHE                                                                                                    \r",
      " D19_SONSTIGE                                                                                                    \r",
      " D19_SOZIALES                                                                                                    \r",
      " D19_TECHNIK                                                                                                    \r",
      " D19_TELKO_ANZ_12                                                                                                    \r",
      " D19_TELKO_ANZ_24                                                                                                    \r",
      " D19_TELKO_DATUM                                                                                                    \r",
      " D19_TELKO_MOBILE                                                                                                    \r",
      " D19_TELKO_OFFLINE_DATUM                                                                                                    \r",
      " D19_TELKO_ONLINE_DATUM                                                                                                    \r",
      " D19_TELKO_ONLINE_QUOTE_12                                                                                                    \r",
      " D19_TELKO_REST                                                                                                    \r",
      " D19_TIERARTIKEL                                                                                                    \r",
      " D19_VERSAND_ANZ_12                                                                                                    \r",
      " D19_VERSAND_ANZ_24                                                                                                    \r",
      " D19_VERSAND_DATUM                                                                                                    \r",
      " D19_VERSAND_OFFLINE_DATUM                                                                                                    \r",
      " D19_VERSAND_ONLINE_DATUM                                                                                                    \r",
      " D19_VERSAND_ONLINE_QUOTE_12                                                                                                    \r",
      " D19_VERSAND_REST                                                                                                    \r",
      " D19_VERSI_ANZ_12                                                                                                    \r",
      " D19_VERSI_ANZ_24                                                                                                    \r",
      " D19_VERSI_DATUM                                                                                                    \r",
      " D19_VERSI_OFFLINE_DATUM                                                                                                    \r",
      " D19_VERSI_ONLINE_DATUM                                                                                                    \r",
      " D19_VERSI_ONLINE_QUOTE_12                                                                                                    \r",
      " D19_VERSICHERUNGEN                                                                                                    \r",
      " D19_VOLLSORTIMENT                                                                                                    \r",
      " D19_WEIN_FEINKOST                                                                                                    \r",
      " DSL_FLAG                                                                                                    \r",
      " EINGEFUEGT_AM                                                                                                    \r",
      " EINGEZOGENAM_HH_JAHR                                                                                                    \r",
      " EWDICHTE                                                                                                    \r",
      " EXTSEL992                                                                                                    \r",
      " FINANZ_ANLEGER                                                                                                    \r",
      " FINANZ_HAUSBAUER                                                                                                    \r",
      " FINANZ_MINIMALIST                                                                                                    \r",
      " FINANZ_SPARER                                                                                                    \r",
      " FINANZ_UNAUFFAELLIGER                                                                                                    \r",
      " FINANZ_VORSORGER                                                                                                    \r",
      " FINANZTYP                                                                                                    \r",
      " FIRMENDICHTE                                                                                                    \r",
      " GEBAEUDETYP                                                                                                    \r",
      " GEBAEUDETYP_RASTER                                                                                                    \r",
      " GEBURTSJAHR                                                                                                    \r",
      " GEMEINDETYP                                                                                                    \r",
      " GFK_URLAUBERTYP                                                                                                    \r",
      " GREEN_AVANTGARDE                                                                                                    \r",
      " HEALTH_TYP                                                                                                    \r",
      " HH_DELTA_FLAG                                                                                                    \r",
      " HH_EINKOMMEN_SCORE                                                                                                    \r",
      " INNENSTADT                                                                                                    \r",
      " KBA05_ALTER1                                                                                                    \r",
      " KBA05_ALTER2                                                                                                    \r",
      " KBA05_ALTER3                                                                                                    \r",
      " KBA05_ALTER4                                                                                                    \r",
      " KBA05_ANHANG                                                                                                    \r",
      " KBA05_ANTG1                                                                                                    \r",
      " KBA05_ANTG2                                                                                                    \r",
      " KBA05_ANTG3                                                                                                    \r",
      " KBA05_ANTG4                                                                                                    \r",
      " KBA05_AUTOQUOT                                                                                                    \r",
      " KBA05_BAUMAX                                                                                                    \r",
      " KBA05_CCM1                                                                                                    \r",
      " KBA05_CCM2                                                                                                    \r",
      " KBA05_CCM3                                                                                                    \r",
      " KBA05_CCM4                                                                                                    \r",
      " KBA05_DIESEL                                                                                                    \r",
      " KBA05_FRAU                                                                                                    \r",
      " KBA05_GBZ                                                                                                    \r",
      " KBA05_HERST1                                                                                                    \r",
      " KBA05_HERST2                                                                                                    \r",
      " KBA05_HERST3                                                                                                    \r",
      " KBA05_HERST4                                                                                                    \r",
      " KBA05_HERST5                                                                                                    \r",
      " KBA05_HERSTTEMP                                                                                                    \r",
      " KBA05_KRSAQUOT                                                                                                    \r",
      " KBA05_KRSHERST1                                                                                                    \r",
      " KBA05_KRSHERST2                                                                                                    \r",
      " KBA05_KRSHERST3                                                                                                    \r",
      " KBA05_KRSKLEIN                                                                                                    \r",
      " KBA05_KRSOBER                                                                                                    \r",
      " KBA05_KRSVAN                                                                                                    \r",
      " KBA05_KRSZUL                                                                                                    \r",
      " KBA05_KW1                                                                                                    \r",
      " KBA05_KW2                                                                                                    \r",
      " KBA05_KW3                                                                                                    \r",
      " KBA05_MAXAH                                                                                                    \r",
      " KBA05_MAXBJ                                                                                                    \r",
      " KBA05_MAXHERST                                                                                                    \r",
      " KBA05_MAXSEG                                                                                                    \r",
      " KBA05_MAXVORB                                                                                                    \r",
      " KBA05_MOD1                                                                                                    \r",
      " KBA05_MOD2                                                                                                    \r",
      " KBA05_MOD3                                                                                                    \r",
      " KBA05_MOD4                                                                                                    \r",
      " KBA05_MOD8                                                                                                    \r",
      " KBA05_MODTEMP                                                                                                    \r",
      " KBA05_MOTOR                                                                                                    \r",
      " KBA05_MOTRAD                                                                                                    \r",
      " KBA05_SEG1                                                                                                    \r",
      " KBA05_SEG10                                                                                                    \r",
      " KBA05_SEG2                                                                                                    \r",
      " KBA05_SEG3                                                                                                    \r",
      " KBA05_SEG4                                                                                                    \r",
      " KBA05_SEG5                                                                                                    \r",
      " KBA05_SEG6                                                                                                    \r",
      " KBA05_SEG7                                                                                                    \r",
      " KBA05_SEG8                                                                                                    \r",
      " KBA05_SEG9                                                                                                    \r",
      " KBA05_VORB0                                                                                                    \r",
      " KBA05_VORB1                                                                                                    \r",
      " KBA05_VORB2                                                                                                    \r",
      " KBA05_ZUL1                                                                                                    \r",
      " KBA05_ZUL2                                                                                                    \r",
      " KBA05_ZUL3                                                                                                    \r",
      " KBA05_ZUL4                                                                                                    \r",
      " KBA13_ALTERHALTER_30                                                                                                    \r",
      " KBA13_ALTERHALTER_45                                                                                                    \r",
      " KBA13_ALTERHALTER_60                                                                                                    \r",
      " KBA13_ALTERHALTER_61                                                                                                    \r",
      " KBA13_ANTG1                                                                                                    \r",
      " KBA13_ANTG2                                                                                                    \r",
      " KBA13_ANTG3                                                                                                    \r",
      " KBA13_ANTG4                                                                                                    \r",
      " KBA13_ANZAHL_PKW                                                                                                    \r",
      " KBA13_AUDI                                                                                                    \r",
      " KBA13_AUTOQUOTE                                                                                                    \r",
      " KBA13_BAUMAX                                                                                                    \r",
      " KBA13_BJ_1999                                                                                                    \r",
      " KBA13_BJ_2000                                                                                                    \r",
      " KBA13_BJ_2004                                                                                                    \r",
      " KBA13_BJ_2006                                                                                                    \r",
      " KBA13_BJ_2008                                                                                                    \r",
      " KBA13_BJ_2009                                                                                                    \r",
      " KBA13_BMW                                                                                                    \r",
      " KBA13_CCM_0_1400                                                                                                    \r",
      " KBA13_CCM_1000                                                                                                    \r",
      " KBA13_CCM_1200                                                                                                    \r",
      " KBA13_CCM_1400                                                                                                    \r",
      " KBA13_CCM_1401_2500                                                                                                    \r",
      " KBA13_CCM_1500                                                                                                    \r",
      " KBA13_CCM_1600                                                                                                    \r",
      " KBA13_CCM_1800                                                                                                    \r",
      " KBA13_CCM_2000                                                                                                    \r",
      " KBA13_CCM_2500                                                                                                    \r",
      " KBA13_CCM_2501                                                                                                    \r",
      " KBA13_CCM_3000                                                                                                    \r",
      " KBA13_CCM_3001                                                                                                    \r",
      " KBA13_FAB_ASIEN                                                                                                    \r",
      " KBA13_FAB_SONSTIGE                                                                                                    \r",
      " KBA13_FIAT                                                                                                    \r",
      " KBA13_FORD                                                                                                    \r",
      " KBA13_GBZ                                                                                                    \r",
      " KBA13_HALTER_20                                                                                                    \r",
      " KBA13_HALTER_25                                                                                                    \r",
      " KBA13_HALTER_30                                                                                                    \r",
      " KBA13_HALTER_35                                                                                                    \r",
      " KBA13_HALTER_40                                                                                                    \r",
      " KBA13_HALTER_45                                                                                                    \r",
      " KBA13_HALTER_50                                                                                                    \r",
      " KBA13_HALTER_55                                                                                                    \r",
      " KBA13_HALTER_60                                                                                                    \r",
      " KBA13_HALTER_65                                                                                                    \r",
      " KBA13_HALTER_66                                                                                                    \r",
      " KBA13_HERST_ASIEN                                                                                                    \r",
      " KBA13_HERST_AUDI_VW                                                                                                    \r",
      " KBA13_HERST_BMW_BENZ                                                                                                    \r",
      " KBA13_HERST_EUROPA                                                                                                    \r",
      " KBA13_HERST_FORD_OPEL                                                                                                    \r",
      " KBA13_HERST_SONST                                                                                                    \r",
      " KBA13_HHZ                                                                                                    \r",
      " KBA13_KMH_0_140                                                                                                    \r",
      " KBA13_KMH_110                                                                                                    \r",
      " KBA13_KMH_140                                                                                                    \r",
      " KBA13_KMH_140_210                                                                                                    \r",
      " KBA13_KMH_180                                                                                                    \r",
      " KBA13_KMH_210                                                                                                    \r",
      " KBA13_KMH_211                                                                                                    \r",
      " KBA13_KMH_250                                                                                                    \r",
      " KBA13_KMH_251                                                                                                    \r",
      " KBA13_KRSAQUOT                                                                                                    \r",
      " KBA13_KRSHERST_AUDI_VW                                                                                                    \r",
      " KBA13_KRSHERST_BMW_BENZ                                                                                                    \r",
      " KBA13_KRSHERST_FORD_OPEL                                                                                                    \r",
      " KBA13_KRSSEG_KLEIN                                                                                                    \r",
      " KBA13_KRSSEG_OBER                                                                                                    \r",
      " KBA13_KRSSEG_VAN                                                                                                    \r",
      " KBA13_KRSZUL_NEU                                                                                                    \r",
      " KBA13_KW_0_60                                                                                                    \r",
      " KBA13_KW_110                                                                                                    \r",
      " KBA13_KW_120                                                                                                    \r",
      " KBA13_KW_121                                                                                                    \r",
      " KBA13_KW_30                                                                                                    \r",
      " KBA13_KW_40                                                                                                    \r",
      " KBA13_KW_50                                                                                                    \r",
      " KBA13_KW_60                                                                                                    \r",
      " KBA13_KW_61_120                                                                                                    \r",
      " KBA13_KW_70                                                                                                    \r",
      " KBA13_KW_80                                                                                                    \r",
      " KBA13_KW_90                                                                                                    \r",
      " KBA13_MAZDA                                                                                                    \r",
      " KBA13_MERCEDES                                                                                                    \r",
      " KBA13_MOTOR                                                                                                    \r",
      " KBA13_NISSAN                                                                                                    \r",
      " KBA13_OPEL                                                                                                    \r",
      " KBA13_PEUGEOT                                                                                                    \r",
      " KBA13_RENAULT                                                                                                    \r",
      " KBA13_SEG_GELAENDEWAGEN                                                                                                    \r",
      " KBA13_SEG_GROSSRAUMVANS                                                                                                    \r",
      " KBA13_SEG_KLEINST                                                                                                    \r",
      " KBA13_SEG_KLEINWAGEN                                                                                                    \r",
      " KBA13_SEG_KOMPAKTKLASSE                                                                                                    \r",
      " KBA13_SEG_MINIVANS                                                                                                    \r",
      " KBA13_SEG_MINIWAGEN                                                                                                    \r",
      " KBA13_SEG_MITTELKLASSE                                                                                                    \r",
      " KBA13_SEG_OBEREMITTELKLASSE                                                                                                    \r",
      " KBA13_SEG_OBERKLASSE                                                                                                    \r",
      " KBA13_SEG_SONSTIGE                                                                                                    \r",
      " KBA13_SEG_SPORTWAGEN                                                                                                    \r",
      " KBA13_SEG_UTILITIES                                                                                                    \r",
      " KBA13_SEG_VAN                                                                                                    \r",
      " KBA13_SEG_WOHNMOBILE                                                                                                    \r",
      " KBA13_SITZE_4                                                                                                    \r",
      " KBA13_SITZE_5                                                                                                    \r",
      " KBA13_SITZE_6                                                                                                    \r",
      " KBA13_TOYOTA                                                                                                    \r",
      " KBA13_VORB_0                                                                                                    \r",
      " KBA13_VORB_1                                                                                                    \r",
      " KBA13_VORB_1_2                                                                                                    \r",
      " KBA13_VORB_2                                                                                                    \r",
      " KBA13_VORB_3                                                                                                    \r",
      " KBA13_VW                                                                                                    \r",
      " KK_KUNDENTYP                                                                                                    \r",
      " KKK                                                                                                    \r",
      " KOMBIALTER                                                                                                    \r",
      " KONSUMNAEHE                                                                                                    \r",
      " KONSUMZELLE                                                                                                    \r",
      " LP_FAMILIE_FEIN                                                                                                    \r",
      " LP_FAMILIE_GROB                                                                                                    \r",
      " LP_LEBENSPHASE_FEIN                                                                                                    \r",
      " LP_LEBENSPHASE_GROB                                                                                                    \r",
      " LP_STATUS_FEIN                                                                                                    \r",
      " LP_STATUS_GROB                                                                                                    \r",
      " MIN_GEBAEUDEJAHR                                                                                                    \r",
      " MOBI_RASTER                                                                                                    \r",
      " MOBI_REGIO                                                                                                    \r",
      " NATIONALITAET_KZ                                                                                                    \r",
      " ONLINE_AFFINITAET                                                                                                    \r",
      " ORTSGR_KLS9                                                                                                    \r",
      " OST_WEST_KZ                                                                                                    \r",
      " PLZ8_ANTG1                                                                                                    \r",
      " PLZ8_ANTG2                                                                                                    \r",
      " PLZ8_ANTG3                                                                                                    \r",
      " PLZ8_ANTG4                                                                                                    \r",
      " PLZ8_BAUMAX                                                                                                    \r",
      " PLZ8_GBZ                                                                                                    \r",
      " PLZ8_HHZ                                                                                                    \r",
      " PRAEGENDE_JUGENDJAHRE                                                                                                    \r",
      " REGIOTYP                                                                                                    \r",
      " RELAT_AB                                                                                                    \r",
      " RETOURTYP_BK_S                                                                                                    \r",
      " RT_KEIN_ANREIZ                                                                                                    \r",
      " RT_SCHNAEPPCHEN                                                                                                    \r",
      " RT_UEBERGROESSE                                                                                                    \r",
      " SEMIO_DOM                                                                                                    \r",
      " SEMIO_ERL                                                                                                    \r",
      " SEMIO_FAM                                                                                                    \r",
      " SEMIO_KAEM                                                                                                    \r",
      " SEMIO_KRIT                                                                                                    \r",
      " SEMIO_KULT                                                                                                    \r",
      " SEMIO_LUST                                                                                                    \r",
      " SEMIO_MAT                                                                                                    \r",
      " SEMIO_PFLICHT                                                                                                    \r",
      " SEMIO_RAT                                                                                                    \r",
      " SEMIO_REL                                                                                                    \r",
      " SEMIO_SOZ                                                                                                    \r",
      " SEMIO_TRADV                                                                                                    \r",
      " SEMIO_VERT                                                                                                    \r",
      " SHOPPER_TYP                                                                                                    \r",
      " SOHO_KZ                                                                                                    \r",
      " STRUKTURTYP                                                                                                    \r",
      " TITEL_KZ                                                                                                    \r",
      " UMFELD_ALT                                                                                                    \r",
      " UMFELD_JUNG                                                                                                    \r",
      " UNGLEICHENN_FLAG                                                                                                    \r",
      " VERDICHTUNGSRAUM                                                                                                    \r",
      " VERS_TYP                                                                                                    \r",
      " VHA                                                                                                    \r",
      " VHN                                                                                                    \r",
      " VK_DHT4A                                                                                                    \r",
      " VK_DISTANZ                                                                                                    \r",
      " VK_ZG11                                                                                                    \r",
      " W_KEIT_KIND_HH                                                                                                    \r",
      " WOHNDAUER_2008                                                                                                    \r",
      " WOHNLAGE                                                                                                    \r",
      " ZABEOTYP                                                                                                    \r",
      " ANREDE_KZ                                                                                                    \r",
      " ALTERSKATEGORIE_GROB                                                                                                    "
     ]
    }
   ],
   "source": [
    "print('Starting...')\n",
    "for col in azdias:\n",
    "#     sys.stdout.write('\\033[K')\n",
    "    print('\\r', col, end=' '*100)"
   ]
  },
  {
   "cell_type": "code",
   "execution_count": 155,
   "metadata": {},
   "outputs": [],
   "source": [
    "def clean_data(_df, check_for_customers=False):\n",
    "    def check_customer():\n",
    "        if check_for_customers:\n",
    "            print(f'Customer Group is available = ', 'LNR' in _df.columns)\n",
    "    \n",
    "    check_customer()\n",
    "    _df = _df.copy()\n",
    "    check_customer()\n",
    "    _df = clean_data_by_dropping_type_II(_df)\n",
    "    check_customer()\n",
    "    _df = clean_data_replace_missing_values_with_nans(_df)\n",
    "    check_customer()\n",
    "    _df = clean_data_by_dropping_cols_with_many_nans(_df)\n",
    "    check_customer()\n",
    "    _df = clean_data_by_fixing_string_cols(_df)\n",
    "    check_customer()\n",
    "    _df = clean_data_process_mixed_cols(_df)\n",
    "    check_customer()\n",
    "    _df = clean_data_process_categorical_cols(_df)\n",
    "    check_customer()\n",
    "    _df = clean_data_drop_rows_with_nans(_df)\n",
    "    check_customer()\n",
    "    _df = clean_data_convert_types_to_float(_df)\n",
    "    check_customer()\n",
    "    return _df\n"
   ]
  },
  {
   "cell_type": "code",
   "execution_count": 156,
   "metadata": {},
   "outputs": [
    {
     "name": "stdout",
     "output_type": "stream",
     "text": [
      "Customer Group is available =  True\n",
      "Customer Group is available =  True\n",
      "Starting Dropping Type II...Completed\n",
      "Customer Group is available =  True\n",
      "Customer Group is available =  True\n",
      "Starting Dropping Columns with Many NaNs...Completed\n",
      "Customer Group is available =  False\n",
      "Starting fixing string columns...Completed\n",
      "Customer Group is available =  False\n",
      "Starting processing mixed columns...Completed\n",
      "Customer Group is available =  False\n",
      "Starting processing categorical columns...Completed\n",
      "Customer Group is available =  False\n",
      "Starting Dropping rows with NaNs...Completed\n",
      "Customer Group is available =  False\n",
      " ZABEOTYP_6.0                                                                      \n",
      "Conversion to floats Completed\n",
      "Customer Group is available =  False\n"
     ]
    },
    {
     "data": {
      "text/plain": [
       "(632248, 361)"
      ]
     },
     "execution_count": 156,
     "metadata": {},
     "output_type": "execute_result"
    }
   ],
   "source": [
    "df = clean_data(azdias, check_for_customers=True)\n",
    "df.shape"
   ]
  },
  {
   "cell_type": "code",
   "execution_count": 157,
   "metadata": {},
   "outputs": [
    {
     "data": {
      "text/plain": [
       "0"
      ]
     },
     "execution_count": 157,
     "metadata": {},
     "output_type": "execute_result"
    }
   ],
   "source": [
    "df.isnull().sum().sum()"
   ]
  },
  {
   "cell_type": "code",
   "execution_count": 158,
   "metadata": {},
   "outputs": [
    {
     "name": "stdout",
     "output_type": "stream",
     "text": [
      "<class 'pandas.core.frame.DataFrame'>\n",
      "Int64Index: 632248 entries, 1 to 891220\n",
      "Columns: 361 entries, ANZ_HAUSHALTE_AKTIV to ZABEOTYP_6.0\n",
      "dtypes: float64(361)\n",
      "memory usage: 1.7 GB\n"
     ]
    }
   ],
   "source": [
    "df.info()"
   ]
  },
  {
   "cell_type": "code",
   "execution_count": null,
   "metadata": {},
   "outputs": [],
   "source": []
  },
  {
   "cell_type": "code",
   "execution_count": null,
   "metadata": {},
   "outputs": [],
   "source": []
  },
  {
   "cell_type": "code",
   "execution_count": null,
   "metadata": {},
   "outputs": [],
   "source": []
  },
  {
   "cell_type": "markdown",
   "metadata": {},
   "source": [
    "## Part 1: Customer Segmentation Report\n",
    "\n",
    "The main bulk of your analysis will come in this part of the project. Here, you should use unsupervised learning techniques to describe the relationship between the demographics of the company's existing customers and the general population of Germany. By the end of this part, you should be able to describe parts of the general population that are more likely to be part of the mail-order company's main customer base, and which parts of the general population are less so."
   ]
  },
  {
   "cell_type": "markdown",
   "metadata": {},
   "source": [
    "### Feature Transformation\n",
    "#### a) Applying Feature Scaling\n",
    "In order to do the segmentation (clustering), we need to do some feature transformation first. That will be followed by a dimensionality reduction process. Then, the data will be ready for clustering. To be specific, the feature transformation has already started when we dropped the missing data points. Alternatively, we could have used and Imputer the fill in the missing data points. Scaling is done in this phase to make learning easier. That simply means to scale all columns to have a mean of 0 and a standard deviation of 1. As for the dimensionality reduction phase, the Principal Component Analysis is going to be used."
   ]
  },
  {
   "cell_type": "code",
   "execution_count": 98,
   "metadata": {},
   "outputs": [
    {
     "data": {
      "text/html": [
       "<div>\n",
       "<style scoped>\n",
       "    .dataframe tbody tr th:only-of-type {\n",
       "        vertical-align: middle;\n",
       "    }\n",
       "\n",
       "    .dataframe tbody tr th {\n",
       "        vertical-align: top;\n",
       "    }\n",
       "\n",
       "    .dataframe thead th {\n",
       "        text-align: right;\n",
       "    }\n",
       "</style>\n",
       "<table border=\"1\" class=\"dataframe\">\n",
       "  <thead>\n",
       "    <tr style=\"text-align: right;\">\n",
       "      <th></th>\n",
       "      <th>ANZ_HAUSHALTE_AKTIV</th>\n",
       "      <th>ANZ_HH_TITEL</th>\n",
       "      <th>ANZ_PERSONEN</th>\n",
       "      <th>ANZ_TITEL</th>\n",
       "      <th>BALLRAUM</th>\n",
       "      <th>EWDICHTE</th>\n",
       "      <th>FINANZ_ANLEGER</th>\n",
       "      <th>FINANZ_HAUSBAUER</th>\n",
       "      <th>FINANZ_MINIMALIST</th>\n",
       "      <th>FINANZ_SPARER</th>\n",
       "      <th>...</th>\n",
       "      <th>WOHNLAGE_3.0</th>\n",
       "      <th>WOHNLAGE_4.0</th>\n",
       "      <th>WOHNLAGE_5.0</th>\n",
       "      <th>WOHNLAGE_7.0</th>\n",
       "      <th>WOHNLAGE_8.0</th>\n",
       "      <th>ZABEOTYP_2.0</th>\n",
       "      <th>ZABEOTYP_3.0</th>\n",
       "      <th>ZABEOTYP_4.0</th>\n",
       "      <th>ZABEOTYP_5.0</th>\n",
       "      <th>ZABEOTYP_6.0</th>\n",
       "    </tr>\n",
       "  </thead>\n",
       "  <tbody>\n",
       "    <tr>\n",
       "      <th>0</th>\n",
       "      <td>0.183613</td>\n",
       "      <td>-0.128712</td>\n",
       "      <td>0.165244</td>\n",
       "      <td>-0.06082</td>\n",
       "      <td>0.867652</td>\n",
       "      <td>-0.599243</td>\n",
       "      <td>1.535474</td>\n",
       "      <td>1.344910</td>\n",
       "      <td>-1.516591</td>\n",
       "      <td>1.576928</td>\n",
       "      <td>...</td>\n",
       "      <td>-0.699244</td>\n",
       "      <td>2.174951</td>\n",
       "      <td>-0.312897</td>\n",
       "      <td>-0.519350</td>\n",
       "      <td>-0.088822</td>\n",
       "      <td>-0.18058</td>\n",
       "      <td>-0.74925</td>\n",
       "      <td>-0.606473</td>\n",
       "      <td>2.964972</td>\n",
       "      <td>-0.308877</td>\n",
       "    </tr>\n",
       "    <tr>\n",
       "      <th>1</th>\n",
       "      <td>0.117177</td>\n",
       "      <td>-0.128712</td>\n",
       "      <td>-0.721710</td>\n",
       "      <td>-0.06082</td>\n",
       "      <td>-0.954494</td>\n",
       "      <td>-0.010687</td>\n",
       "      <td>-0.532764</td>\n",
       "      <td>1.344910</td>\n",
       "      <td>-1.516591</td>\n",
       "      <td>0.897840</td>\n",
       "      <td>...</td>\n",
       "      <td>-0.699244</td>\n",
       "      <td>-0.459780</td>\n",
       "      <td>-0.312897</td>\n",
       "      <td>-0.519350</td>\n",
       "      <td>-0.088822</td>\n",
       "      <td>-0.18058</td>\n",
       "      <td>-0.74925</td>\n",
       "      <td>-0.606473</td>\n",
       "      <td>2.964972</td>\n",
       "      <td>-0.308877</td>\n",
       "    </tr>\n",
       "    <tr>\n",
       "      <th>2</th>\n",
       "      <td>-0.347879</td>\n",
       "      <td>-0.128712</td>\n",
       "      <td>1.939152</td>\n",
       "      <td>-0.06082</td>\n",
       "      <td>-0.954494</td>\n",
       "      <td>0.577870</td>\n",
       "      <td>-1.222176</td>\n",
       "      <td>-0.852306</td>\n",
       "      <td>0.685677</td>\n",
       "      <td>0.218752</td>\n",
       "      <td>...</td>\n",
       "      <td>1.430116</td>\n",
       "      <td>-0.459780</td>\n",
       "      <td>-0.312897</td>\n",
       "      <td>-0.519350</td>\n",
       "      <td>-0.088822</td>\n",
       "      <td>-0.18058</td>\n",
       "      <td>-0.74925</td>\n",
       "      <td>1.648878</td>\n",
       "      <td>-0.337271</td>\n",
       "      <td>-0.308877</td>\n",
       "    </tr>\n",
       "    <tr>\n",
       "      <th>3</th>\n",
       "      <td>-0.215006</td>\n",
       "      <td>-0.128712</td>\n",
       "      <td>-0.721710</td>\n",
       "      <td>-0.06082</td>\n",
       "      <td>0.867652</td>\n",
       "      <td>-1.187800</td>\n",
       "      <td>-0.532764</td>\n",
       "      <td>1.344910</td>\n",
       "      <td>-0.048412</td>\n",
       "      <td>-1.139423</td>\n",
       "      <td>...</td>\n",
       "      <td>-0.699244</td>\n",
       "      <td>-0.459780</td>\n",
       "      <td>-0.312897</td>\n",
       "      <td>1.925483</td>\n",
       "      <td>-0.088822</td>\n",
       "      <td>-0.18058</td>\n",
       "      <td>-0.74925</td>\n",
       "      <td>1.648878</td>\n",
       "      <td>-0.337271</td>\n",
       "      <td>-0.308877</td>\n",
       "    </tr>\n",
       "    <tr>\n",
       "      <th>4</th>\n",
       "      <td>-0.281443</td>\n",
       "      <td>-0.128712</td>\n",
       "      <td>-0.721710</td>\n",
       "      <td>-0.06082</td>\n",
       "      <td>0.867652</td>\n",
       "      <td>-0.010687</td>\n",
       "      <td>1.535474</td>\n",
       "      <td>-0.119901</td>\n",
       "      <td>-1.516591</td>\n",
       "      <td>1.576928</td>\n",
       "      <td>...</td>\n",
       "      <td>-0.699244</td>\n",
       "      <td>-0.459780</td>\n",
       "      <td>3.195942</td>\n",
       "      <td>-0.519350</td>\n",
       "      <td>-0.088822</td>\n",
       "      <td>-0.18058</td>\n",
       "      <td>-0.74925</td>\n",
       "      <td>1.648878</td>\n",
       "      <td>-0.337271</td>\n",
       "      <td>-0.308877</td>\n",
       "    </tr>\n",
       "  </tbody>\n",
       "</table>\n",
       "<p>5 rows × 361 columns</p>\n",
       "</div>"
      ],
      "text/plain": [
       "   ANZ_HAUSHALTE_AKTIV  ANZ_HH_TITEL  ANZ_PERSONEN  ANZ_TITEL  BALLRAUM  \\\n",
       "0             0.183613     -0.128712      0.165244   -0.06082  0.867652   \n",
       "1             0.117177     -0.128712     -0.721710   -0.06082 -0.954494   \n",
       "2            -0.347879     -0.128712      1.939152   -0.06082 -0.954494   \n",
       "3            -0.215006     -0.128712     -0.721710   -0.06082  0.867652   \n",
       "4            -0.281443     -0.128712     -0.721710   -0.06082  0.867652   \n",
       "\n",
       "   EWDICHTE  FINANZ_ANLEGER  FINANZ_HAUSBAUER  FINANZ_MINIMALIST  \\\n",
       "0 -0.599243        1.535474          1.344910          -1.516591   \n",
       "1 -0.010687       -0.532764          1.344910          -1.516591   \n",
       "2  0.577870       -1.222176         -0.852306           0.685677   \n",
       "3 -1.187800       -0.532764          1.344910          -0.048412   \n",
       "4 -0.010687        1.535474         -0.119901          -1.516591   \n",
       "\n",
       "   FINANZ_SPARER      ...       WOHNLAGE_3.0  WOHNLAGE_4.0  WOHNLAGE_5.0  \\\n",
       "0       1.576928      ...          -0.699244      2.174951     -0.312897   \n",
       "1       0.897840      ...          -0.699244     -0.459780     -0.312897   \n",
       "2       0.218752      ...           1.430116     -0.459780     -0.312897   \n",
       "3      -1.139423      ...          -0.699244     -0.459780     -0.312897   \n",
       "4       1.576928      ...          -0.699244     -0.459780      3.195942   \n",
       "\n",
       "   WOHNLAGE_7.0  WOHNLAGE_8.0  ZABEOTYP_2.0  ZABEOTYP_3.0  ZABEOTYP_4.0  \\\n",
       "0     -0.519350     -0.088822      -0.18058      -0.74925     -0.606473   \n",
       "1     -0.519350     -0.088822      -0.18058      -0.74925     -0.606473   \n",
       "2     -0.519350     -0.088822      -0.18058      -0.74925      1.648878   \n",
       "3      1.925483     -0.088822      -0.18058      -0.74925      1.648878   \n",
       "4     -0.519350     -0.088822      -0.18058      -0.74925      1.648878   \n",
       "\n",
       "   ZABEOTYP_5.0  ZABEOTYP_6.0  \n",
       "0      2.964972     -0.308877  \n",
       "1      2.964972     -0.308877  \n",
       "2     -0.337271     -0.308877  \n",
       "3     -0.337271     -0.308877  \n",
       "4     -0.337271     -0.308877  \n",
       "\n",
       "[5 rows x 361 columns]"
      ]
     },
     "execution_count": 98,
     "metadata": {},
     "output_type": "execute_result"
    }
   ],
   "source": [
    "scaler = StandardScaler()\n",
    "scaled_data = scaler.fit_transform(df)\n",
    "scaled_data = pd.DataFrame(scaled_data, columns=df.columns)\n",
    "scaled_data.head()"
   ]
  },
  {
   "cell_type": "markdown",
   "metadata": {},
   "source": [
    "#### b) Performing Dimensionality Reduction\n",
    "Now, it is time to compute the PCA. In order to determine the number of components to consider, we will used spree plots. These plots are going to present how much variance of the data (information) versus the number of components. Our goal is to find a good balance where we are capturing as much variance as possible with as few components as possible."
   ]
  },
  {
   "cell_type": "code",
   "execution_count": 67,
   "metadata": {},
   "outputs": [],
   "source": [
    "# These functions are based on functions submitted on old Data Scientist Nanodegree project\n",
    "def do_pca(n_components, data):\n",
    "    '''\n",
    "    Performs PCA on data to produce n_components, and returns results.\n",
    "\n",
    "    Arguments: n_components - int - the number of principal components\n",
    "                to create\n",
    "           data - the data to be transformed\n",
    "\n",
    "    Returns: pca - the pca object (after fitting the data)\n",
    "            X_pca - the transformed data with new number of components\n",
    "    '''\n",
    "    X = StandardScaler().fit_transform(data)\n",
    "    pca = PCA(n_components)\n",
    "    X_pca = pca.fit_transform(X)\n",
    "    return pca, X_pca\n",
    "\n",
    "def fit_random_forest_classifier(X, y):\n",
    "    '''\n",
    "    INPUT: X - input data (features)\n",
    "           y - labels to be fit\n",
    "    OUTPUT: void - prints the confusion matrix and accuracy\n",
    "    '''\n",
    "    #First let's create training and testing data\n",
    "    X_train, X_test, y_train, y_test = train_test_split(X, \n",
    "                                                        y, \n",
    "                                                        test_size=0.33,\n",
    "                                                        random_state=42)\n",
    "\n",
    "    #We could grid search and tune, but let's just fit a simple \n",
    "    #model to see how it does instantiate\n",
    "    clf = RandomForestClassifier(n_estimators=100, max_depth=None)\n",
    "\n",
    "    #fit\n",
    "    clf.fit(X_train, y_train)\n",
    "\n",
    "    #predict\n",
    "    y_preds = clf.predict(X_test)\n",
    "\n",
    "    #score\n",
    "    print(confusion_matrix(y_test, y_preds))\n",
    "    acc = accuracy_score(y_test, y_preds)\n",
    "    print(acc)\n",
    "    return acc\n",
    "\n",
    "def scree_plot(pca):\n",
    "    '''\n",
    "    Creates a scree plot associated with the principal components \n",
    "    \n",
    "    Arguments: pca - the result of the do_pca function (X_pca)\n",
    "            \n",
    "    Returns: void - creates scree plot\n",
    "    '''\n",
    "    num_components=len(pca.explained_variance_ratio_)\n",
    "    ind = np.arange(num_components)\n",
    "    vals = pca.explained_variance_ratio_\n",
    " \n",
    "    plt.figure(figsize=(10, 6))\n",
    "    ax = plt.subplot(111)\n",
    "    cumvals = np.cumsum(vals)\n",
    "    ax.bar(ind, vals)\n",
    "    ax.plot(ind, cumvals)\n",
    "    for i in range(num_components):\n",
    "        ax.annotate(r\"%s%%\" % ((str(vals[i]*100)[:4])), \n",
    "                    (ind[i]+0.2, vals[i]),\n",
    "                    va=\"bottom\", ha=\"center\", fontsize=12)\n",
    " \n",
    "    ax.xaxis.set_tick_params(width=0)\n",
    "    ax.yaxis.set_tick_params(width=2, length=12)\n",
    " \n",
    "    ax.set_xlabel(\"Principal Component\")\n",
    "    ax.set_ylabel(\"Variance Explained (%)\")\n",
    "    plt.title('Explained Variance Per Principal Component')\n",
    "    \n",
    "\n",
    "def plot_component(pca, comp):\n",
    "    '''\n",
    "    Plots an image associated with each component to understand how \n",
    "    the weighting of the components \n",
    "    Arguments: \n",
    "          pca - pca object created from do_pca function\n",
    "          comp - int - the component you want to see starting at 0\n",
    "    Returns: void - plots the image\n",
    "    '''\n",
    "    if comp <= len(pca.components_):\n",
    "        #reshape images\n",
    "        mat_data = np.asmatrix(pca.components_[comp]).reshape(28,28)  \n",
    "        plt.imshow(mat_data); #plot the data\n",
    "        plt.xticks([]) #removes numbered labels on x-axis\n",
    "        plt.yticks([]) #removes numbered labels on y-axis   \n",
    "    else:\n",
    "        print('That is not the right input, please read \\\n",
    "        the docstring before continuing.')"
   ]
  },
  {
   "cell_type": "code",
   "execution_count": 68,
   "metadata": {},
   "outputs": [
    {
     "data": {
      "image/png": "[encoded data removed]",
      "text/plain": [
       "<Figure size 720x432 with 1 Axes>"
      ]
     },
     "metadata": {
      "needs_background": "light"
     },
     "output_type": "display_data"
    }
   ],
   "source": [
    "pca, X_pca = do_pca(360, scaled_data)\n",
    "scree_plot(pca)"
   ]
  },
  {
   "cell_type": "markdown",
   "metadata": {},
   "source": [
    "It looks from the spree plot above that around 250 components can capture over 90% of the variance of the data. "
   ]
  },
  {
   "cell_type": "code",
   "execution_count": 69,
   "metadata": {},
   "outputs": [],
   "source": [
    "pca, X_pca = do_pca(250, scaled_data)"
   ]
  },
  {
   "cell_type": "markdown",
   "metadata": {},
   "source": [
    "#### Interpreting Principal Components\n",
    "\n",
    "Now that we have our transformed principal components, it's a nice idea to check out the weight of each variable on the first few components to see if they can be interpreted in some fashion.\n",
    "\n",
    "Each principal component is a unit vector that points in the direction of highest variance (after accounting for the variance captured by earlier principal components). The absolute value of the component represents its weight. While the sign corresponds to its trend (positive components increase together and decrease together. Same goes for negative components.\n",
    "\n",
    "In order to investigate features, they are goint to be sorted by their weights and the associated feature names are going to be displayed. The first 3 components are going to be investigated below"
   ]
  },
  {
   "cell_type": "code",
   "execution_count": 70,
   "metadata": {},
   "outputs": [],
   "source": [
    "weights = pd.DataFrame(pca.components_[:3].T,\n",
    "                       index=df.columns,\n",
    "                       columns=range(3))"
   ]
  },
  {
   "cell_type": "code",
   "execution_count": 71,
   "metadata": {},
   "outputs": [],
   "source": [
    "def get_largest_factors(s,head_len=5):\n",
    "    return s[s.abs().sort_values(ascending=False).index].head(head_len)"
   ]
  },
  {
   "cell_type": "code",
   "execution_count": 72,
   "metadata": {},
   "outputs": [
    {
     "data": {
      "text/plain": [
       "HH_EINKOMMEN_SCORE    0.150516\n",
       "MOBI_REGIO           -0.148320\n",
       "PLZ8_ANTG1           -0.144648\n",
       "KBA05_ANTG1          -0.143391\n",
       "PLZ8_ANTG3            0.138229\n",
       "Name: 0, dtype: float64"
      ]
     },
     "execution_count": 72,
     "metadata": {},
     "output_type": "execute_result"
    }
   ],
   "source": [
    "get_largest_factors(weights[0])"
   ]
  },
  {
   "cell_type": "markdown",
   "metadata": {},
   "source": [
    "the first component represents the following:\n",
    "* HH_EINKOMMEN_SCORE (estimated household net income) high number means low income\n",
    "* MOBI_REGIO (moving patterns) high number means low mobility\n",
    "* KBA05_ANTG1 (number of 1-2 family houses in the cell) \n",
    "* PLZ8_ANTG1 (Number of 1-2 family houses in the PLZ8 region) \n",
    "* PLZ8_ANTG3 (Number of 6-10 family houses in the PLZ8 region)<br>\n",
    "\n",
    "In other words, this component is related to movement patterns and number of families per home in certain regions. (some sort of population density distribution)"
   ]
  },
  {
   "cell_type": "code",
   "execution_count": 73,
   "metadata": {},
   "outputs": [
    {
     "data": {
      "text/plain": [
       "KBA13_HERST_BMW_BENZ           0.167739\n",
       "EWDICHTE                       0.158233\n",
       "KBA13_ALTERHALTER_60          -0.149194\n",
       "ORTSGR_KLS9                    0.148203\n",
       "KBA13_SEG_OBEREMITTELKLASSE    0.147555\n",
       "Name: 1, dtype: float64"
      ]
     },
     "execution_count": 73,
     "metadata": {},
     "output_type": "execute_result"
    }
   ],
   "source": [
    "get_largest_factors(weights[1])"
   ]
  },
  {
   "cell_type": "markdown",
   "metadata": {},
   "source": [
    "The second component is:\n",
    "\n",
    "* KBA13_HERST_BMW_BENZ (share of BMW & Mercedes Benz within the PLZ8) \n",
    "* EWDICHTE (density of inhabitants per square kilometer) \n",
    "* KBA13_ALTERHALTER_60 (share of car owners between 46 and 60 within the PLZ8)\n",
    "* ORTSGR_KLS9 (size of the community)\n",
    "* KBA13_SEG_OBEREMITTELKLASSE (share of upper middle class cars and upper class cars (BMW5er, BMW7er etc.)<br>\n",
    "\n",
    "In summary, this component is somehow related to density of inhabitants in PLZ8 and the share of BMW owners."
   ]
  },
  {
   "cell_type": "code",
   "execution_count": 74,
   "metadata": {},
   "outputs": [
    {
     "data": {
      "text/plain": [
       "PRAEGENDE_JUGENDJAHRE_GENERATION   -0.235050\n",
       "FINANZ_SPARER                      -0.233298\n",
       "ALTERSKATEGORIE_GROB                0.217044\n",
       "SEMIO_PFLICHT                      -0.215137\n",
       "SEMIO_REL                          -0.214990\n",
       "Name: 2, dtype: float64"
      ]
     },
     "execution_count": 74,
     "metadata": {},
     "output_type": "execute_result"
    }
   ],
   "source": [
    "get_largest_factors(weights[2])"
   ]
  },
  {
   "cell_type": "markdown",
   "metadata": {},
   "source": [
    "The third component is:\n",
    "\n",
    "* PRAEGENDE_JUGENDJAHRE_GENERATION (generation) \n",
    "* ALTERSKATEGORIE_GROB (Estimated age based on given name analysis) \n",
    "* FINANZ_SPARER (money saver financial typology)\n",
    "* SEMIO_PFLICHT (affinity indicating in what way the person is dutyfull traditional minded) high number corresponds to low affinity\n",
    "* SEMIO_REL (affinity indicating in what way the person is religious) high number corresponds to low affinity<br>\n",
    "\n",
    "In summary, this component is somehow related to people's age, financial saving typology, and their personal affinities (religion, traditinoalism, etc.)."
   ]
  },
  {
   "cell_type": "markdown",
   "metadata": {},
   "source": [
    "### Clustering\n",
    "\n",
    "#### a) Applying Clustering to General Population\n",
    "\n",
    "Now, it's finally the time to see how the data clusters in the principal components space. We will apply k-means clustering (KMeans class) to the dataset and use the average within-cluster distances from each point to their assigned cluster's centroid to decide on a number of clusters to keep. The k-means clustering is going to be performed on several values of k (between 10 and 30), and the best suited one is going to be chosen. As will be shown, that the average distance of clusters is going to decrease as we increase k. However, the overall value of clustering is going to decreas as we increase k. Therefore, a balance needs to be observed between these 2 metrics."
   ]
  },
  {
   "cell_type": "code",
   "execution_count": 75,
   "metadata": {},
   "outputs": [
    {
     "name": "stdout",
     "output_type": "stream",
     "text": [
      "(632248, 250)\n",
      "(63225, 250)\n"
     ]
    }
   ],
   "source": [
    "X_pca_df = pd.DataFrame(X_pca)\n",
    "sample = X_pca_df.sample(frac=0.1,random_state=0)\n",
    "sample = sample.values\n",
    "print(X_pca.shape)\n",
    "print(sample.shape)"
   ]
  },
  {
   "cell_type": "code",
   "execution_count": 76,
   "metadata": {},
   "outputs": [],
   "source": [
    "centers_sample = range(2,51)"
   ]
  },
  {
   "cell_type": "code",
   "execution_count": 81,
   "metadata": {},
   "outputs": [
    {
     "name": "stdout",
     "output_type": "stream",
     "text": [
      "2 6.7132179737091064\n",
      "3 13.774016618728638\n",
      "4 20.05963110923767\n",
      "5 20.22841191291809\n",
      "6 23.375705242156982\n",
      "7 30.53329873085022\n",
      "8 37.479037046432495\n",
      "9 35.36193227767944\n",
      "10 39.73606634140015\n",
      "11 41.45922660827637\n",
      "12 55.17954134941101\n",
      "13 62.8093786239624\n",
      "14 76.14924812316895\n",
      "15 62.51132273674011\n",
      "16 69.85098361968994\n",
      "17 66.4695053100586\n",
      "18 67.76532649993896\n",
      "19 75.12422037124634\n",
      "20 75.22813177108765\n",
      "21 74.96560430526733\n",
      "22 77.39647197723389\n",
      "23 74.92602205276489\n",
      "24 84.15889501571655\n",
      "25 86.40161895751953\n",
      "26 82.18800091743469\n",
      "27 110.91964316368103\n",
      "28 85.08506202697754\n",
      "29 93.03860235214233\n",
      "30 92.21569776535034\n",
      "31 116.5884621143341\n",
      "32 112.91429114341736\n",
      "33 114.69146203994751\n",
      "34 108.88867282867432\n",
      "35 99.72279644012451\n",
      "36 107.0797107219696\n",
      "37 96.70600509643555\n",
      "38 102.83245921134949\n",
      "39 130.17778730392456\n",
      "40 113.34404850006104\n",
      "41 136.5249936580658\n",
      "42 126.22594094276428\n",
      "43 119.79079985618591\n",
      "44 121.52549982070923\n",
      "45 116.4525842666626\n",
      "46 127.74213981628418\n",
      "47 112.32086896896362\n",
      "48 128.36355829238892\n",
      "49 126.72271990776062\n",
      "50 123.16103625297546\n"
     ]
    }
   ],
   "source": [
    "try:\n",
    "    stored = pickle.load(open('kmeans-50.pickle', 'rb'))\n",
    "    scores_sample = stored['scores_sample']\n",
    "    times_sample = stored['times_sample']\n",
    "    centers_sample = stored['centers_sample']\n",
    "    for k,t in zip(centers_sample, times_sample):\n",
    "        print(k, t)\n",
    "except (OSError, IOError) as e:\n",
    "    \n",
    "    scores_sample = []\n",
    "    times_sample = []\n",
    "    centers_sample = range(2,51)\n",
    "    for k in centers_sample:\n",
    "        start = time.time()\n",
    "        kmeans = KMeans(n_clusters=k, random_state=0).fit(sample)\n",
    "        scores_sample.append(abs(kmeans.score(sample)))\n",
    "        timing_sample = time.time() - start\n",
    "        print(k,timing_sample)\n",
    "        times_sample.append(timing_sample)\n",
    "    stored = {'scores_sample':scores_sample,\n",
    "              'times_sample':times_sample,\n",
    "              'centers_sample':centers_sample\n",
    "             }\n",
    "    pickle.dump(stored, open('kmeans-50.pickle', 'wb'))"
   ]
  },
  {
   "cell_type": "code",
   "execution_count": 82,
   "metadata": {},
   "outputs": [
    {
     "data": {
      "image/png": "[encoded data removed]",
      "text/plain": [
       "<Figure size 432x288 with 1 Axes>"
      ]
     },
     "metadata": {
      "needs_background": "light"
     },
     "output_type": "display_data"
    }
   ],
   "source": [
    "plt.plot(centers_sample,scores_sample)\n",
    "plt.title('Scree Plot');\n",
    "plt.xlabel('Centers');\n",
    "plt.ylabel('Avg. Distance from Centroids');"
   ]
  },
  {
   "cell_type": "markdown",
   "metadata": {},
   "source": [
    "a closer look on the first elbow"
   ]
  },
  {
   "cell_type": "code",
   "execution_count": 83,
   "metadata": {},
   "outputs": [
    {
     "data": {
      "image/png": "[encoded data removed]",
      "text/plain": [
       "<Figure size 432x288 with 1 Axes>"
      ]
     },
     "metadata": {
      "needs_background": "light"
     },
     "output_type": "display_data"
    }
   ],
   "source": [
    "plt.plot(centers_sample[:20],scores_sample[:20]);\n",
    "plt.title('Scree Plot');\n",
    "plt.xlabel('Centers');\n",
    "plt.ylabel('Avg. Distance from Centroids');"
   ]
  },
  {
   "cell_type": "code",
   "execution_count": 84,
   "metadata": {},
   "outputs": [
    {
     "data": {
      "image/png": "[encoded data removed]",
      "text/plain": [
       "<Figure size 432x288 with 1 Axes>"
      ]
     },
     "metadata": {
      "needs_background": "light"
     },
     "output_type": "display_data"
    }
   ],
   "source": [
    "plt.plot(centers_sample[:10],scores_sample[:10]);\n",
    "plt.title('Scree Plot');\n",
    "plt.xlabel('Centers');\n",
    "plt.ylabel('Avg. Distance from Centroids');"
   ]
  },
  {
   "cell_type": "code",
   "execution_count": 80,
   "metadata": {},
   "outputs": [
    {
     "name": "stdout",
     "output_type": "stream",
     "text": [
      "10 382.6422564983368\n",
      "20 987.9127683639526\n",
      "30 1103.44100356102\n",
      "40 1373.474796295166\n",
      "50 1783.3781361579895\n",
      "60 2006.7960333824158\n",
      "70 2219.400752067566\n"
     ]
    }
   ],
   "source": [
    "try:\n",
    "    stored = pickle.load(open('kmeans-70.pickle', 'rb'))\n",
    "    scores = stored['scores']\n",
    "    times = stored['times']\n",
    "    centers = stored['centers']\n",
    "    for k,t in zip(centers, times):\n",
    "        print(k, t)\n",
    "except (OSError, IOError) as e:\n",
    "    scores = []\n",
    "    times = []\n",
    "    centers = range(10,71,10)\n",
    "    for k in centers:\n",
    "        start = time.time()\n",
    "        kmeans = KMeans(n_clusters=k, random_state=0).fit(X_pca)\n",
    "        scores.append(abs(kmeans.score(X_pca)))\n",
    "        timing = time.time() - start\n",
    "        print(k,timing)\n",
    "        times.append(timing)\n",
    "    stored = {'scores':scores,\n",
    "              'times':times,\n",
    "              'centers':centers\n",
    "             }\n",
    "    pickle.dump(stored, open('kmeans-70.pickle', 'wb'))"
   ]
  },
  {
   "cell_type": "code",
   "execution_count": 85,
   "metadata": {},
   "outputs": [
    {
     "data": {
      "image/png": "[encoded data removed]",
      "text/plain": [
       "<Figure size 432x288 with 1 Axes>"
      ]
     },
     "metadata": {
      "needs_background": "light"
     },
     "output_type": "display_data"
    }
   ],
   "source": [
    "plt.plot(centers,scores);\n",
    "plt.title('Scree Plot');\n",
    "plt.xlabel('Centers');\n",
    "plt.ylabel('Avg. Distance from Centroids');"
   ]
  },
  {
   "cell_type": "code",
   "execution_count": 86,
   "metadata": {},
   "outputs": [
    {
     "data": {
      "image/png": "[encoded data removed]",
      "text/plain": [
       "<Figure size 432x288 with 1 Axes>"
      ]
     },
     "metadata": {
      "needs_background": "light"
     },
     "output_type": "display_data"
    }
   ],
   "source": [
    "kmeans = KMeans(n_clusters=5, random_state=0).fit(X_pca)\n",
    "labels = kmeans.predict(X_pca)\n",
    "plt.hist(labels,bins=5);"
   ]
  },
  {
   "cell_type": "code",
   "execution_count": 87,
   "metadata": {},
   "outputs": [
    {
     "data": {
      "text/plain": [
       "Index(['LNR', 'AGER_TYP', 'AKT_DAT_KL', 'ALTER_HH', 'ALTER_KIND1',\n",
       "       'ALTER_KIND2', 'ALTER_KIND3', 'ALTER_KIND4', 'ALTERSKATEGORIE_FEIN',\n",
       "       'ANZ_HAUSHALTE_AKTIV',\n",
       "       ...\n",
       "       'VK_ZG11', 'W_KEIT_KIND_HH', 'WOHNDAUER_2008', 'WOHNLAGE', 'ZABEOTYP',\n",
       "       'PRODUCT_GROUP', 'CUSTOMER_GROUP', 'ONLINE_PURCHASE', 'ANREDE_KZ',\n",
       "       'ALTERSKATEGORIE_GROB'],\n",
       "      dtype='object', length=369)"
      ]
     },
     "execution_count": 87,
     "metadata": {},
     "output_type": "execute_result"
    }
   ],
   "source": [
    "customers.columns"
   ]
  },
  {
   "cell_type": "code",
   "execution_count": 89,
   "metadata": {},
   "outputs": [
    {
     "data": {
      "text/plain": [
       "{'CUSTOMER_GROUP', 'ONLINE_PURCHASE', 'PRODUCT_GROUP'}"
      ]
     },
     "execution_count": 89,
     "metadata": {},
     "output_type": "execute_result"
    }
   ],
   "source": [
    "set(customers.columns) - set(azdias.columns)"
   ]
  },
  {
   "cell_type": "code",
   "execution_count": 90,
   "metadata": {},
   "outputs": [
    {
     "data": {
      "text/plain": [
       "set()"
      ]
     },
     "execution_count": 90,
     "metadata": {},
     "output_type": "execute_result"
    }
   ],
   "source": [
    "set(azdias.columns) - set(customers.columns)"
   ]
  },
  {
   "cell_type": "code",
   "execution_count": 91,
   "metadata": {},
   "outputs": [
    {
     "data": {
      "text/plain": [
       "366"
      ]
     },
     "execution_count": 91,
     "metadata": {},
     "output_type": "execute_result"
    }
   ],
   "source": [
    "len(set(azdias.columns) & set(customers.columns))"
   ]
  },
  {
   "cell_type": "code",
   "execution_count": 133,
   "metadata": {},
   "outputs": [
    {
     "name": "stdout",
     "output_type": "stream",
     "text": [
      "Starting Dropping Type II...Completed\n",
      "Starting Dropping Columns with Many NaNs...Completed\n"
     ]
    },
    {
     "data": {
      "text/plain": [
       "False"
      ]
     },
     "execution_count": 133,
     "metadata": {},
     "output_type": "execute_result"
    }
   ],
   "source": [
    "'LNR' in clean_data_by_dropping_cols_with_many_nans(clean_data_replace_missing_values_with_nans(clean_data_by_dropping_type_II(customers.copy())))"
   ]
  },
  {
   "cell_type": "code",
   "execution_count": 159,
   "metadata": {},
   "outputs": [
    {
     "name": "stdout",
     "output_type": "stream",
     "text": [
      "Starting Dropping Type II...Completed\n",
      "Starting Dropping Columns with Many NaNs...Completed\n",
      "Starting fixing string columns...Completed\n",
      "Starting processing mixed columns...Completed\n",
      "Starting processing categorical columns...Completed\n",
      "Starting Dropping rows with NaNs...Completed\n",
      " ZABEOTYP_6.0                                                                      \n",
      "Conversion to floats Completed\n"
     ]
    }
   ],
   "source": [
    "customers_clean = clean_data(customers)"
   ]
  },
  {
   "cell_type": "code",
   "execution_count": 93,
   "metadata": {},
   "outputs": [
    {
     "data": {
      "text/plain": [
       "(116993, 360)"
      ]
     },
     "execution_count": 93,
     "metadata": {},
     "output_type": "execute_result"
    }
   ],
   "source": [
    "customers_clean.shape"
   ]
  },
  {
   "cell_type": "markdown",
   "metadata": {},
   "source": [
    "Looks like there is a mismatch in the number of columns between the clean customers data and the clean AZDIAS data. This is natural due to the extra 3 columns found in the customers data \n",
    "* CUSTOMER_GROUP\n",
    "* ONLINE_PURCHASE\n",
    "* PRODUCT_GROUP\n",
    "Another reason is the categorical columns are split into dummies based on the values in the columns. However, to continue with the same transformations (scaling, pca, kmeans), the number of columns need to match. For that, the missing columns are going to be added as zeros."
   ]
  },
  {
   "cell_type": "code",
   "execution_count": 160,
   "metadata": {},
   "outputs": [
    {
     "data": {
      "text/plain": [
       "{'GEBAEUDETYP_5.0'}"
      ]
     },
     "execution_count": 160,
     "metadata": {},
     "output_type": "execute_result"
    }
   ],
   "source": [
    "set(df.columns) - set(customers_clean.columns)"
   ]
  },
  {
   "cell_type": "code",
   "execution_count": 161,
   "metadata": {},
   "outputs": [
    {
     "data": {
      "text/plain": [
       "set()"
      ]
     },
     "execution_count": 161,
     "metadata": {},
     "output_type": "execute_result"
    }
   ],
   "source": [
    "set(customers_clean.columns) - set(df.columns)"
   ]
  },
  {
   "cell_type": "markdown",
   "metadata": {},
   "source": [
    "Looks like `GEBAEUDETYP_5.0` is the only missing column"
   ]
  },
  {
   "cell_type": "code",
   "execution_count": 163,
   "metadata": {},
   "outputs": [],
   "source": [
    "for col in list(set(df.columns) - set(customers_clean.columns)):\n",
    "    customers_clean[col] = 0.0 # Just GEBAEUDETYP_5.0 for now"
   ]
  },
  {
   "cell_type": "code",
   "execution_count": 164,
   "metadata": {},
   "outputs": [],
   "source": [
    "customers_scaled_data = scaler.transform(customers_clean)\n",
    "customers_scaled_data = pd.DataFrame(customers_scaled_data, columns=customers_clean.columns)\n",
    "customers_pca = pca.transform(customers_scaled_data)\n",
    "customers_labels = kmeans.predict(customers_pca)"
   ]
  },
  {
   "cell_type": "code",
   "execution_count": 165,
   "metadata": {},
   "outputs": [
    {
     "data": {
      "image/png": "[encoded data removed]",
      "text/plain": [
       "<Figure size 432x288 with 1 Axes>"
      ]
     },
     "metadata": {
      "needs_background": "light"
     },
     "output_type": "display_data"
    }
   ],
   "source": [
    "plt.hist(customers_labels,bins=5);"
   ]
  },
  {
   "cell_type": "code",
   "execution_count": 166,
   "metadata": {},
   "outputs": [
    {
     "data": {
      "image/png": "[encoded data removed]",
      "text/plain": [
       "<Figure size 432x288 with 1 Axes>"
      ]
     },
     "metadata": {
      "needs_background": "light"
     },
     "output_type": "display_data"
    }
   ],
   "source": [
    "sns.countplot(customers_labels);"
   ]
  },
  {
   "cell_type": "code",
   "execution_count": 167,
   "metadata": {},
   "outputs": [
    {
     "data": {
      "image/png": "[encoded data removed]",
      "text/plain": [
       "<Figure size 432x288 with 1 Axes>"
      ]
     },
     "metadata": {
      "needs_background": "light"
     },
     "output_type": "display_data"
    }
   ],
   "source": [
    "sns.countplot(labels);"
   ]
  },
  {
   "cell_type": "code",
   "execution_count": 172,
   "metadata": {},
   "outputs": [],
   "source": [
    "def get_related_columns(class_index,head_len=5):\n",
    "    related_class = kmeans.cluster_centers_[class_index]\n",
    "    inv_pca_related = pca.inverse_transform(related_class)\n",
    "    class_related_weights = pd.DataFrame(inv_pca_related.T,\n",
    "                                         index=df.columns,\n",
    "                                         columns=range(1))\n",
    "    return class_related_weights[0][class_related_weights[0]\n",
    "                                    .abs()\n",
    "                                    .sort_values(ascending=False).index].head(head_len) "
   ]
  },
  {
   "cell_type": "code",
   "execution_count": 176,
   "metadata": {},
   "outputs": [
    {
     "data": {
      "image/png": "[encoded data removed]",
      "text/plain": [
       "<Figure size 432x288 with 1 Axes>"
      ]
     },
     "metadata": {
      "needs_background": "light"
     },
     "output_type": "display_data"
    }
   ],
   "source": [
    "hst,_ = np.histogram(labels,bins=5)\n",
    "customers_hst,_ = np.histogram(customers_labels, bins=5)\n",
    "hst_avg, customers_hst_avg = hst/hst.sum(), customers_hst/customers_hst.sum()\n",
    "ratio = customers_hst_avg/hst_avg\n",
    "plt.plot(ratio);"
   ]
  },
  {
   "cell_type": "code",
   "execution_count": 179,
   "metadata": {},
   "outputs": [
    {
     "data": {
      "text/plain": [
       "array([[1],\n",
       "       [2]], dtype=int64)"
      ]
     },
     "execution_count": 179,
     "metadata": {},
     "output_type": "execute_result"
    }
   ],
   "source": [
    "overrep = np.argwhere(ratio>1.01)\n",
    "overrep"
   ]
  },
  {
   "cell_type": "code",
   "execution_count": 180,
   "metadata": {},
   "outputs": [
    {
     "data": {
      "text/plain": [
       "array([[0],\n",
       "       [3],\n",
       "       [4]], dtype=int64)"
      ]
     },
     "execution_count": 180,
     "metadata": {},
     "output_type": "execute_result"
    }
   ],
   "source": [
    "underrep = np.argwhere(ratio<0.99)\n",
    "underrep"
   ]
  },
  {
   "cell_type": "code",
   "execution_count": 181,
   "metadata": {},
   "outputs": [
    {
     "data": {
      "text/plain": [
       "FINANZ_MINIMALIST    0.865947\n",
       "MOBI_REGIO           0.747238\n",
       "KBA05_ANTG1          0.729495\n",
       "PLZ8_ANTG3          -0.718103\n",
       "PLZ8_ANTG1           0.716753\n",
       "Name: 0, dtype: float64"
      ]
     },
     "execution_count": 181,
     "metadata": {},
     "output_type": "execute_result"
    }
   ],
   "source": [
    "get_related_columns(overrep[0][0])"
   ]
  },
  {
   "cell_type": "code",
   "execution_count": 182,
   "metadata": {},
   "outputs": [
    {
     "data": {
      "text/plain": [
       "KBA13_HERST_BMW_BENZ    1.039486\n",
       "KBA13_SEG_SPORTWAGEN    0.954474\n",
       "KBA13_KMH_211           0.912223\n",
       "KBA13_KW_121            0.909522\n",
       "KBA05_KW3               0.905816\n",
       "Name: 0, dtype: float64"
      ]
     },
     "execution_count": 182,
     "metadata": {},
     "output_type": "execute_result"
    }
   ],
   "source": [
    "get_related_columns(overrep[1][0])"
   ]
  },
  {
   "cell_type": "code",
   "execution_count": 183,
   "metadata": {},
   "outputs": [
    {
     "data": {
      "text/plain": [
       "OST_WEST_KZ_1.0        -1.822350\n",
       "KBA13_SITZE_5           1.584630\n",
       "KBA13_SITZE_4          -1.493858\n",
       "KBA13_HERST_BMW_BENZ   -1.423412\n",
       "KBA13_MERCEDES         -1.370618\n",
       "Name: 0, dtype: float64"
      ]
     },
     "execution_count": 183,
     "metadata": {},
     "output_type": "execute_result"
    }
   ],
   "source": [
    "get_related_columns(underrep[0][0])"
   ]
  },
  {
   "cell_type": "code",
   "execution_count": 184,
   "metadata": {},
   "outputs": [
    {
     "data": {
      "text/plain": [
       "MOBI_REGIO       -0.936821\n",
       "PLZ8_ANTG3        0.855620\n",
       "KBA05_GBZ        -0.848131\n",
       "PLZ8_ANTG1       -0.846721\n",
       "KBA05_AUTOQUOT   -0.844213\n",
       "Name: 0, dtype: float64"
      ]
     },
     "execution_count": 184,
     "metadata": {},
     "output_type": "execute_result"
    }
   ],
   "source": [
    "get_related_columns(underrep[1][0])"
   ]
  },
  {
   "cell_type": "code",
   "execution_count": 185,
   "metadata": {},
   "outputs": [
    {
     "data": {
      "text/plain": [
       "FINANZ_UNAUFFAELLIGER               1.062470\n",
       "PRAEGENDE_JUGENDJAHRE_GENERATION    0.970215\n",
       "FINANZ_SPARER                       0.948600\n",
       "SEMIO_PFLICHT                       0.903659\n",
       "FINANZ_VORSORGER                   -0.901972\n",
       "Name: 0, dtype: float64"
      ]
     },
     "execution_count": 185,
     "metadata": {},
     "output_type": "execute_result"
    }
   ],
   "source": [
    "get_related_columns(underrep[2][0])"
   ]
  },
  {
   "cell_type": "code",
   "execution_count": null,
   "metadata": {},
   "outputs": [],
   "source": []
  },
  {
   "cell_type": "code",
   "execution_count": null,
   "metadata": {},
   "outputs": [],
   "source": []
  },
  {
   "cell_type": "code",
   "execution_count": null,
   "metadata": {},
   "outputs": [],
   "source": []
  },
  {
   "cell_type": "code",
   "execution_count": null,
   "metadata": {},
   "outputs": [],
   "source": []
  },
  {
   "cell_type": "code",
   "execution_count": null,
   "metadata": {},
   "outputs": [],
   "source": []
  },
  {
   "cell_type": "code",
   "execution_count": null,
   "metadata": {},
   "outputs": [],
   "source": []
  },
  {
   "cell_type": "code",
   "execution_count": null,
   "metadata": {},
   "outputs": [],
   "source": []
  },
  {
   "cell_type": "code",
   "execution_count": null,
   "metadata": {},
   "outputs": [],
   "source": []
  },
  {
   "cell_type": "code",
   "execution_count": null,
   "metadata": {},
   "outputs": [],
   "source": []
  },
  {
   "cell_type": "code",
   "execution_count": null,
   "metadata": {},
   "outputs": [],
   "source": []
  },
  {
   "cell_type": "code",
   "execution_count": null,
   "metadata": {},
   "outputs": [],
   "source": []
  },
  {
   "cell_type": "code",
   "execution_count": null,
   "metadata": {},
   "outputs": [],
   "source": []
  },
  {
   "cell_type": "code",
   "execution_count": null,
   "metadata": {},
   "outputs": [],
   "source": []
  },
  {
   "cell_type": "code",
   "execution_count": null,
   "metadata": {},
   "outputs": [],
   "source": []
  },
  {
   "cell_type": "code",
   "execution_count": null,
   "metadata": {},
   "outputs": [],
   "source": []
  },
  {
   "cell_type": "code",
   "execution_count": null,
   "metadata": {},
   "outputs": [],
   "source": []
  },
  {
   "cell_type": "code",
   "execution_count": null,
   "metadata": {},
   "outputs": [],
   "source": []
  },
  {
   "cell_type": "code",
   "execution_count": null,
   "metadata": {},
   "outputs": [],
   "source": []
  },
  {
   "cell_type": "code",
   "execution_count": null,
   "metadata": {},
   "outputs": [],
   "source": []
  },
  {
   "cell_type": "code",
   "execution_count": null,
   "metadata": {},
   "outputs": [],
   "source": []
  },
  {
   "cell_type": "code",
   "execution_count": null,
   "metadata": {},
   "outputs": [],
   "source": []
  },
  {
   "cell_type": "code",
   "execution_count": null,
   "metadata": {},
   "outputs": [],
   "source": []
  },
  {
   "cell_type": "code",
   "execution_count": null,
   "metadata": {},
   "outputs": [],
   "source": []
  },
  {
   "cell_type": "code",
   "execution_count": null,
   "metadata": {},
   "outputs": [],
   "source": []
  },
  {
   "cell_type": "code",
   "execution_count": null,
   "metadata": {},
   "outputs": [],
   "source": []
  },
  {
   "cell_type": "code",
   "execution_count": null,
   "metadata": {},
   "outputs": [],
   "source": []
  },
  {
   "cell_type": "code",
   "execution_count": null,
   "metadata": {},
   "outputs": [],
   "source": []
  },
  {
   "cell_type": "markdown",
   "metadata": {},
   "source": [
    "## Part 2: Supervised Learning Model\n",
    "\n",
    "Now that you've found which parts of the population are more likely to be customers of the mail-order company, it's time to build a prediction model. Each of the rows in the \"MAILOUT\" data files represents an individual that was targeted for a mailout campaign. Ideally, we should be able to use the demographic information from each individual to decide whether or not it will be worth it to include that person in the campaign.\n",
    "\n",
    "The \"MAILOUT\" data has been split into two approximately equal parts, each with almost 43 000 data rows. In this part, you can verify your model with the \"TRAIN\" partition, which includes a column, \"RESPONSE\", that states whether or not a person became a customer of the company following the campaign. In the next part, you'll need to create predictions on the \"TEST\" partition, where the \"RESPONSE\" column has been withheld."
   ]
  },
  {
   "cell_type": "code",
   "execution_count": null,
   "metadata": {},
   "outputs": [],
   "source": [
    "mailout_train = pd.read_csv('../../data/Term2/capstone/arvato_data/Udacity_MAILOUT_052018_TRAIN.csv', sep=';')"
   ]
  },
  {
   "cell_type": "code",
   "execution_count": null,
   "metadata": {},
   "outputs": [],
   "source": []
  },
  {
   "cell_type": "markdown",
   "metadata": {},
   "source": [
    "## Part 3: Kaggle Competition\n",
    "\n",
    "Now that you've created a model to predict which individuals are most likely to respond to a mailout campaign, it's time to test that model in competition through Kaggle. If you click on the link [here](http://www.kaggle.com/t/21e6d45d4c574c7fa2d868f0e8c83140), you'll be taken to the competition page where, if you have a Kaggle account, you can enter.\n",
    "\n",
    "Your entry to the competition should be a CSV file with two columns. The first column should be a copy of \"LNR\", which acts as an ID number for each individual in the \"TEST\" partition. The second column, \"RESPONSE\", should be some measure of how likely each individual became a customer – this might not be a straightforward probability. As you should have found in Part 2, there is a large output class imbalance, where most individuals did not respond to the mailout. Thus, predicting individual classes and using accuracy does not seem to be an appropriate performance evaluation method. Instead, the competition will be using AUC to evaluate performance. The exact values of the \"RESPONSE\" column do not matter as much: only that the higher values try to capture as many of the actual customers as possible, early in the ROC curve sweep."
   ]
  },
  {
   "cell_type": "code",
   "execution_count": null,
   "metadata": {},
   "outputs": [],
   "source": [
    "mailout_test = pd.read_csv('../../data/Term2/capstone/arvato_data/Udacity_MAILOUT_052018_TEST.csv', sep=';')"
   ]
  },
  {
   "cell_type": "code",
   "execution_count": null,
   "metadata": {},
   "outputs": [],
   "source": []
  }
 ],
 "metadata": {
  "kernelspec": {
   "display_name": "Python 3",
   "language": "python",
   "name": "python3"
  },
  "language_info": {
   "codemirror_mode": {
    "name": "ipython",
    "version": 3
   },
   "file_extension": ".py",
   "mimetype": "text/x-python",
   "name": "python",
   "nbconvert_exporter": "python",
   "pygments_lexer": "ipython3",
   "version": "3.7.1"
  }
 },
 "nbformat": 4,
 "nbformat_minor": 2
}
