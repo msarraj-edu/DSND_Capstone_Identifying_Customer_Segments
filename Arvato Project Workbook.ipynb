{
 "cells": [
  {
   "cell_type": "markdown",
   "metadata": {},
   "source": [
    "# Capstone Project: Create a Customer Segmentation Report for Arvato Financial Services\n",
    "\n",
    "In this project, you will analyze demographics data for customers of a mail-order sales company in Germany, comparing it against demographics information for the general population. You'll use unsupervised learning techniques to perform customer segmentation, identifying the parts of the population that best describe the core customer base of the company. Then, you'll apply what you've learned on a third dataset with demographics information for targets of a marketing campaign for the company, and use a model to predict which individuals are most likely to convert into becoming customers for the company. The data that you will use has been provided by our partners at Bertelsmann Arvato Analytics, and represents a real-life data science task.\n",
    "\n",
    "If you completed the first term of this program, you will be familiar with the first part of this project, from the unsupervised learning project. The versions of those two datasets used in this project will include many more features and has not been pre-cleaned. You are also free to choose whatever approach you'd like to analyzing the data rather than follow pre-determined steps. In your work on this project, make sure that you carefully document your steps and decisions, since your main deliverable for this project will be a blog post reporting your findings."
   ]
  },
  {
   "cell_type": "code",
   "execution_count": 1,
   "metadata": {},
   "outputs": [],
   "source": [
    "# import libraries here; add more as necessary\n",
    "import matplotlib.pyplot as plt\n",
    "import numpy as np\n",
    "import os\n",
    "import pandas as pd\n",
    "import seaborn as sns\n",
    "import time\n",
    "from sklearn.cluster import KMeans\n",
    "from sklearn.decomposition import PCA\n",
    "from sklearn.preprocessing import StandardScaler\n",
    "\n",
    "# magic word for producing visualizations in notebook\n",
    "%matplotlib inline"
   ]
  },
  {
   "cell_type": "code",
   "execution_count": 2,
   "metadata": {},
   "outputs": [
    {
     "data": {
      "application/javascript": [
       "// Disables cell autoscrolling. Code borrowed from\n",
       "// https://bit.ly/3xBL7HR\n",
       "\n",
       "IPython.OutputArea.prototype._should_scroll = function(lines) {\n",
       "    return false;\n",
       "}\n"
      ],
      "text/plain": [
       "<IPython.core.display.Javascript object>"
      ]
     },
     "metadata": {},
     "output_type": "display_data"
    }
   ],
   "source": [
    "%%javascript\n",
    "// Disables cell autoscrolling. Code borrowed from\n",
    "// https://bit.ly/3xBL7HR\n",
    "\n",
    "IPython.OutputArea.prototype._should_scroll = function(lines) {\n",
    "    return false;\n",
    "}"
   ]
  },
  {
   "cell_type": "code",
   "execution_count": 3,
   "metadata": {},
   "outputs": [],
   "source": [
    "# Specify a max of 100 rows for displayed Dataframes\n",
    "pd.options.display.max_rows = 100"
   ]
  },
  {
   "cell_type": "markdown",
   "metadata": {},
   "source": [
    "## Part 0: Get to Know the Data\n",
    "\n",
    "There are four data files associated with this project:\n",
    "\n",
    "- `Udacity_AZDIAS_052018.csv`: Demographics data for the general population of Germany; 891 211 persons (rows) x 366 features (columns).\n",
    "- `Udacity_CUSTOMERS_052018.csv`: Demographics data for customers of a mail-order company; 191 652 persons (rows) x 369 features (columns).\n",
    "- `Udacity_MAILOUT_052018_TRAIN.csv`: Demographics data for individuals who were targets of a marketing campaign; 42 982 persons (rows) x 367 (columns).\n",
    "- `Udacity_MAILOUT_052018_TEST.csv`: Demographics data for individuals who were targets of a marketing campaign; 42 833 persons (rows) x 366 (columns).\n",
    "\n",
    "Each row of the demographics files represents a single person, but also includes information outside of individuals, including information about their household, building, and neighborhood. Use the information from the first two files to figure out how customers (\"CUSTOMERS\") are similar to or differ from the general population at large (\"AZDIAS\"), then use your analysis to make predictions on the other two files (\"MAILOUT\"), predicting which recipients are most likely to become a customer for the mail-order company.\n",
    "\n",
    "The \"CUSTOMERS\" file contains three extra columns ('CUSTOMER_GROUP', 'ONLINE_PURCHASE', and 'PRODUCT_GROUP'), which provide broad information about the customers depicted in the file. The original \"MAILOUT\" file included one additional column, \"RESPONSE\", which indicated whether or not each recipient became a customer of the company. For the \"TRAIN\" subset, this column has been retained, but in the \"TEST\" subset it has been removed; it is against that withheld column that your final predictions will be assessed in the Kaggle competition.\n",
    "\n",
    "Otherwise, all of the remaining columns are the same between the three data files. For more information about the columns depicted in the files, you can refer to two Excel spreadsheets provided in the workspace. [One of them](./DIAS Information Levels - Attributes 2017.xlsx) is a top-level list of attributes and descriptions, organized by informational category. [The other](./DIAS Attributes - Values 2017.xlsx) is a detailed mapping of data values for each feature in alphabetical order.\n",
    "\n",
    "In the below cell, we've provided some initial code to load in the first two datasets. Note for all of the `.csv` data files in this project that they're semicolon (`;`) delimited, so an additional argument in the [`read_csv()`](https://pandas.pydata.org/pandas-docs/stable/generated/pandas.read_csv.html) call has been included to read in the data properly. Also, considering the size of the datasets, it may take some time for them to load completely.\n",
    "\n",
    "You'll notice when the data is loaded in that a warning message will immediately pop up. Before you really start digging into the modeling and analysis, you're going to need to perform some cleaning. Take some time to browse the structure of the data and look over the informational spreadsheets to understand the data values. Make some decisions on which features to keep, which features to drop, and if any revisions need to be made on data formats. It'll be a good idea to create a function with pre-processing steps, since you'll need to clean all of the datasets before you work with them."
   ]
  },
  {
   "cell_type": "code",
   "execution_count": 4,
   "metadata": {},
   "outputs": [],
   "source": [
    "def my_load(filename, func=pd.read_csv, *args, **kwargs):\n",
    "    udacity_path = '../../data/Term2/capstone/arvato_data'.split('/')\n",
    "    full_path = os.path.join(*udacity_path, filename)\n",
    "    \n",
    "    errors = []\n",
    "    \n",
    "    try:\n",
    "        df = func(full_path, **kwargs)\n",
    "        return df\n",
    "    except Exception as e:\n",
    "        errors.append(e)\n",
    "    \n",
    "    try:\n",
    "        df = func(filename, **kwargs)\n",
    "        return df\n",
    "    except Exception as e:\n",
    "        errors.append(e)\n",
    "    \n",
    "    if errors:\n",
    "        raise Exception(errors)\n",
    "#     raise Exception('Error when loading the file...\\\n",
    "#     Please check the path is either current directory or ../../data/Term2/capstone/arvato_data ')"
   ]
  },
  {
   "cell_type": "code",
   "execution_count": 5,
   "metadata": {},
   "outputs": [
    {
     "name": "stderr",
     "output_type": "stream",
     "text": [
      "C:\\Users\\Mohammed\\miniconda3\\envs\\DSND_Cap_Clone\\lib\\site-packages\\IPython\\core\\interactiveshell.py:3185: DtypeWarning: Columns (18,19) have mixed types. Specify dtype option on import or set low_memory=False.\n",
      "  if (yield from self.run_code(code, result)):\n"
     ]
    }
   ],
   "source": [
    "# load in the data\n",
    "azdias = my_load('Udacity_AZDIAS_052018.csv', sep= ';')\n",
    "customers = my_load('Udacity_CUSTOMERS_052018.csv', sep=';')"
   ]
  },
  {
   "cell_type": "markdown",
   "metadata": {},
   "source": [
    "The first thing to notice is the warning about columns 18 and 19 being of mixed types (shown below). We will investigate that later. However, let us start by just looking at the basic structure of the data (azdias)"
   ]
  },
  {
   "cell_type": "code",
   "execution_count": 6,
   "metadata": {},
   "outputs": [
    {
     "data": {
      "text/html": [
       "<div>\n",
       "<style scoped>\n",
       "    .dataframe tbody tr th:only-of-type {\n",
       "        vertical-align: middle;\n",
       "    }\n",
       "\n",
       "    .dataframe tbody tr th {\n",
       "        vertical-align: top;\n",
       "    }\n",
       "\n",
       "    .dataframe thead th {\n",
       "        text-align: right;\n",
       "    }\n",
       "</style>\n",
       "<table border=\"1\" class=\"dataframe\">\n",
       "  <thead>\n",
       "    <tr style=\"text-align: right;\">\n",
       "      <th></th>\n",
       "      <th>CAMEO_DEU_2015</th>\n",
       "      <th>CAMEO_DEUG_2015</th>\n",
       "    </tr>\n",
       "  </thead>\n",
       "  <tbody>\n",
       "    <tr>\n",
       "      <th>0</th>\n",
       "      <td>NaN</td>\n",
       "      <td>NaN</td>\n",
       "    </tr>\n",
       "    <tr>\n",
       "      <th>1</th>\n",
       "      <td>8A</td>\n",
       "      <td>8</td>\n",
       "    </tr>\n",
       "    <tr>\n",
       "      <th>2</th>\n",
       "      <td>4C</td>\n",
       "      <td>4</td>\n",
       "    </tr>\n",
       "    <tr>\n",
       "      <th>3</th>\n",
       "      <td>2A</td>\n",
       "      <td>2</td>\n",
       "    </tr>\n",
       "    <tr>\n",
       "      <th>4</th>\n",
       "      <td>6B</td>\n",
       "      <td>6</td>\n",
       "    </tr>\n",
       "  </tbody>\n",
       "</table>\n",
       "</div>"
      ],
      "text/plain": [
       "  CAMEO_DEU_2015 CAMEO_DEUG_2015\n",
       "0            NaN             NaN\n",
       "1             8A               8\n",
       "2             4C               4\n",
       "3             2A               2\n",
       "4             6B               6"
      ]
     },
     "execution_count": 6,
     "metadata": {},
     "output_type": "execute_result"
    }
   ],
   "source": [
    "azdias.iloc[:,17:19].head()"
   ]
  },
  {
   "cell_type": "code",
   "execution_count": 7,
   "metadata": {},
   "outputs": [
    {
     "data": {
      "text/plain": [
       "8      78023\n",
       "9      62578\n",
       "6      61253\n",
       "4      60185\n",
       "8.0    56418\n",
       "3      50360\n",
       "2      48276\n",
       "9.0    45599\n",
       "7      45021\n",
       "6.0    44621\n",
       "4.0    43727\n",
       "3.0    36419\n",
       "2.0    34955\n",
       "7.0    32912\n",
       "5      32292\n",
       "5.0    23018\n",
       "1      20997\n",
       "1.0    15215\n",
       "X        373\n",
       "Name: CAMEO_DEUG_2015, dtype: int64"
      ]
     },
     "execution_count": 7,
     "metadata": {},
     "output_type": "execute_result"
    }
   ],
   "source": [
    "azdias.iloc[:,18].value_counts()"
   ]
  },
  {
   "cell_type": "markdown",
   "metadata": {},
   "source": [
    "Looks like the `X` represents missing values"
   ]
  },
  {
   "cell_type": "code",
   "execution_count": 8,
   "metadata": {},
   "outputs": [
    {
     "data": {
      "text/plain": [
       "6B    56672\n",
       "8A    52438\n",
       "4C    47819\n",
       "2D    35074\n",
       "3C    34769\n",
       "7A    34399\n",
       "3D    34307\n",
       "8B    33434\n",
       "4A    33155\n",
       "8C    30993\n",
       "9D    28593\n",
       "9B    27676\n",
       "9C    24987\n",
       "7B    24503\n",
       "9A    20542\n",
       "2C    19422\n",
       "8D    17576\n",
       "6E    16107\n",
       "2B    15486\n",
       "5D    14943\n",
       "6C    14820\n",
       "2A    13249\n",
       "5A    12214\n",
       "1D    11909\n",
       "1A    10850\n",
       "3A    10543\n",
       "5B    10354\n",
       "5C     9935\n",
       "7C     9065\n",
       "4B     9047\n",
       "4D     8570\n",
       "3B     7160\n",
       "6A     6810\n",
       "9E     6379\n",
       "6D     6073\n",
       "6F     5392\n",
       "7D     5333\n",
       "4E     5321\n",
       "1E     5065\n",
       "7E     4633\n",
       "1C     4317\n",
       "5F     4283\n",
       "1B     4071\n",
       "5E     3581\n",
       "XX      373\n",
       "Name: CAMEO_DEU_2015, dtype: int64"
      ]
     },
     "execution_count": 8,
     "metadata": {},
     "output_type": "execute_result"
    }
   ],
   "source": [
    "azdias.iloc[:,17].value_counts()"
   ]
  },
  {
   "cell_type": "markdown",
   "metadata": {},
   "source": [
    "Looks like the `XX` represents missing values"
   ]
  },
  {
   "cell_type": "code",
   "execution_count": 9,
   "metadata": {},
   "outputs": [
    {
     "data": {
      "text/html": [
       "<div>\n",
       "<style scoped>\n",
       "    .dataframe tbody tr th:only-of-type {\n",
       "        vertical-align: middle;\n",
       "    }\n",
       "\n",
       "    .dataframe tbody tr th {\n",
       "        vertical-align: top;\n",
       "    }\n",
       "\n",
       "    .dataframe thead th {\n",
       "        text-align: right;\n",
       "    }\n",
       "</style>\n",
       "<table border=\"1\" class=\"dataframe\">\n",
       "  <thead>\n",
       "    <tr style=\"text-align: right;\">\n",
       "      <th></th>\n",
       "      <th>LNR</th>\n",
       "      <th>AGER_TYP</th>\n",
       "      <th>AKT_DAT_KL</th>\n",
       "      <th>ALTER_HH</th>\n",
       "      <th>ALTER_KIND1</th>\n",
       "      <th>ALTER_KIND2</th>\n",
       "      <th>ALTER_KIND3</th>\n",
       "      <th>ALTER_KIND4</th>\n",
       "      <th>ALTERSKATEGORIE_FEIN</th>\n",
       "      <th>ANZ_HAUSHALTE_AKTIV</th>\n",
       "      <th>...</th>\n",
       "      <th>VHN</th>\n",
       "      <th>VK_DHT4A</th>\n",
       "      <th>VK_DISTANZ</th>\n",
       "      <th>VK_ZG11</th>\n",
       "      <th>W_KEIT_KIND_HH</th>\n",
       "      <th>WOHNDAUER_2008</th>\n",
       "      <th>WOHNLAGE</th>\n",
       "      <th>ZABEOTYP</th>\n",
       "      <th>ANREDE_KZ</th>\n",
       "      <th>ALTERSKATEGORIE_GROB</th>\n",
       "    </tr>\n",
       "  </thead>\n",
       "  <tbody>\n",
       "    <tr>\n",
       "      <th>count</th>\n",
       "      <td>8.912210e+05</td>\n",
       "      <td>891221.000000</td>\n",
       "      <td>817722.000000</td>\n",
       "      <td>817722.000000</td>\n",
       "      <td>81058.000000</td>\n",
       "      <td>29499.000000</td>\n",
       "      <td>6170.000000</td>\n",
       "      <td>1205.000000</td>\n",
       "      <td>628274.000000</td>\n",
       "      <td>798073.000000</td>\n",
       "      <td>...</td>\n",
       "      <td>770025.000000</td>\n",
       "      <td>815304.000000</td>\n",
       "      <td>815304.000000</td>\n",
       "      <td>815304.000000</td>\n",
       "      <td>783619.000000</td>\n",
       "      <td>817722.000000</td>\n",
       "      <td>798073.000000</td>\n",
       "      <td>891221.000000</td>\n",
       "      <td>891221.000000</td>\n",
       "      <td>891221.000000</td>\n",
       "    </tr>\n",
       "    <tr>\n",
       "      <th>mean</th>\n",
       "      <td>6.372630e+05</td>\n",
       "      <td>-0.358435</td>\n",
       "      <td>4.421928</td>\n",
       "      <td>10.864126</td>\n",
       "      <td>11.745392</td>\n",
       "      <td>13.402658</td>\n",
       "      <td>14.476013</td>\n",
       "      <td>15.089627</td>\n",
       "      <td>13.700717</td>\n",
       "      <td>8.287263</td>\n",
       "      <td>...</td>\n",
       "      <td>2.417322</td>\n",
       "      <td>6.001214</td>\n",
       "      <td>7.532130</td>\n",
       "      <td>5.945972</td>\n",
       "      <td>3.933406</td>\n",
       "      <td>7.908791</td>\n",
       "      <td>4.052836</td>\n",
       "      <td>3.362438</td>\n",
       "      <td>1.522098</td>\n",
       "      <td>2.777398</td>\n",
       "    </tr>\n",
       "    <tr>\n",
       "      <th>std</th>\n",
       "      <td>2.572735e+05</td>\n",
       "      <td>1.198724</td>\n",
       "      <td>3.638805</td>\n",
       "      <td>7.639683</td>\n",
       "      <td>4.097660</td>\n",
       "      <td>3.243300</td>\n",
       "      <td>2.712427</td>\n",
       "      <td>2.452932</td>\n",
       "      <td>5.079849</td>\n",
       "      <td>15.628087</td>\n",
       "      <td>...</td>\n",
       "      <td>1.166572</td>\n",
       "      <td>2.856091</td>\n",
       "      <td>3.247789</td>\n",
       "      <td>2.771464</td>\n",
       "      <td>1.964701</td>\n",
       "      <td>1.923137</td>\n",
       "      <td>1.949539</td>\n",
       "      <td>1.352704</td>\n",
       "      <td>0.499512</td>\n",
       "      <td>1.068775</td>\n",
       "    </tr>\n",
       "    <tr>\n",
       "      <th>min</th>\n",
       "      <td>1.916530e+05</td>\n",
       "      <td>-1.000000</td>\n",
       "      <td>1.000000</td>\n",
       "      <td>0.000000</td>\n",
       "      <td>2.000000</td>\n",
       "      <td>2.000000</td>\n",
       "      <td>4.000000</td>\n",
       "      <td>7.000000</td>\n",
       "      <td>0.000000</td>\n",
       "      <td>0.000000</td>\n",
       "      <td>...</td>\n",
       "      <td>0.000000</td>\n",
       "      <td>1.000000</td>\n",
       "      <td>1.000000</td>\n",
       "      <td>1.000000</td>\n",
       "      <td>0.000000</td>\n",
       "      <td>1.000000</td>\n",
       "      <td>0.000000</td>\n",
       "      <td>1.000000</td>\n",
       "      <td>1.000000</td>\n",
       "      <td>1.000000</td>\n",
       "    </tr>\n",
       "    <tr>\n",
       "      <th>25%</th>\n",
       "      <td>4.144580e+05</td>\n",
       "      <td>-1.000000</td>\n",
       "      <td>1.000000</td>\n",
       "      <td>0.000000</td>\n",
       "      <td>8.000000</td>\n",
       "      <td>11.000000</td>\n",
       "      <td>13.000000</td>\n",
       "      <td>14.000000</td>\n",
       "      <td>11.000000</td>\n",
       "      <td>1.000000</td>\n",
       "      <td>...</td>\n",
       "      <td>2.000000</td>\n",
       "      <td>3.000000</td>\n",
       "      <td>5.000000</td>\n",
       "      <td>4.000000</td>\n",
       "      <td>2.000000</td>\n",
       "      <td>8.000000</td>\n",
       "      <td>3.000000</td>\n",
       "      <td>3.000000</td>\n",
       "      <td>1.000000</td>\n",
       "      <td>2.000000</td>\n",
       "    </tr>\n",
       "    <tr>\n",
       "      <th>50%</th>\n",
       "      <td>6.372630e+05</td>\n",
       "      <td>-1.000000</td>\n",
       "      <td>3.000000</td>\n",
       "      <td>13.000000</td>\n",
       "      <td>12.000000</td>\n",
       "      <td>14.000000</td>\n",
       "      <td>15.000000</td>\n",
       "      <td>15.000000</td>\n",
       "      <td>14.000000</td>\n",
       "      <td>4.000000</td>\n",
       "      <td>...</td>\n",
       "      <td>2.000000</td>\n",
       "      <td>6.000000</td>\n",
       "      <td>8.000000</td>\n",
       "      <td>6.000000</td>\n",
       "      <td>4.000000</td>\n",
       "      <td>9.000000</td>\n",
       "      <td>3.000000</td>\n",
       "      <td>3.000000</td>\n",
       "      <td>2.000000</td>\n",
       "      <td>3.000000</td>\n",
       "    </tr>\n",
       "    <tr>\n",
       "      <th>75%</th>\n",
       "      <td>8.600680e+05</td>\n",
       "      <td>-1.000000</td>\n",
       "      <td>9.000000</td>\n",
       "      <td>17.000000</td>\n",
       "      <td>15.000000</td>\n",
       "      <td>16.000000</td>\n",
       "      <td>17.000000</td>\n",
       "      <td>17.000000</td>\n",
       "      <td>17.000000</td>\n",
       "      <td>9.000000</td>\n",
       "      <td>...</td>\n",
       "      <td>3.000000</td>\n",
       "      <td>9.000000</td>\n",
       "      <td>10.000000</td>\n",
       "      <td>8.000000</td>\n",
       "      <td>6.000000</td>\n",
       "      <td>9.000000</td>\n",
       "      <td>5.000000</td>\n",
       "      <td>4.000000</td>\n",
       "      <td>2.000000</td>\n",
       "      <td>4.000000</td>\n",
       "    </tr>\n",
       "    <tr>\n",
       "      <th>max</th>\n",
       "      <td>1.082873e+06</td>\n",
       "      <td>3.000000</td>\n",
       "      <td>9.000000</td>\n",
       "      <td>21.000000</td>\n",
       "      <td>18.000000</td>\n",
       "      <td>18.000000</td>\n",
       "      <td>18.000000</td>\n",
       "      <td>18.000000</td>\n",
       "      <td>25.000000</td>\n",
       "      <td>595.000000</td>\n",
       "      <td>...</td>\n",
       "      <td>4.000000</td>\n",
       "      <td>11.000000</td>\n",
       "      <td>13.000000</td>\n",
       "      <td>11.000000</td>\n",
       "      <td>6.000000</td>\n",
       "      <td>9.000000</td>\n",
       "      <td>8.000000</td>\n",
       "      <td>6.000000</td>\n",
       "      <td>2.000000</td>\n",
       "      <td>9.000000</td>\n",
       "    </tr>\n",
       "  </tbody>\n",
       "</table>\n",
       "<p>8 rows × 360 columns</p>\n",
       "</div>"
      ],
      "text/plain": [
       "                LNR       AGER_TYP     AKT_DAT_KL       ALTER_HH  \\\n",
       "count  8.912210e+05  891221.000000  817722.000000  817722.000000   \n",
       "mean   6.372630e+05      -0.358435       4.421928      10.864126   \n",
       "std    2.572735e+05       1.198724       3.638805       7.639683   \n",
       "min    1.916530e+05      -1.000000       1.000000       0.000000   \n",
       "25%    4.144580e+05      -1.000000       1.000000       0.000000   \n",
       "50%    6.372630e+05      -1.000000       3.000000      13.000000   \n",
       "75%    8.600680e+05      -1.000000       9.000000      17.000000   \n",
       "max    1.082873e+06       3.000000       9.000000      21.000000   \n",
       "\n",
       "        ALTER_KIND1   ALTER_KIND2  ALTER_KIND3  ALTER_KIND4  \\\n",
       "count  81058.000000  29499.000000  6170.000000  1205.000000   \n",
       "mean      11.745392     13.402658    14.476013    15.089627   \n",
       "std        4.097660      3.243300     2.712427     2.452932   \n",
       "min        2.000000      2.000000     4.000000     7.000000   \n",
       "25%        8.000000     11.000000    13.000000    14.000000   \n",
       "50%       12.000000     14.000000    15.000000    15.000000   \n",
       "75%       15.000000     16.000000    17.000000    17.000000   \n",
       "max       18.000000     18.000000    18.000000    18.000000   \n",
       "\n",
       "       ALTERSKATEGORIE_FEIN  ANZ_HAUSHALTE_AKTIV          ...           \\\n",
       "count         628274.000000        798073.000000          ...            \n",
       "mean              13.700717             8.287263          ...            \n",
       "std                5.079849            15.628087          ...            \n",
       "min                0.000000             0.000000          ...            \n",
       "25%               11.000000             1.000000          ...            \n",
       "50%               14.000000             4.000000          ...            \n",
       "75%               17.000000             9.000000          ...            \n",
       "max               25.000000           595.000000          ...            \n",
       "\n",
       "                 VHN       VK_DHT4A     VK_DISTANZ        VK_ZG11  \\\n",
       "count  770025.000000  815304.000000  815304.000000  815304.000000   \n",
       "mean        2.417322       6.001214       7.532130       5.945972   \n",
       "std         1.166572       2.856091       3.247789       2.771464   \n",
       "min         0.000000       1.000000       1.000000       1.000000   \n",
       "25%         2.000000       3.000000       5.000000       4.000000   \n",
       "50%         2.000000       6.000000       8.000000       6.000000   \n",
       "75%         3.000000       9.000000      10.000000       8.000000   \n",
       "max         4.000000      11.000000      13.000000      11.000000   \n",
       "\n",
       "       W_KEIT_KIND_HH  WOHNDAUER_2008       WOHNLAGE       ZABEOTYP  \\\n",
       "count   783619.000000   817722.000000  798073.000000  891221.000000   \n",
       "mean         3.933406        7.908791       4.052836       3.362438   \n",
       "std          1.964701        1.923137       1.949539       1.352704   \n",
       "min          0.000000        1.000000       0.000000       1.000000   \n",
       "25%          2.000000        8.000000       3.000000       3.000000   \n",
       "50%          4.000000        9.000000       3.000000       3.000000   \n",
       "75%          6.000000        9.000000       5.000000       4.000000   \n",
       "max          6.000000        9.000000       8.000000       6.000000   \n",
       "\n",
       "           ANREDE_KZ  ALTERSKATEGORIE_GROB  \n",
       "count  891221.000000         891221.000000  \n",
       "mean        1.522098              2.777398  \n",
       "std         0.499512              1.068775  \n",
       "min         1.000000              1.000000  \n",
       "25%         1.000000              2.000000  \n",
       "50%         2.000000              3.000000  \n",
       "75%         2.000000              4.000000  \n",
       "max         2.000000              9.000000  \n",
       "\n",
       "[8 rows x 360 columns]"
      ]
     },
     "execution_count": 9,
     "metadata": {},
     "output_type": "execute_result"
    }
   ],
   "source": [
    "azdias.describe()"
   ]
  },
  {
   "cell_type": "code",
   "execution_count": 10,
   "metadata": {},
   "outputs": [
    {
     "name": "stdout",
     "output_type": "stream",
     "text": [
      "<class 'pandas.core.frame.DataFrame'>\n",
      "RangeIndex: 891221 entries, 0 to 891220\n",
      "Columns: 366 entries, LNR to ALTERSKATEGORIE_GROB\n",
      "dtypes: float64(267), int64(93), object(6)\n",
      "memory usage: 2.4+ GB\n"
     ]
    }
   ],
   "source": [
    "azdias.info()"
   ]
  },
  {
   "cell_type": "markdown",
   "metadata": {},
   "source": [
    "Looks like the data is relatively big with a disk space of 2.4+ GB and 366 columns of which 267 are float, 93 are ints, and 6 are either strings or mixed.<br>\n",
    "The first step is to identify unknown values (nans). For that, the `DIAS Attributes - Values 2017.xlsx` file is needed. Upon a quick skim over that file, it seems that the nans are signaled in the `Meaning` column by either the phrase `unknown` or `no ... known ...`. The most approach to handle this is by filtering the rows by the `known` phrase then extracting corresponding values from the `Value` column "
   ]
  },
  {
   "cell_type": "code",
   "execution_count": 11,
   "metadata": {},
   "outputs": [
    {
     "data": {
      "text/html": [
       "<div>\n",
       "<style scoped>\n",
       "    .dataframe tbody tr th:only-of-type {\n",
       "        vertical-align: middle;\n",
       "    }\n",
       "\n",
       "    .dataframe tbody tr th {\n",
       "        vertical-align: top;\n",
       "    }\n",
       "\n",
       "    .dataframe thead th {\n",
       "        text-align: right;\n",
       "    }\n",
       "</style>\n",
       "<table border=\"1\" class=\"dataframe\">\n",
       "  <thead>\n",
       "    <tr style=\"text-align: right;\">\n",
       "      <th></th>\n",
       "      <th>Unnamed: 0</th>\n",
       "      <th>Attribute</th>\n",
       "      <th>Description</th>\n",
       "      <th>Value</th>\n",
       "      <th>Meaning</th>\n",
       "    </tr>\n",
       "  </thead>\n",
       "  <tbody>\n",
       "    <tr>\n",
       "      <th>0</th>\n",
       "      <td>NaN</td>\n",
       "      <td>AGER_TYP</td>\n",
       "      <td>best-ager typology</td>\n",
       "      <td>-1</td>\n",
       "      <td>unknown</td>\n",
       "    </tr>\n",
       "    <tr>\n",
       "      <th>5</th>\n",
       "      <td>NaN</td>\n",
       "      <td>ALTERSKATEGORIE_GROB</td>\n",
       "      <td>age classification through prename analysis</td>\n",
       "      <td>-1, 0</td>\n",
       "      <td>unknown</td>\n",
       "    </tr>\n",
       "    <tr>\n",
       "      <th>11</th>\n",
       "      <td>NaN</td>\n",
       "      <td>ALTER_HH</td>\n",
       "      <td>main age within the household</td>\n",
       "      <td>0</td>\n",
       "      <td>unknown / no main age detectable</td>\n",
       "    </tr>\n",
       "    <tr>\n",
       "      <th>33</th>\n",
       "      <td>NaN</td>\n",
       "      <td>ANREDE_KZ</td>\n",
       "      <td>gender</td>\n",
       "      <td>-1, 0</td>\n",
       "      <td>unknown</td>\n",
       "    </tr>\n",
       "    <tr>\n",
       "      <th>40</th>\n",
       "      <td>NaN</td>\n",
       "      <td>BALLRAUM</td>\n",
       "      <td>distance to next urban centre</td>\n",
       "      <td>-1</td>\n",
       "      <td>unknown</td>\n",
       "    </tr>\n",
       "  </tbody>\n",
       "</table>\n",
       "</div>"
      ],
      "text/plain": [
       "    Unnamed: 0             Attribute  \\\n",
       "0          NaN              AGER_TYP   \n",
       "5          NaN  ALTERSKATEGORIE_GROB   \n",
       "11         NaN              ALTER_HH   \n",
       "33         NaN             ANREDE_KZ   \n",
       "40         NaN              BALLRAUM   \n",
       "\n",
       "                                     Description  Value  \\\n",
       "0                             best-ager typology     -1   \n",
       "5   age classification through prename analysis   -1, 0   \n",
       "11                 main age within the household      0   \n",
       "33                                        gender  -1, 0   \n",
       "40                distance to next urban centre      -1   \n",
       "\n",
       "                             Meaning  \n",
       "0                            unknown  \n",
       "5                            unknown  \n",
       "11  unknown / no main age detectable  \n",
       "33                           unknown  \n",
       "40                           unknown  "
      ]
     },
     "execution_count": 11,
     "metadata": {},
     "output_type": "execute_result"
    }
   ],
   "source": [
    "def get_unknown_meanings():\n",
    "    df = my_load('DIAS Attributes - Values 2017.xls', func=pd.read_excel)\n",
    "    df.ffill(inplace=True)\n",
    "    df = df[df.Meaning.str.contains('known')]\n",
    "    df.to_csv('tmp.csv')\n",
    "    return df\n",
    "unknowns = get_unknown_meanings()\n",
    "unknowns.head()"
   ]
  },
  {
   "cell_type": "markdown",
   "metadata": {},
   "source": [
    "Just to make sure that we don't have irrelevant rows, I will print all different values of Meaning"
   ]
  },
  {
   "cell_type": "code",
   "execution_count": 12,
   "metadata": {},
   "outputs": [
    {
     "data": {
      "text/plain": [
       "{'company building w/o known company ',\n",
       " 'mixed building without actually known company ',\n",
       " 'mixed building without actually known household ',\n",
       " 'mixed building without actually known household or comapny ',\n",
       " 'no transaction known',\n",
       " 'no transactions known',\n",
       " 'residental building buildings without actually known household',\n",
       " 'unknown',\n",
       " 'unknown / no main age detectable'}"
      ]
     },
     "execution_count": 12,
     "metadata": {},
     "output_type": "execute_result"
    }
   ],
   "source": [
    "set(unknowns.Meaning.values)"
   ]
  },
  {
   "cell_type": "markdown",
   "metadata": {},
   "source": [
    "It turns out that the phrases that indicate missing values are only the following:\n",
    "<ul>\n",
    "    <li>unknown</li>\n",
    "    <li>unknown / no main age detectable</li>\n",
    "    <li>no transaction known</li>\n",
    "    <li>no transactions known</li>\n",
    "</ul>"
   ]
  },
  {
   "cell_type": "code",
   "execution_count": 13,
   "metadata": {},
   "outputs": [
    {
     "data": {
      "text/html": [
       "<div>\n",
       "<style scoped>\n",
       "    .dataframe tbody tr th:only-of-type {\n",
       "        vertical-align: middle;\n",
       "    }\n",
       "\n",
       "    .dataframe tbody tr th {\n",
       "        vertical-align: top;\n",
       "    }\n",
       "\n",
       "    .dataframe thead th {\n",
       "        text-align: right;\n",
       "    }\n",
       "</style>\n",
       "<table border=\"1\" class=\"dataframe\">\n",
       "  <thead>\n",
       "    <tr style=\"text-align: right;\">\n",
       "      <th></th>\n",
       "      <th>Unnamed: 0</th>\n",
       "      <th>Attribute</th>\n",
       "      <th>Description</th>\n",
       "      <th>Value</th>\n",
       "      <th>Meaning</th>\n",
       "    </tr>\n",
       "  </thead>\n",
       "  <tbody>\n",
       "    <tr>\n",
       "      <th>0</th>\n",
       "      <td>NaN</td>\n",
       "      <td>AGER_TYP</td>\n",
       "      <td>best-ager typology</td>\n",
       "      <td>-1</td>\n",
       "      <td>unknown</td>\n",
       "    </tr>\n",
       "    <tr>\n",
       "      <th>5</th>\n",
       "      <td>NaN</td>\n",
       "      <td>ALTERSKATEGORIE_GROB</td>\n",
       "      <td>age classification through prename analysis</td>\n",
       "      <td>-1, 0</td>\n",
       "      <td>unknown</td>\n",
       "    </tr>\n",
       "    <tr>\n",
       "      <th>11</th>\n",
       "      <td>NaN</td>\n",
       "      <td>ALTER_HH</td>\n",
       "      <td>main age within the household</td>\n",
       "      <td>0</td>\n",
       "      <td>unknown / no main age detectable</td>\n",
       "    </tr>\n",
       "    <tr>\n",
       "      <th>33</th>\n",
       "      <td>NaN</td>\n",
       "      <td>ANREDE_KZ</td>\n",
       "      <td>gender</td>\n",
       "      <td>-1, 0</td>\n",
       "      <td>unknown</td>\n",
       "    </tr>\n",
       "    <tr>\n",
       "      <th>40</th>\n",
       "      <td>NaN</td>\n",
       "      <td>BALLRAUM</td>\n",
       "      <td>distance to next urban centre</td>\n",
       "      <td>-1</td>\n",
       "      <td>unknown</td>\n",
       "    </tr>\n",
       "  </tbody>\n",
       "</table>\n",
       "</div>"
      ],
      "text/plain": [
       "    Unnamed: 0             Attribute  \\\n",
       "0          NaN              AGER_TYP   \n",
       "5          NaN  ALTERSKATEGORIE_GROB   \n",
       "11         NaN              ALTER_HH   \n",
       "33         NaN             ANREDE_KZ   \n",
       "40         NaN              BALLRAUM   \n",
       "\n",
       "                                     Description  Value  \\\n",
       "0                             best-ager typology     -1   \n",
       "5   age classification through prename analysis   -1, 0   \n",
       "11                 main age within the household      0   \n",
       "33                                        gender  -1, 0   \n",
       "40                distance to next urban centre      -1   \n",
       "\n",
       "                             Meaning  \n",
       "0                            unknown  \n",
       "5                            unknown  \n",
       "11  unknown / no main age detectable  \n",
       "33                           unknown  \n",
       "40                           unknown  "
      ]
     },
     "execution_count": 13,
     "metadata": {},
     "output_type": "execute_result"
    }
   ],
   "source": [
    "def get_unknown_meanings_updated():\n",
    "    df = my_load('DIAS Attributes - Values 2017.xls', func=pd.read_excel)\n",
    "    df.ffill(inplace=True)\n",
    "    lst_of_unknowns = ['unknown',\n",
    "                       'unknown / no main age detectable',\n",
    "                       'no transaction known',\n",
    "                       'no transactions known'\n",
    "                      ]\n",
    "    df = df[df.Meaning.str.contains('|'.join(lst_of_unknowns))]\n",
    "    df.to_csv('tmp2.csv')\n",
    "    return df\n",
    "unknowns = get_unknown_meanings_updated()\n",
    "unknowns.head()"
   ]
  },
  {
   "cell_type": "code",
   "execution_count": 14,
   "metadata": {},
   "outputs": [],
   "source": [
    "unknown_vals = unknowns[['Attribute', 'Value']].set_index('Attribute').astype({'Value':str})"
   ]
  },
  {
   "cell_type": "code",
   "execution_count": 15,
   "metadata": {},
   "outputs": [
    {
     "data": {
      "text/plain": [
       "{'no transaction known',\n",
       " 'no transactions known',\n",
       " 'unknown',\n",
       " 'unknown / no main age detectable'}"
      ]
     },
     "execution_count": 15,
     "metadata": {},
     "output_type": "execute_result"
    }
   ],
   "source": [
    "set(unknowns.Meaning.values)"
   ]
  },
  {
   "cell_type": "markdown",
   "metadata": {},
   "source": [
    "It is important to remember that not all the attributes mentioned in the Attribute file contain unknown indicators. So, it is good to list those attributes here as they.<br>\n",
    "<br>\n",
    "Now that we are doing with identifying missing values specified in the Attribute file, it is time to add back the columns that were specified in the Attribute file but contained none of the `unknown` catch phrases mentioned above"
   ]
  },
  {
   "cell_type": "code",
   "execution_count": 16,
   "metadata": {},
   "outputs": [
    {
     "data": {
      "text/plain": [
       "{'ANZ_HAUSHALTE_AKTIV',\n",
       " 'ANZ_HH_TITEL',\n",
       " 'ANZ_PERSONEN',\n",
       " 'ANZ_TITEL',\n",
       " 'CAMEO_DEU_2015',\n",
       " 'D19_BANKEN_ONLINE_QUOTE_12',\n",
       " 'D19_GESAMT_ONLINE_QUOTE_12',\n",
       " 'D19_KONSUMTYP',\n",
       " 'D19_VERSAND_ONLINE_QUOTE_12',\n",
       " 'GEBAEUDETYP_RASTER',\n",
       " 'GEBURTSJAHR',\n",
       " 'GFK_URLAUBERTYP',\n",
       " 'GREEN_AVANTGARDE',\n",
       " 'KBA13_ANZAHL_PKW',\n",
       " 'KONSUMNAEHE',\n",
       " 'LP_FAMILIE_FEIN',\n",
       " 'LP_FAMILIE_GROB',\n",
       " 'LP_LEBENSPHASE_FEIN',\n",
       " 'LP_LEBENSPHASE_GROB',\n",
       " 'LP_STATUS_FEIN',\n",
       " 'LP_STATUS_GROB',\n",
       " 'MIN_GEBAEUDEJAHR',\n",
       " 'MOBI_REGIO',\n",
       " 'ONLINE_AFFINITAET',\n",
       " 'PLZ8_BAUMAX'}"
      ]
     },
     "execution_count": 16,
     "metadata": {},
     "output_type": "execute_result"
    }
   ],
   "source": [
    "def get_non_unknown_meanings(unknown_vals):\n",
    "    df = my_load('DIAS Attributes - Values 2017.xls', func=pd.read_excel)\n",
    "    df.ffill(inplace=True)\n",
    "    \n",
    "    attributes_of_interest = set(df.Attribute.unique()) - set(unknown_vals.index) \n",
    "    return attributes_of_interest\n",
    "\n",
    "cols_with_no_unknowns = get_non_unknown_meanings(unknown_vals)\n",
    "cols_with_no_unknowns"
   ]
  },
  {
   "cell_type": "code",
   "execution_count": 17,
   "metadata": {},
   "outputs": [
    {
     "data": {
      "text/plain": [
       "25"
      ]
     },
     "execution_count": 17,
     "metadata": {},
     "output_type": "execute_result"
    }
   ],
   "source": [
    "len(cols_with_no_unknowns)"
   ]
  },
  {
   "cell_type": "code",
   "execution_count": 18,
   "metadata": {},
   "outputs": [
    {
     "name": "stdout",
     "output_type": "stream",
     "text": [
      "Looks like there are 289 different attributes that need to be addressed in terms of identifying missing values. And, there are 25 columns that don't have missing values indicators\n"
     ]
    }
   ],
   "source": [
    "print(f'Looks like there are {len(set(unknowns.Attribute.values))} \\\n",
    "different attributes that need to be addressed in terms of identifying \\\n",
    "missing values. And, there are {len(cols_with_no_unknowns)} \\\n",
    "columns that don\\'t have missing values indicators')"
   ]
  },
  {
   "cell_type": "markdown",
   "metadata": {},
   "source": [
    "However, upon further inspection, it turns out that there are differences between the columns specified in the Attributes sheet and the columns found in the AZDIAS dataframe. <br>"
   ]
  },
  {
   "cell_type": "code",
   "execution_count": 19,
   "metadata": {},
   "outputs": [],
   "source": [
    "df = azdias.copy()"
   ]
  },
  {
   "cell_type": "code",
   "execution_count": 20,
   "metadata": {},
   "outputs": [],
   "source": [
    "def parse_missing_and_unknown(entry):\n",
    "    def is_number(s):\n",
    "        try:\n",
    "            float(s)\n",
    "            return True\n",
    "        except ValueError:\n",
    "            return False\n",
    "    \n",
    "    lst = entry.split(',')\n",
    "    lst = [float(num) if is_number(num) else num for num in lst]\n",
    "    return lst\n",
    "\n"
   ]
  },
  {
   "cell_type": "code",
   "execution_count": 21,
   "metadata": {},
   "outputs": [
    {
     "name": "stdout",
     "output_type": "stream",
     "text": [
      "For example, There are 42 columns that we can identify nans for but are not available in the AZDIAS dataframe\n",
      "On the other hand, there are 94 columns which we don't have information to identify nans with, since they are not mentioned in the Attribute sheet but available in the AZDIAS dataframe\n",
      "Fortunately, there are 272 columns that overlap and we can identify nans for\n"
     ]
    }
   ],
   "source": [
    "print(f'For example, There are {len(set(unknown_vals.index) - set(df.columns))} columns that we can identify nans for \\\n",
    "but are not available in the AZDIAS dataframe')\n",
    "print(f'On the other hand, there are {len(set(df.columns) - set(unknown_vals.index)  ) - len(cols_with_no_unknowns)} columns which we don\\'t have information to identify nans with, since \\\n",
    "they are not mentioned in the Attribute sheet but available in the AZDIAS dataframe' )\n",
    "print(f'Fortunately, there are {len(set(df.columns) & set(unknown_vals.index)) + len(cols_with_no_unknowns)} columns that overlap and we can identify nans for')"
   ]
  },
  {
   "cell_type": "markdown",
   "metadata": {},
   "source": [
    "On the good side, the majority of the columns can be processed easily, since they are overlapping between the 2 sheets. However, there is a large number of columns that are remaining. Those remaining columns are going to be addressed individually if there turned out to be a need to include them for further analysis. However, most likely, these columns are going to be dropped, because cleanliness of the data that is produced at this step is of top priority. Another reason is that learning models don't perform well (or not at all) with missing values.  "
   ]
  },
  {
   "cell_type": "code",
   "execution_count": 20,
   "metadata": {},
   "outputs": [
    {
     "data": {
      "text/plain": [
       "{'BIP_FLAG',\n",
       " 'CAMEO_DEUINTL_2015',\n",
       " 'D19_BANKEN_DIREKT_RZ',\n",
       " 'D19_BANKEN_GROSS_RZ',\n",
       " 'D19_BANKEN_LOKAL_RZ',\n",
       " 'D19_BANKEN_REST_RZ',\n",
       " 'D19_BEKLEIDUNG_GEH_RZ',\n",
       " 'D19_BEKLEIDUNG_REST_RZ',\n",
       " 'D19_BILDUNG_RZ',\n",
       " 'D19_BIO_OEKO_RZ',\n",
       " 'D19_BUCH_RZ',\n",
       " 'D19_DIGIT_SERV_RZ',\n",
       " 'D19_DROGERIEARTIKEL_RZ',\n",
       " 'D19_ENERGIE_RZ',\n",
       " 'D19_FREIZEIT_RZ',\n",
       " 'D19_GARTEN_RZ',\n",
       " 'D19_HANDWERK_RZ',\n",
       " 'D19_HAUS_DEKO_RZ',\n",
       " 'D19_KINDERARTIKEL_RZ',\n",
       " 'D19_KK_KUNDENTYP',\n",
       " 'D19_KOSMETIK_RZ',\n",
       " 'D19_LEBENSMITTEL_RZ',\n",
       " 'D19_LOTTO_RZ',\n",
       " 'D19_NAHRUNGSERGAENZUNG_RZ',\n",
       " 'D19_RATGEBER_RZ',\n",
       " 'D19_REISEN_RZ',\n",
       " 'D19_SAMMELARTIKEL_RZ',\n",
       " 'D19_SCHUHE_RZ',\n",
       " 'D19_SONSTIGE_RZ',\n",
       " 'D19_TECHNIK_RZ',\n",
       " 'D19_TELKO_MOBILE_RZ',\n",
       " 'D19_TELKO_REST_RZ',\n",
       " 'D19_TIERARTIKEL_RZ',\n",
       " 'D19_VERSAND_REST_RZ',\n",
       " 'D19_VERSICHERUNGEN_RZ',\n",
       " 'D19_VOLLSORTIMENT_RZ',\n",
       " 'D19_WEIN_FEINKOST_RZ',\n",
       " 'GEOSCORE_KLS7',\n",
       " 'HAUSHALTSSTRUKTUR',\n",
       " 'KBA13_CCM_1400_2500',\n",
       " 'SOHO_FLAG',\n",
       " 'WACHSTUMSGEBIET_NB'}"
      ]
     },
     "execution_count": 20,
     "metadata": {},
     "output_type": "execute_result"
    }
   ],
   "source": [
    "Print('These are some of the remaining columns mentioned above')\n",
    "set(unknown_vals.index) - set(df.columns) "
   ]
  },
  {
   "cell_type": "markdown",
   "metadata": {},
   "source": [
    "it seems that there are multiple columns that are found in the Attribute sheet and cannot be found in the AZDIAS data. However, several of those have a very similar corresponding column names. For example, `D19_BANKEN_GROSS_RZ` is found in the Attributes and not in AZDIAS. However, `D19_BANKEN_GROSS` can be found in AZDIAS. There could be several reasons for this. One reason would be that these are different and unrelated columns. However, it is also possible that this is only a mismatch in the column names based on factors like (data storage database or differently located server). In other words, it could represent a lack of synchronization between the 2 files. Another possibility is that these are different stages of storing the same data, or that they were undergone different processing or preprocessing phases<br>\n",
    "Let's count how many of these columns are found"
   ]
  },
  {
   "cell_type": "code",
   "execution_count": 21,
   "metadata": {},
   "outputs": [
    {
     "name": "stdout",
     "output_type": "stream",
     "text": [
      "There are 33 such columns\n"
     ]
    },
    {
     "data": {
      "text/plain": [
       "['D19_BANKEN_DIREKT',\n",
       " 'D19_VERSICHERUNGEN',\n",
       " 'D19_SAMMELARTIKEL',\n",
       " 'D19_FREIZEIT',\n",
       " 'D19_BANKEN_LOKAL',\n",
       " 'D19_BIO_OEKO',\n",
       " 'D19_SONSTIGE',\n",
       " 'D19_KINDERARTIKEL',\n",
       " 'D19_TIERARTIKEL',\n",
       " 'D19_BANKEN_GROSS',\n",
       " 'D19_KOSMETIK',\n",
       " 'D19_NAHRUNGSERGAENZUNG',\n",
       " 'D19_TELKO_REST',\n",
       " 'D19_DIGIT_SERV',\n",
       " 'D19_LOTTO',\n",
       " 'D19_TELKO_MOBILE',\n",
       " 'D19_ENERGIE',\n",
       " 'D19_SCHUHE',\n",
       " 'D19_REISEN',\n",
       " 'D19_VOLLSORTIMENT',\n",
       " 'D19_RATGEBER',\n",
       " 'D19_WEIN_FEINKOST',\n",
       " 'D19_BILDUNG',\n",
       " 'D19_HAUS_DEKO',\n",
       " 'D19_GARTEN',\n",
       " 'D19_DROGERIEARTIKEL',\n",
       " 'D19_BEKLEIDUNG_GEH',\n",
       " 'D19_LEBENSMITTEL',\n",
       " 'D19_HANDWERK',\n",
       " 'D19_VERSAND_REST',\n",
       " 'D19_TECHNIK',\n",
       " 'D19_BEKLEIDUNG_REST',\n",
       " 'D19_BANKEN_REST']"
      ]
     },
     "execution_count": 21,
     "metadata": {},
     "output_type": "execute_result"
    }
   ],
   "source": [
    "def get_columns_with_similar_names():\n",
    "    lst1 = list(set(unknown_vals.index) - set(df.columns) )\n",
    "    lst2 = list(set(df.columns) - set(unknown_vals.index) )\n",
    "    \n",
    "    lst1 = [e[:-3] if e.endswith('_RZ') else e for e in lst1 ]\n",
    "    return list(set(lst1) & set(lst2))\n",
    "print(f'There are {len(get_columns_with_similar_names())} such columns')\n",
    "get_columns_with_similar_names()"
   ]
  },
  {
   "cell_type": "markdown",
   "metadata": {},
   "source": [
    "These columns could be used in our analysis. However, it is really hard to prove that the columns found in the Attribute file correspond to the ones that are similar from AZDIAS. Therefore, they are going to be dropped for now. However, if a need arises to use them, then they can be potentially used with careful pre-processing/inspection.<br>\n",
    "<br>\n",
    "For now, we are sticking with the column names that are overlapping between the 2 files (mentioned in Attribute and AZDIAS)<br>\n",
    "The next step is to replace the values specified by the Value column to nans."
   ]
  },
  {
   "cell_type": "code",
   "execution_count": 22,
   "metadata": {},
   "outputs": [],
   "source": [
    "# replace values specified in Attribute with NaNs\n",
    "for col in list(set(unknown_vals.index) & set(df.columns)):\n",
    "    lst_of_values_to_be_converted_to_nans = parse_missing_and_unknown(unknown_vals['Value'][col])\n",
    "    df.loc[df[col].isin(lst_of_values_to_be_converted_to_nans), col] = np.nan"
   ]
  },
  {
   "cell_type": "code",
   "execution_count": 25,
   "metadata": {},
   "outputs": [
    {
     "data": {
      "text/plain": [
       "((891221, 366), (891221, 366))"
      ]
     },
     "execution_count": 25,
     "metadata": {},
     "output_type": "execute_result"
    }
   ],
   "source": [
    "azdias.shape,df.shape"
   ]
  },
  {
   "cell_type": "code",
   "execution_count": 23,
   "metadata": {},
   "outputs": [
    {
     "data": {
      "text/plain": [
       "-1    677503\n",
       " 2     98472\n",
       " 1     79802\n",
       " 3     27104\n",
       " 0      8340\n",
       "Name: AGER_TYP, dtype: int64"
      ]
     },
     "execution_count": 23,
     "metadata": {},
     "output_type": "execute_result"
    }
   ],
   "source": [
    "azdias.AGER_TYP.value_counts()"
   ]
  },
  {
   "cell_type": "code",
   "execution_count": 24,
   "metadata": {},
   "outputs": [
    {
     "data": {
      "text/plain": [
       "2.0    98472\n",
       "1.0    79802\n",
       "3.0    27104\n",
       "0.0     8340\n",
       "Name: AGER_TYP, dtype: int64"
      ]
     },
     "execution_count": 24,
     "metadata": {},
     "output_type": "execute_result"
    }
   ],
   "source": [
    "df.AGER_TYP.value_counts()"
   ]
  },
  {
   "cell_type": "markdown",
   "metadata": {},
   "source": [
    "Looks like missing values are detected and replaced properly. However, there is more cleaning to do. Some columns appear to be categorical, while others appear to be mixed. Careful handling needs to be used to address each of those.<br>\n",
    "However, before we start with that, one thing to do is to investigate the distribution of missing values in the dataset.<br>\n",
    "As can be seen below, the number of rows with no missing values is 0 (even after filtering out the columns that were not cleaned in the previous step)"
   ]
  },
  {
   "cell_type": "code",
   "execution_count": 21,
   "metadata": {},
   "outputs": [],
   "source": [
    "df = df[list(set(unknown_vals.index) & set(df.columns))]"
   ]
  },
  {
   "cell_type": "code",
   "execution_count": 22,
   "metadata": {},
   "outputs": [
    {
     "data": {
      "text/html": [
       "<div>\n",
       "<style scoped>\n",
       "    .dataframe tbody tr th:only-of-type {\n",
       "        vertical-align: middle;\n",
       "    }\n",
       "\n",
       "    .dataframe tbody tr th {\n",
       "        vertical-align: top;\n",
       "    }\n",
       "\n",
       "    .dataframe thead th {\n",
       "        text-align: right;\n",
       "    }\n",
       "</style>\n",
       "<table border=\"1\" class=\"dataframe\">\n",
       "  <thead>\n",
       "    <tr style=\"text-align: right;\">\n",
       "      <th></th>\n",
       "      <th>KBA13_SEG_VAN</th>\n",
       "      <th>D19_VERSAND_ANZ_24</th>\n",
       "      <th>FINANZ_ANLEGER</th>\n",
       "      <th>KBA13_CCM_3001</th>\n",
       "      <th>SEMIO_ERL</th>\n",
       "      <th>KBA05_KW1</th>\n",
       "      <th>KBA13_AUDI</th>\n",
       "      <th>ZABEOTYP</th>\n",
       "      <th>KBA13_ALTERHALTER_45</th>\n",
       "      <th>KBA13_SEG_UTILITIES</th>\n",
       "      <th>...</th>\n",
       "      <th>D19_VERSAND_OFFLINE_DATUM</th>\n",
       "      <th>KBA05_SEG8</th>\n",
       "      <th>KBA05_VORB2</th>\n",
       "      <th>REGIOTYP</th>\n",
       "      <th>TITEL_KZ</th>\n",
       "      <th>KBA13_FORD</th>\n",
       "      <th>FINANZTYP</th>\n",
       "      <th>D19_TELKO_OFFLINE_DATUM</th>\n",
       "      <th>KBA13_HALTER_25</th>\n",
       "      <th>KBA05_AUTOQUOT</th>\n",
       "    </tr>\n",
       "  </thead>\n",
       "  <tbody>\n",
       "  </tbody>\n",
       "</table>\n",
       "<p>0 rows × 247 columns</p>\n",
       "</div>"
      ],
      "text/plain": [
       "Empty DataFrame\n",
       "Columns: [KBA13_SEG_VAN, D19_VERSAND_ANZ_24, FINANZ_ANLEGER, KBA13_CCM_3001, SEMIO_ERL, KBA05_KW1, KBA13_AUDI, ZABEOTYP, KBA13_ALTERHALTER_45, KBA13_SEG_UTILITIES, KBA05_ZUL4, BALLRAUM, KBA05_DIESEL, KBA13_BJ_2009, KBA13_CCM_1600, WOHNLAGE, KBA05_MAXHERST, D19_TELKO_ANZ_24, KBA05_VORB1, KBA13_KRSSEG_KLEIN, D19_BANKEN_DATUM, FINANZ_VORSORGER, PLZ8_ANTG4, D19_VERSI_ANZ_24, RELAT_AB, KBA13_CCM_1500, KBA05_SEG4, KBA13_KRSAQUOT, KBA05_KRSAQUOT, KBA13_VORB_1_2, KBA05_GBZ, CAMEO_DEUG_2015, KBA05_ZUL3, KBA13_BJ_1999, KBA05_SEG5, KBA13_KMH_251, WOHNDAUER_2008, KBA13_CCM_0_1400, HEALTH_TYP, KBA05_SEG10, KBA13_CCM_3000, D19_TELKO_DATUM, KBA13_BJ_2006, KBA13_HERST_FORD_OPEL, KBA13_SITZE_6, KBA05_KRSHERST3, D19_GESAMT_OFFLINE_DATUM, KBA13_KMH_211, AGER_TYP, D19_BANKEN_ONLINE_DATUM, KBA13_HALTER_65, KKK, KBA13_KMH_140, KBA13_KW_60, OST_WEST_KZ, KBA05_ANTG3, SEMIO_RAT, SEMIO_KRIT, KBA13_CCM_1800, ORTSGR_KLS9, KBA13_OPEL, KBA13_HERST_AUDI_VW, KBA13_TOYOTA, KBA05_FRAU, KBA13_HERST_EUROPA, KBA05_KRSHERST1, KBA05_SEG2, KBA13_HERST_ASIEN, KBA13_KRSHERST_AUDI_VW, D19_TELKO_ONLINE_DATUM, KBA05_KRSHERST2, KBA05_SEG3, KBA13_KRSZUL_NEU, KBA13_KW_110, KBA13_HALTER_45, SHOPPER_TYP, PLZ8_ANTG2, KBA13_SITZE_4, KBA13_KW_40, KBA05_ANTG2, SEMIO_LUST, D19_VERSAND_ONLINE_DATUM, W_KEIT_KIND_HH, KBA05_SEG1, PLZ8_HHZ, KBA13_HALTER_35, KBA05_CCM1, KBA13_SEG_KLEINWAGEN, KBA05_VORB0, KBA13_VORB_3, KBA05_BAUMAX, SEMIO_KAEM, KBA13_SEG_OBEREMITTELKLASSE, KBA05_SEG6, KBA13_KW_50, KBA05_MOD4, KBA05_MOD3, EWDICHTE, KBA13_VORB_2, KBA13_RENAULT, ...]\n",
       "Index: []\n",
       "\n",
       "[0 rows x 247 columns]"
      ]
     },
     "execution_count": 22,
     "metadata": {},
     "output_type": "execute_result"
    }
   ],
   "source": [
    "df[~df.isnull().any(axis=1)].head()"
   ]
  },
  {
   "cell_type": "markdown",
   "metadata": {},
   "source": [
    "This is just too few. I am suspecting that there is at least one column that contains lots of missing data. So, let's check the percentage of nans in each column "
   ]
  },
  {
   "cell_type": "code",
   "execution_count": 23,
   "metadata": {},
   "outputs": [
    {
     "data": {
      "text/plain": [
       "TITEL_KZ                     99.757636\n",
       "D19_TELKO_ONLINE_DATUM       99.079577\n",
       "D19_BANKEN_OFFLINE_DATUM     97.791120\n",
       "D19_TELKO_ANZ_12             96.271295\n",
       "D19_BANKEN_ANZ_12            93.325225\n",
       "D19_TELKO_ANZ_24             92.705176\n",
       "D19_VERSI_ANZ_12             92.153237\n",
       "D19_TELKO_OFFLINE_DATUM      91.909190\n",
       "D19_BANKEN_ANZ_24            89.102479\n",
       "D19_VERSI_ANZ_24             87.187914\n",
       "D19_BANKEN_ONLINE_DATUM      81.571462\n",
       "D19_BANKEN_DATUM             76.112547\n",
       "AGER_TYP                     76.019640\n",
       "D19_TELKO_DATUM              74.706274\n",
       "D19_VERSAND_ANZ_12           71.584040\n",
       "D19_VERSAND_OFFLINE_DATUM    71.164504\n",
       "D19_GESAMT_ANZ_12            65.617507\n",
       "D19_VERSAND_ANZ_24           63.263545\n",
       "D19_GESAMT_OFFLINE_DATUM     62.673344\n",
       "D19_GESAMT_ANZ_24            56.697834\n",
       "D19_VERSAND_ONLINE_DATUM     55.481637\n",
       "KBA05_BAUMAX                 53.468668\n",
       "D19_GESAMT_ONLINE_DATUM      50.604171\n",
       "D19_VERSAND_DATUM            49.133268\n",
       "D19_GESAMT_DATUM             39.739863\n",
       "ALTER_HH                     34.813699\n",
       "REGIOTYP                     17.735668\n",
       "KKK                          17.735668\n",
       "KBA05_AUTOQUOT               16.619335\n",
       "KBA05_HERST1                 16.618774\n",
       "KBA05_HERST5                 16.618774\n",
       "KBA05_KW2                    16.618774\n",
       "KBA05_HERST2                 16.618774\n",
       "KBA05_KRSZUL                 16.618774\n",
       "KBA05_HERST4                 16.618774\n",
       "KBA05_SEG7                   16.618774\n",
       "KBA05_KW3                    16.618774\n",
       "KBA05_ALTER2                 16.618774\n",
       "KBA05_ZUL2                   16.618774\n",
       "KBA05_HERST3                 16.618774\n",
       "KBA05_MOD2                   16.618774\n",
       "KBA05_KRSKLEIN               16.618774\n",
       "KBA05_SEG9                   16.618774\n",
       "KBA05_MOTOR                  16.618774\n",
       "KBA05_SEG3                   16.618774\n",
       "KBA05_MAXSEG                 16.618774\n",
       "KBA05_ALTER4                 16.618774\n",
       "KBA05_KW1                    16.618774\n",
       "KBA05_ZUL4                   16.618774\n",
       "KBA05_DIESEL                 16.618774\n",
       "                               ...    \n",
       "KBA13_SEG_OBERKLASSE         11.871354\n",
       "KBA13_PEUGEOT                11.871354\n",
       "KBA13_ALTERHALTER_60         11.871354\n",
       "KBA13_CCM_1400               11.871354\n",
       "KBA13_CCM_2501               11.871354\n",
       "KBA13_FAB_SONSTIGE           11.871354\n",
       "KBA13_KW_0_60                11.871354\n",
       "KBA13_SEG_WOHNMOBILE         11.871354\n",
       "KBA13_SEG_VAN                11.871354\n",
       "KBA13_HALTER_20              11.871354\n",
       "KBA13_KRSSEG_OBER            11.871354\n",
       "KBA13_CCM_1200               11.871354\n",
       "CAMEO_DEUG_2015              11.106000\n",
       "RELAT_AB                     10.926022\n",
       "ORTSGR_KLS9                  10.908181\n",
       "EWDICHTE                     10.518154\n",
       "BALLRAUM                     10.518154\n",
       "INNENSTADT                   10.518154\n",
       "KBA05_MODTEMP                10.451729\n",
       "OST_WEST_KZ                  10.451729\n",
       "WOHNLAGE                     10.451729\n",
       "GEBAEUDETYP                  10.451729\n",
       "WOHNDAUER_2008                8.247000\n",
       "HH_EINKOMMEN_SCORE            2.058749\n",
       "RETOURTYP_BK_S                0.544646\n",
       "CJT_GESAMTTYP                 0.544646\n",
       "ANREDE_KZ                     0.000000\n",
       "ZABEOTYP                      0.000000\n",
       "SEMIO_ERL                     0.000000\n",
       "FINANZ_MINIMALIST             0.000000\n",
       "FINANZ_HAUSBAUER              0.000000\n",
       "FINANZ_ANLEGER                0.000000\n",
       "FINANZTYP                     0.000000\n",
       "FINANZ_SPARER                 0.000000\n",
       "SEMIO_FAM                     0.000000\n",
       "SEMIO_DOM                     0.000000\n",
       "SEMIO_TRADV                   0.000000\n",
       "ALTERSKATEGORIE_GROB          0.000000\n",
       "SEMIO_LUST                    0.000000\n",
       "FINANZ_VORSORGER              0.000000\n",
       "SEMIO_PFLICHT                 0.000000\n",
       "SEMIO_KULT                    0.000000\n",
       "SEMIO_SOZ                     0.000000\n",
       "SEMIO_REL                     0.000000\n",
       "SEMIO_RAT                     0.000000\n",
       "SEMIO_VERT                    0.000000\n",
       "FINANZ_UNAUFFAELLIGER         0.000000\n",
       "SEMIO_KAEM                    0.000000\n",
       "SEMIO_MAT                     0.000000\n",
       "SEMIO_KRIT                    0.000000\n",
       "Length: 247, dtype: float64"
      ]
     },
     "execution_count": 23,
     "metadata": {},
     "output_type": "execute_result"
    }
   ],
   "source": [
    "num_of_nans = df.isnull().sum().sort_values(ascending=False) / len(df.index) * 100\n",
    "num_of_nans"
   ]
  },
  {
   "cell_type": "code",
   "execution_count": 24,
   "metadata": {},
   "outputs": [
    {
     "data": {
      "text/plain": [
       "<matplotlib.axes._subplots.AxesSubplot at 0x1e4fbc1ef60>"
      ]
     },
     "execution_count": 24,
     "metadata": {},
     "output_type": "execute_result"
    },
    {
     "data": {
      "image/png": "[encoded data removed]",
      "text/plain": [
       "<Figure size 432x288 with 1 Axes>"
      ]
     },
     "metadata": {
      "needs_background": "light"
     },
     "output_type": "display_data"
    }
   ],
   "source": [
    "num_of_nans.plot()"
   ]
  },
  {
   "cell_type": "code",
   "execution_count": 34,
   "metadata": {},
   "outputs": [
    {
     "name": "stdout",
     "output_type": "stream",
     "text": [
      "Starting ... 0.00sec\n",
      "000\tTITEL_KZ\t4.89sec\n",
      "001\tD19_TELKO_ONLINE_DATUM\t9.76sec\n",
      "002\tD19_BANKEN_OFFLINE_DATUM\t14.63sec\n",
      "003\tD19_TELKO_ANZ_12\t19.45sec\n",
      "004\tD19_BANKEN_ANZ_12\t24.22sec\n",
      "005\tD19_TELKO_ANZ_24\t29.06sec\n",
      "006\tD19_VERSI_ANZ_12\t33.80sec\n",
      "007\tD19_TELKO_OFFLINE_DATUM\t38.56sec\n",
      "008\tD19_BANKEN_ANZ_24\t43.28sec\n",
      "009\tD19_VERSI_ANZ_24\t48.04sec\n",
      "010\tD19_BANKEN_ONLINE_DATUM\t52.76sec\n",
      "011\tD19_BANKEN_DATUM\t57.44sec\n",
      "012\tAGER_TYP\t62.11sec\n",
      "013\tD19_TELKO_DATUM\t66.82sec\n",
      "014\tD19_VERSAND_ANZ_12\t71.50sec\n",
      "015\tD19_VERSAND_OFFLINE_DATUM\t76.18sec\n",
      "016\tD19_GESAMT_ANZ_12\t80.88sec\n",
      "017\tD19_VERSAND_ANZ_24\t85.57sec\n",
      "018\tD19_GESAMT_OFFLINE_DATUM\t90.20sec\n",
      "019\tD19_GESAMT_ANZ_24\t94.89sec\n",
      "020\tD19_VERSAND_ONLINE_DATUM\t99.47sec\n",
      "021\tKBA05_BAUMAX\t104.06sec\n",
      "022\tD19_GESAMT_ONLINE_DATUM\t108.67sec\n",
      "023\tD19_VERSAND_DATUM\t113.33sec\n",
      "024\tD19_GESAMT_DATUM\t118.04sec\n",
      "025\tALTER_HH\t122.75sec\n",
      "026\tREGIOTYP\t127.34sec\n",
      "027\tKKK\t132.06sec\n",
      "028\tKBA05_AUTOQUOT\t136.68sec\n",
      "029\tKBA05_HERST1\t141.32sec\n",
      "030\tKBA05_HERST5\t146.09sec\n",
      "031\tKBA05_KW2\t150.69sec\n",
      "032\tKBA05_HERST2\t155.24sec\n",
      "033\tKBA05_KRSZUL\t159.84sec\n",
      "034\tKBA05_HERST4\t164.28sec\n",
      "035\tKBA05_SEG7\t168.81sec\n",
      "036\tKBA05_KW3\t173.24sec\n",
      "037\tKBA05_ALTER2\t177.69sec\n",
      "038\tKBA05_ZUL2\t182.14sec\n",
      "039\tKBA05_HERST3\t186.54sec\n",
      "040\tKBA05_MOD2\t190.93sec\n",
      "041\tKBA05_KRSKLEIN\t195.23sec\n",
      "042\tKBA05_SEG9\t199.64sec\n",
      "043\tKBA05_MOTOR\t204.04sec\n",
      "044\tKBA05_SEG3\t208.35sec\n",
      "045\tKBA05_MAXSEG\t212.75sec\n",
      "046\tKBA05_ALTER4\t217.00sec\n",
      "047\tKBA05_KW1\t221.21sec\n",
      "048\tKBA05_ZUL4\t225.47sec\n",
      "049\tKBA05_DIESEL\t229.68sec\n",
      "050\tKBA05_MAXHERST\t233.90sec\n",
      "051\tKBA05_VORB1\t238.04sec\n",
      "052\tKBA05_SEG4\t242.18sec\n",
      "053\tKBA05_KRSAQUOT\t246.35sec\n",
      "054\tKBA05_ZUL3\t250.49sec\n",
      "055\tKBA05_SEG5\t254.55sec\n",
      "056\tKBA05_SEG10\t258.61sec\n",
      "057\tKBA05_KRSHERST3\t262.65sec\n",
      "058\tKBA05_FRAU\t266.68sec\n",
      "059\tKBA05_KRSHERST1\t270.96sec\n",
      "060\tKBA05_SEG2\t275.27sec\n",
      "061\tKBA05_KRSHERST2\t279.36sec\n",
      "062\tKBA05_SEG1\t283.36sec\n",
      "063\tKBA05_CCM1\t287.29sec\n",
      "064\tKBA05_VORB0\t291.17sec\n",
      "065\tKBA05_SEG6\t295.08sec\n",
      "066\tKBA05_MOD4\t298.92sec\n",
      "067\tKBA05_MOD3\t302.73sec\n",
      "068\tKBA05_KRSOBER\t306.52sec\n",
      "069\tKBA05_MAXBJ\t310.29sec\n",
      "070\tKBA05_MAXVORB\t314.06sec\n",
      "071\tKBA05_VORB2\t317.77sec\n",
      "072\tKBA05_CCM4\t321.47sec\n",
      "073\tKBA05_ALTER1\t325.22sec\n",
      "074\tKBA05_MAXAH\t328.94sec\n",
      "075\tKBA05_MOD1\t332.58sec\n",
      "076\tKBA05_SEG8\t336.23sec\n",
      "077\tKBA05_KRSVAN\t339.87sec\n",
      "078\tKBA05_CCM3\t343.49sec\n",
      "079\tKBA05_MOD8\t347.06sec\n",
      "080\tKBA05_ZUL1\t350.58sec\n",
      "081\tKBA05_ALTER3\t354.13sec\n",
      "082\tKBA05_CCM2\t357.65sec\n",
      "083\tW_KEIT_KIND_HH\t361.17sec\n",
      "084\tKBA05_ANHANG\t364.65sec\n",
      "085\tKBA05_MOTRAD\t368.13sec\n",
      "086\tKBA05_ANTG2\t371.57sec\n",
      "087\tKBA05_ANTG3\t374.98sec\n",
      "088\tKBA05_ANTG1\t378.36sec\n",
      "089\tKBA05_ANTG4\t381.78sec\n",
      "090\tKBA05_GBZ\t385.14sec\n",
      "091\tPLZ8_ANTG2\t388.44sec\n",
      "092\tPLZ8_GBZ\t391.82sec\n",
      "093\tPLZ8_ANTG3\t395.10sec\n",
      "094\tPLZ8_ANTG1\t398.39sec\n",
      "095\tPLZ8_HHZ\t401.67sec\n",
      "096\tPLZ8_ANTG4\t404.91sec\n",
      "097\tSHOPPER_TYP\t408.14sec\n",
      "098\tHEALTH_TYP\t411.35sec\n",
      "099\tVERS_TYP\t414.58sec\n",
      "100\tKBA05_HERSTTEMP\t417.76sec\n",
      "101\tNATIONALITAET_KZ\t420.87sec\n",
      "102\tPRAEGENDE_JUGENDJAHRE\t423.98sec\n",
      "103\tKBA13_TOYOTA\t427.05sec\n",
      "104\tKBA13_CCM_1800\t430.13sec\n",
      "105\tKBA13_OPEL\t433.20sec\n",
      "106\tKBA13_HERST_AUDI_VW\t436.23sec\n",
      "107\tKBA13_SEG_KLEINWAGEN\t439.28sec\n",
      "108\tKBA13_CCM_2500\t442.31sec\n",
      "109\tKBA13_HALTER_45\t445.38sec\n",
      "110\tKBA13_HALTER_35\t448.35sec\n",
      "111\tKBA13_KW_110\t451.33sec\n",
      "112\tKBA13_KW_70\t454.24sec\n",
      "113\tKBA13_SEG_GELAENDEWAGEN\t457.18sec\n",
      "114\tKBA13_HALTER_40\t460.07sec\n",
      "115\tKBA13_KW_60\t462.96sec\n",
      "116\tKBA13_SITZE_4\t465.81sec\n",
      "117\tKBA13_HERST_ASIEN\t468.62sec\n",
      "118\tKBA13_KRSZUL_NEU\t471.47sec\n",
      "119\tKBA13_KRSHERST_AUDI_VW\t474.37sec\n",
      "120\tKBA13_MERCEDES\t477.20sec\n",
      "121\tKBA13_KW_40\t479.93sec\n",
      "122\tKBA13_HERST_EUROPA\t482.64sec\n",
      "123\tKBA13_SEG_MINIVANS\t485.38sec\n",
      "124\tKBA13_KMH_140\t488.06sec\n",
      "125\tKBA13_HALTER_65\t490.72sec\n",
      "126\tKBA13_CCM_3001\t493.37sec\n",
      "127\tKBA13_FORD\t496.00sec\n",
      "128\tKBA13_AUDI\t498.61sec\n",
      "129\tKBA13_ALTERHALTER_45\t501.21sec\n",
      "130\tKBA13_SEG_UTILITIES\t503.79sec\n",
      "131\tKBA13_BJ_2009\t506.37sec\n",
      "132\tKBA13_CCM_1600\t508.89sec\n",
      "133\tKBA13_KMH_140_210\t511.38sec\n",
      "134\tKBA13_KRSSEG_KLEIN\t513.85sec\n",
      "135\tKBA13_FAB_ASIEN\t516.32sec\n",
      "136\tKBA13_SEG_MITTELKLASSE\t518.77sec\n",
      "137\tKBA13_CCM_1500\t521.21sec\n",
      "138\tKBA13_HALTER_30\t523.57sec\n",
      "139\tKBA13_KRSAQUOT\t525.94sec\n",
      "140\tKBA13_KRSHERST_BMW_BENZ\t528.33sec\n",
      "141\tKBA13_VORB_1_2\t530.69sec\n",
      "142\tKBA13_KMH_180\t533.03sec\n",
      "143\tKBA13_BJ_1999\t535.37sec\n",
      "144\tKBA13_SEG_SONSTIGE\t537.66sec\n",
      "145\tKBA13_KMH_251\t539.94sec\n",
      "146\tKBA13_CCM_0_1400\t542.20sec\n",
      "147\tKBA13_FIAT\t544.41sec\n",
      "148\tKBA13_CCM_3000\t546.61sec\n",
      "149\tKBA13_KW_30\t548.81sec\n",
      "150\tKBA13_BJ_2006\t551.01sec\n",
      "151\tKBA13_HERST_FORD_OPEL\t553.15sec\n",
      "152\tKBA13_VORB_3\t555.30sec\n",
      "153\tKBA13_KMH_211\t557.42sec\n",
      "154\tKBA13_SEG_MINIWAGEN\t559.49sec\n",
      "155\tKBA13_SITZE_6\t561.64sec\n",
      "156\tKBA13_SEG_KLEINST\t563.76sec\n",
      "157\tKBA13_NISSAN\t565.84sec\n",
      "158\tKBA13_HERST_SONST\t567.86sec\n",
      "159\tKBA13_HALTER_25\t569.86sec\n",
      "160\tKBA13_BJ_2008\t571.87sec\n",
      "161\tKBA13_VORB_0\t573.83sec\n",
      "162\tKBA13_KW_121\t575.77sec\n",
      "163\tKBA13_KMH_0_140\t577.71sec\n",
      "164\tKBA13_MAZDA\t579.60sec\n",
      "165\tKBA13_KW_61_120\t581.47sec\n",
      "166\tKBA13_KW_80\t583.26sec\n",
      "167\tKBA13_KMH_110\t585.05sec\n",
      "168\tKBA13_ALTERHALTER_30\t586.83sec\n",
      "169\tKBA13_KMH_250\t588.60sec\n",
      "170\tKBA13_BMW\t590.34sec\n",
      "171\tKBA13_KRSHERST_FORD_OPEL\t592.07sec\n",
      "172\tKBA13_SEG_SPORTWAGEN\t593.79sec\n",
      "173\tKBA13_KW_90\t595.50sec\n",
      "174\tKBA13_CCM_2000\t597.15sec\n",
      "175\tKBA13_HALTER_66\t598.75sec\n",
      "176\tKBA13_SEG_GROSSRAUMVANS\t600.34sec\n",
      "177\tKBA13_KRSSEG_VAN\t601.90sec\n",
      "178\tKBA13_AUTOQUOTE\t603.44sec\n",
      "179\tKBA13_VW\t604.98sec\n",
      "180\tKBA13_CCM_1000\t606.49sec\n",
      "181\tKBA13_BJ_2000\t607.98sec\n",
      "182\tKBA13_SEG_KOMPAKTKLASSE\t609.44sec\n",
      "183\tKBA13_HALTER_50\t610.87sec\n",
      "184\tKBA13_HALTER_55\t612.27sec\n",
      "185\tKBA13_SITZE_5\t613.69sec\n",
      "186\tKBA13_HERST_BMW_BENZ\t615.04sec\n",
      "187\tKBA13_KW_120\t616.38sec\n",
      "188\tKBA13_MOTOR\t617.70sec\n",
      "189\tKBA13_ALTERHALTER_61\t619.00sec\n",
      "190\tKBA13_HALTER_60\t620.29sec\n",
      "191\tKBA13_SEG_OBEREMITTELKLASSE\t621.55sec\n",
      "192\tKBA13_VORB_1\t622.83sec\n",
      "193\tKBA13_KW_50\t624.07sec\n",
      "194\tKBA13_BJ_2004\t625.29sec\n",
      "195\tKBA13_VORB_2\t626.47sec\n",
      "196\tKBA13_RENAULT\t627.61sec\n",
      "197\tKBA13_SEG_OBERKLASSE\t628.75sec\n",
      "198\tKBA13_PEUGEOT\t629.85sec\n",
      "199\tKBA13_ALTERHALTER_60\t630.95sec\n",
      "200\tKBA13_CCM_1400\t632.03sec\n",
      "201\tKBA13_CCM_2501\t633.11sec\n",
      "202\tKBA13_FAB_SONSTIGE\t634.12sec\n",
      "203\tKBA13_KW_0_60\t635.11sec\n",
      "204\tKBA13_SEG_WOHNMOBILE\t636.09sec\n",
      "205\tKBA13_SEG_VAN\t637.07sec\n",
      "206\tKBA13_HALTER_20\t638.00sec\n",
      "207\tKBA13_KRSSEG_OBER\t638.97sec\n",
      "208\tKBA13_CCM_1200\t639.89sec\n",
      "209\tCAMEO_DEUG_2015\t640.77sec\n",
      "210\tRELAT_AB\t641.58sec\n",
      "211\tORTSGR_KLS9\t642.35sec\n",
      "212\tEWDICHTE\t643.11sec\n",
      "213\tBALLRAUM\t643.87sec\n",
      "214\tINNENSTADT\t644.62sec\n",
      "215\tKBA05_MODTEMP\t645.34sec\n",
      "216\tOST_WEST_KZ\t645.92sec\n",
      "217\tWOHNLAGE\t646.46sec\n",
      "218\tGEBAEUDETYP\t646.99sec\n",
      "219\tWOHNDAUER_2008\t647.51sec\n",
      "220\tHH_EINKOMMEN_SCORE\t648.01sec\n",
      "221\tRETOURTYP_BK_S\t648.49sec\n",
      "222\tCJT_GESAMTTYP\t648.95sec\n",
      "223\tANREDE_KZ\t649.40sec\n",
      "224\tZABEOTYP\t649.82sec\n",
      "225\tSEMIO_ERL\t650.23sec\n",
      "226\tFINANZ_MINIMALIST\t650.62sec\n",
      "227\tFINANZ_HAUSBAUER\t650.99sec\n",
      "228\tFINANZ_ANLEGER\t651.35sec\n",
      "229\tFINANZTYP\t651.70sec\n",
      "230\tFINANZ_SPARER\t652.03sec\n",
      "231\tSEMIO_FAM\t652.33sec\n",
      "232\tSEMIO_DOM\t652.62sec\n",
      "233\tSEMIO_TRADV\t652.89sec\n",
      "234\tALTERSKATEGORIE_GROB\t653.13sec\n",
      "235\tSEMIO_LUST\t653.36sec\n",
      "236\tFINANZ_VORSORGER\t653.58sec\n",
      "237\tSEMIO_PFLICHT\t653.78sec\n",
      "238\tSEMIO_KULT\t653.96sec\n",
      "239\tSEMIO_SOZ\t654.12sec\n",
      "240\tSEMIO_REL\t654.26sec\n",
      "241\tSEMIO_RAT\t654.38sec\n",
      "242\tSEMIO_VERT\t654.49sec\n",
      "243\tFINANZ_UNAUFFAELLIGER\t654.58sec\n",
      "244\tSEMIO_KAEM\t654.65sec\n",
      "245\tSEMIO_MAT\t654.68sec\n",
      "246\tSEMIO_KRIT\t654.69sec\n"
     ]
    }
   ],
   "source": [
    "import pickle\n",
    "def get_remaining_after_dropping_columns(df, num_of_nans):\n",
    "    times = []\n",
    "    \n",
    "    tmp = df.copy()\n",
    "    initial_count_of_nans = tmp.count().sum()\n",
    "    counts_of_non_nans = [100.]\n",
    "    num_of_rows_without_nans = [0]\n",
    "    t0 = time.time()\n",
    "    times.append(t0)\n",
    "    print(f'Starting ... {time.time() - t0:0.2f}sec')\n",
    "    \n",
    "    for i, col in enumerate(num_of_nans.index):\n",
    "        print(f'{i:03d}\\t{col}', end='\\t')\n",
    "        tmp = tmp.drop(columns=[col])\n",
    "        try:\n",
    "            counts_of_non_nans.append(tmp.count().sum()*100/initial_count_of_nans)\n",
    "            num_of_rows_without_nans.append(len(tmp[~tmp.isnull().any(axis=1)].index))\n",
    "        except Exception as e:\n",
    "            print(str(e))\n",
    "        new_time = time.time()-t0\n",
    "        times.append(new_time)\n",
    "        print(f'{new_time:0.2f}sec') \n",
    "    \n",
    "    stored = {'times': times,\n",
    "              'result': (counts_of_non_nans, initial_count_of_nans, num_of_rows_without_nans)\n",
    "             }\n",
    "    pickle.dump(stored, open(os.path.join('pickles', 'remaining_after_drop.pickle'), 'wb'))\n",
    "    \n",
    "    return counts_of_non_nans, initial_count_of_nans, num_of_rows_without_nans\n",
    "\n",
    "try:\n",
    "    stored = pickle.load(open(os.path.join('pickles', 'remaining_after_drop.pickle'),'rb'))\n",
    "    times = stored['times']\n",
    "    counts_of_non_nans, initial_count_of_nans, num_of_rows_without_nans = stored['result']\n",
    "    \n",
    "    print('Starting ... 0.00sec')\n",
    "    for i, col in enumerate(num_of_nans.index):\n",
    "        print(f'{i:03d}\\t{col}\\t{times[i+1]:0.2f}sec')\n",
    "except (OSError, IOError) as e:\n",
    "    counts_of_non_nans, initial_count_of_nans, num_of_rows_without_nans = get_remaining_after_dropping_columns(df, num_of_nans)"
   ]
  },
  {
   "cell_type": "code",
   "execution_count": 35,
   "metadata": {},
   "outputs": [
    {
     "data": {
      "image/png": "[encoded data removed]",
      "text/plain": [
       "<Figure size 432x288 with 1 Axes>"
      ]
     },
     "metadata": {
      "needs_background": "light"
     },
     "output_type": "display_data"
    }
   ],
   "source": [
    "plt.plot(range(len(counts_of_non_nans)), counts_of_non_nans);\n",
    "plt.title('Percentage of Non-NaNs vs # of Dropped Columns');\n",
    "plt.ylabel('% of Remaining Non-NaNs');\n",
    "plt.xlabel('# of Dropped Columns');"
   ]
  },
  {
   "cell_type": "code",
   "execution_count": 36,
   "metadata": {},
   "outputs": [
    {
     "data": {
      "image/png": "[encoded data removed]",
      "text/plain": [
       "<Figure size 432x288 with 1 Axes>"
      ]
     },
     "metadata": {
      "needs_background": "light"
     },
     "output_type": "display_data"
    }
   ],
   "source": [
    "plt.plot(range(len(counts_of_non_nans[:50])), counts_of_non_nans[:50]);\n",
    "plt.title('Percentage of Non-NaNs vs # of Dropped Columns');\n",
    "plt.ylabel('% of Remaining Non-NaNs');\n",
    "plt.xlabel('# of Dropped Columns');"
   ]
  },
  {
   "cell_type": "markdown",
   "metadata": {},
   "source": [
    "Looks like the drop of starts around 25 columns. That means that even after dropping the top 25 columns with the most amount of missing values, we get to  used about 96% of the data found in the data set"
   ]
  },
  {
   "cell_type": "code",
   "execution_count": 37,
   "metadata": {},
   "outputs": [
    {
     "data": {
      "image/png": "[encoded data removed]",
      "text/plain": [
       "<Figure size 432x288 with 1 Axes>"
      ]
     },
     "metadata": {
      "needs_background": "light"
     },
     "output_type": "display_data"
    }
   ],
   "source": [
    "plt.plot(range(len(num_of_rows_without_nans)), num_of_rows_without_nans);\n",
    "plt.title('Percentage of Non-NaNs vs # of Dropped Columns');\n",
    "plt.ylabel('% of Remaining Non-NaNs');\n",
    "plt.xlabel('# of Dropped Columns');"
   ]
  },
  {
   "cell_type": "code",
   "execution_count": 38,
   "metadata": {},
   "outputs": [
    {
     "data": {
      "image/png": "[encoded data removed]",
      "text/plain": [
       "<Figure size 432x288 with 1 Axes>"
      ]
     },
     "metadata": {
      "needs_background": "light"
     },
     "output_type": "display_data"
    }
   ],
   "source": [
    "plt.plot(range(len(num_of_rows_without_nans[:40])), num_of_rows_without_nans[:40]);\n",
    "plt.title('Percentage of Non-NaNs vs # of Dropped Columns');\n",
    "plt.ylabel('% of Remaining Non-NaNs');\n",
    "plt.xlabel('# of Dropped Columns');"
   ]
  },
  {
   "cell_type": "markdown",
   "metadata": {},
   "source": [
    "A similar conclusion can be drawn from counting the number of remaining rows with no missing values after dropping the columns. Looks like we need to zoom in to decide on the exact number"
   ]
  },
  {
   "cell_type": "code",
   "execution_count": 39,
   "metadata": {},
   "outputs": [
    {
     "data": {
      "image/png": "[encoded data removed]",
      "text/plain": [
       "<Figure size 432x288 with 1 Axes>"
      ]
     },
     "metadata": {
      "needs_background": "light"
     },
     "output_type": "display_data"
    }
   ],
   "source": [
    "plt.plot(range(20, len(num_of_rows_without_nans[:40])), num_of_rows_without_nans[20:40]);\n",
    "plt.title('Percentage of Non-NaNs vs # of Dropped Columns');\n",
    "plt.ylabel('% of Remaining Non-NaNs');\n",
    "plt.xlabel('# of Dropped Columns');\n",
    "plt.xticks(np.arange(20,40));\n",
    "plt.grid()"
   ]
  },
  {
   "cell_type": "code",
   "execution_count": 47,
   "metadata": {},
   "outputs": [],
   "source": [
    "df = df.drop(columns=num_of_nans.index.values.tolist()[:26], errors='ignore')"
   ]
  },
  {
   "cell_type": "markdown",
   "metadata": {},
   "source": [
    "Now that we have identified missing values for the numerical columns, let's take a look at columns of type string"
   ]
  },
  {
   "cell_type": "code",
   "execution_count": 54,
   "metadata": {},
   "outputs": [
    {
     "data": {
      "text/html": [
       "<div>\n",
       "<style scoped>\n",
       "    .dataframe tbody tr th:only-of-type {\n",
       "        vertical-align: middle;\n",
       "    }\n",
       "\n",
       "    .dataframe tbody tr th {\n",
       "        vertical-align: top;\n",
       "    }\n",
       "\n",
       "    .dataframe thead th {\n",
       "        text-align: right;\n",
       "    }\n",
       "</style>\n",
       "<table border=\"1\" class=\"dataframe\">\n",
       "  <thead>\n",
       "    <tr style=\"text-align: right;\">\n",
       "      <th></th>\n",
       "      <th>CAMEO_DEUG_2015</th>\n",
       "      <th>OST_WEST_KZ</th>\n",
       "    </tr>\n",
       "  </thead>\n",
       "  <tbody>\n",
       "    <tr>\n",
       "      <th>0</th>\n",
       "      <td>NaN</td>\n",
       "      <td>NaN</td>\n",
       "    </tr>\n",
       "    <tr>\n",
       "      <th>1</th>\n",
       "      <td>8</td>\n",
       "      <td>W</td>\n",
       "    </tr>\n",
       "    <tr>\n",
       "      <th>2</th>\n",
       "      <td>4</td>\n",
       "      <td>W</td>\n",
       "    </tr>\n",
       "    <tr>\n",
       "      <th>3</th>\n",
       "      <td>2</td>\n",
       "      <td>W</td>\n",
       "    </tr>\n",
       "    <tr>\n",
       "      <th>4</th>\n",
       "      <td>6</td>\n",
       "      <td>W</td>\n",
       "    </tr>\n",
       "  </tbody>\n",
       "</table>\n",
       "</div>"
      ],
      "text/plain": [
       "  CAMEO_DEUG_2015 OST_WEST_KZ\n",
       "0             NaN         NaN\n",
       "1               8           W\n",
       "2               4           W\n",
       "3               2           W\n",
       "4               6           W"
      ]
     },
     "execution_count": 54,
     "metadata": {},
     "output_type": "execute_result"
    }
   ],
   "source": [
    "df.select_dtypes(include='object').head()"
   ]
  },
  {
   "cell_type": "code",
   "execution_count": 56,
   "metadata": {},
   "outputs": [
    {
     "name": "stdout",
     "output_type": "stream",
     "text": [
      "Looks like there are 2 such columns\n",
      "['CAMEO_DEUG_2015' 'OST_WEST_KZ']\n"
     ]
    }
   ],
   "source": [
    "tmp = df.select_dtypes(include=\"object\").columns.values\n",
    "print(f'Looks like there are {len(tmp)} such columns')\n",
    "print(tmp)"
   ]
  },
  {
   "cell_type": "markdown",
   "metadata": {},
   "source": [
    "Let us consider the values for the first of those columns"
   ]
  },
  {
   "cell_type": "code",
   "execution_count": 53,
   "metadata": {},
   "outputs": [
    {
     "data": {
      "text/plain": [
       "8      78023\n",
       "9      62578\n",
       "6      61253\n",
       "4      60185\n",
       "8.0    56418\n",
       "3      50360\n",
       "2      48276\n",
       "9.0    45599\n",
       "7      45021\n",
       "6.0    44621\n",
       "4.0    43727\n",
       "3.0    36419\n",
       "2.0    34955\n",
       "7.0    32912\n",
       "5      32292\n",
       "5.0    23018\n",
       "1      20997\n",
       "1.0    15215\n",
       "X        373\n",
       "Name: CAMEO_DEUG_2015, dtype: int64"
      ]
     },
     "execution_count": 53,
     "metadata": {},
     "output_type": "execute_result"
    }
   ],
   "source": [
    "df.CAMEO_DEUG_2015.value_counts()"
   ]
  },
  {
   "cell_type": "markdown",
   "metadata": {},
   "source": [
    "Looks like the value `X` is invalid as it is not mentioned in the Attribute file. Let us convert that into NaN. Also, the floats and integers should be combined (e.g. 1 & 1.0)."
   ]
  },
  {
   "cell_type": "code",
   "execution_count": 67,
   "metadata": {},
   "outputs": [
    {
     "data": {
      "text/plain": [
       "8.0    134441\n",
       "9.0    108177\n",
       "6.0    105874\n",
       "4.0    103912\n",
       "3.0     86779\n",
       "2.0     83231\n",
       "7.0     77933\n",
       "5.0     55310\n",
       "1.0     36212\n",
       "Name: CAMEO_DEUG_2015, dtype: int64"
      ]
     },
     "execution_count": 67,
     "metadata": {},
     "output_type": "execute_result"
    }
   ],
   "source": [
    "df.loc[df.CAMEO_DEUG_2015 == 'X','CAMEO_DEUG_2015'] = np.nan\n",
    "df.CAMEO_DEUG_2015 = df.CAMEO_DEUG_2015.astype(np.float)\n",
    "df.CAMEO_DEUG_2015.value_counts()"
   ]
  },
  {
   "cell_type": "markdown",
   "metadata": {},
   "source": [
    "Looks good! <br>\n",
    "Moving on to the other column"
   ]
  },
  {
   "cell_type": "code",
   "execution_count": 63,
   "metadata": {},
   "outputs": [
    {
     "data": {
      "text/plain": [
       "1.0    629528\n",
       "0.0    168545\n",
       "Name: OST_WEST_KZ, dtype: int64"
      ]
     },
     "execution_count": 63,
     "metadata": {},
     "output_type": "execute_result"
    }
   ],
   "source": [
    "naming_mapping = {'OST_WEST_KZ':{'O':0,\n",
    "                                     'W':1}}\n",
    "df.replace(naming_mapping, inplace=True)\n",
    "df.OST_WEST_KZ.value_counts()"
   ]
  },
  {
   "cell_type": "markdown",
   "metadata": {},
   "source": [
    "All good!"
   ]
  },
  {
   "cell_type": "code",
   "execution_count": 71,
   "metadata": {},
   "outputs": [],
   "source": [
    "# This is done to manually check the values of the columns and that there are nothing that looks odd\n",
    "with open('type-values.txt', 'w') as f:\n",
    "    for col in df.columns:\n",
    "        f.write(f'#########\\n{col}\\n')\n",
    "        f.write(f'{df[col].value_counts()}\\n\\n')\n",
    "    "
   ]
  },
  {
   "cell_type": "markdown",
   "metadata": {},
   "source": [
    "All that remains is to clean/pre-process categorical and mixed columns"
   ]
  },
  {
   "cell_type": "code",
   "execution_count": null,
   "metadata": {},
   "outputs": [],
   "source": [
    "#Need to add back columns from data but now found in Attribute. Just a reminder, these "
   ]
  },
  {
   "cell_type": "code",
   "execution_count": 75,
   "metadata": {},
   "outputs": [
    {
     "data": {
      "text/html": [
       "<div>\n",
       "<style scoped>\n",
       "    .dataframe tbody tr th:only-of-type {\n",
       "        vertical-align: middle;\n",
       "    }\n",
       "\n",
       "    .dataframe tbody tr th {\n",
       "        vertical-align: top;\n",
       "    }\n",
       "\n",
       "    .dataframe thead th {\n",
       "        text-align: right;\n",
       "    }\n",
       "</style>\n",
       "<table border=\"1\" class=\"dataframe\">\n",
       "  <thead>\n",
       "    <tr style=\"text-align: right;\">\n",
       "      <th></th>\n",
       "      <th>Value</th>\n",
       "    </tr>\n",
       "    <tr>\n",
       "      <th>Attribute</th>\n",
       "      <th></th>\n",
       "    </tr>\n",
       "  </thead>\n",
       "  <tbody>\n",
       "    <tr>\n",
       "      <th>AGER_TYP</th>\n",
       "      <td>-1</td>\n",
       "    </tr>\n",
       "    <tr>\n",
       "      <th>ALTERSKATEGORIE_GROB</th>\n",
       "      <td>-1, 0</td>\n",
       "    </tr>\n",
       "    <tr>\n",
       "      <th>ALTER_HH</th>\n",
       "      <td>0</td>\n",
       "    </tr>\n",
       "    <tr>\n",
       "      <th>ANREDE_KZ</th>\n",
       "      <td>-1, 0</td>\n",
       "    </tr>\n",
       "    <tr>\n",
       "      <th>BALLRAUM</th>\n",
       "      <td>-1</td>\n",
       "    </tr>\n",
       "  </tbody>\n",
       "</table>\n",
       "</div>"
      ],
      "text/plain": [
       "                      Value\n",
       "Attribute                  \n",
       "AGER_TYP                 -1\n",
       "ALTERSKATEGORIE_GROB  -1, 0\n",
       "ALTER_HH                  0\n",
       "ANREDE_KZ             -1, 0\n",
       "BALLRAUM                 -1"
      ]
     },
     "execution_count": 75,
     "metadata": {},
     "output_type": "execute_result"
    }
   ],
   "source": [
    "unknown_vals.head()"
   ]
  },
  {
   "cell_type": "code",
   "execution_count": null,
   "metadata": {},
   "outputs": [],
   "source": []
  },
  {
   "cell_type": "code",
   "execution_count": null,
   "metadata": {},
   "outputs": [],
   "source": []
  },
  {
   "cell_type": "code",
   "execution_count": null,
   "metadata": {},
   "outputs": [],
   "source": []
  },
  {
   "cell_type": "code",
   "execution_count": null,
   "metadata": {},
   "outputs": [],
   "source": []
  },
  {
   "cell_type": "code",
   "execution_count": null,
   "metadata": {},
   "outputs": [],
   "source": []
  },
  {
   "cell_type": "code",
   "execution_count": 74,
   "metadata": {},
   "outputs": [
    {
     "data": {
      "text/plain": [
       "{'AKT_DAT_KL',\n",
       " 'ALTERSKATEGORIE_FEIN',\n",
       " 'ALTER_KIND1',\n",
       " 'ALTER_KIND2',\n",
       " 'ALTER_KIND3',\n",
       " 'ALTER_KIND4',\n",
       " 'ANZ_HAUSHALTE_AKTIV',\n",
       " 'ANZ_HH_TITEL',\n",
       " 'ANZ_KINDER',\n",
       " 'ANZ_PERSONEN',\n",
       " 'ANZ_STATISTISCHE_HAUSHALTE',\n",
       " 'ANZ_TITEL',\n",
       " 'ARBEIT',\n",
       " 'CAMEO_DEU_2015',\n",
       " 'CAMEO_INTL_2015',\n",
       " 'CJT_KATALOGNUTZER',\n",
       " 'CJT_TYP_1',\n",
       " 'CJT_TYP_2',\n",
       " 'CJT_TYP_3',\n",
       " 'CJT_TYP_4',\n",
       " 'CJT_TYP_5',\n",
       " 'CJT_TYP_6',\n",
       " 'D19_BANKEN_DIREKT',\n",
       " 'D19_BANKEN_GROSS',\n",
       " 'D19_BANKEN_LOKAL',\n",
       " 'D19_BANKEN_ONLINE_QUOTE_12',\n",
       " 'D19_BANKEN_REST',\n",
       " 'D19_BEKLEIDUNG_GEH',\n",
       " 'D19_BEKLEIDUNG_REST',\n",
       " 'D19_BILDUNG',\n",
       " 'D19_BIO_OEKO',\n",
       " 'D19_BUCH_CD',\n",
       " 'D19_DIGIT_SERV',\n",
       " 'D19_DROGERIEARTIKEL',\n",
       " 'D19_ENERGIE',\n",
       " 'D19_FREIZEIT',\n",
       " 'D19_GARTEN',\n",
       " 'D19_GESAMT_ONLINE_QUOTE_12',\n",
       " 'D19_HANDWERK',\n",
       " 'D19_HAUS_DEKO',\n",
       " 'D19_KINDERARTIKEL',\n",
       " 'D19_KONSUMTYP',\n",
       " 'D19_KONSUMTYP_MAX',\n",
       " 'D19_KOSMETIK',\n",
       " 'D19_LEBENSMITTEL',\n",
       " 'D19_LETZTER_KAUF_BRANCHE',\n",
       " 'D19_LOTTO',\n",
       " 'D19_NAHRUNGSERGAENZUNG',\n",
       " 'D19_RATGEBER',\n",
       " 'D19_REISEN',\n",
       " 'D19_SAMMELARTIKEL',\n",
       " 'D19_SCHUHE',\n",
       " 'D19_SONSTIGE',\n",
       " 'D19_SOZIALES',\n",
       " 'D19_TECHNIK',\n",
       " 'D19_TELKO_MOBILE',\n",
       " 'D19_TELKO_ONLINE_QUOTE_12',\n",
       " 'D19_TELKO_REST',\n",
       " 'D19_TIERARTIKEL',\n",
       " 'D19_VERSAND_ONLINE_QUOTE_12',\n",
       " 'D19_VERSAND_REST',\n",
       " 'D19_VERSICHERUNGEN',\n",
       " 'D19_VERSI_DATUM',\n",
       " 'D19_VERSI_OFFLINE_DATUM',\n",
       " 'D19_VERSI_ONLINE_DATUM',\n",
       " 'D19_VERSI_ONLINE_QUOTE_12',\n",
       " 'D19_VOLLSORTIMENT',\n",
       " 'D19_WEIN_FEINKOST',\n",
       " 'DSL_FLAG',\n",
       " 'EINGEFUEGT_AM',\n",
       " 'EINGEZOGENAM_HH_JAHR',\n",
       " 'EXTSEL992',\n",
       " 'FIRMENDICHTE',\n",
       " 'GEBAEUDETYP_RASTER',\n",
       " 'GEBURTSJAHR',\n",
       " 'GEMEINDETYP',\n",
       " 'GFK_URLAUBERTYP',\n",
       " 'GREEN_AVANTGARDE',\n",
       " 'HH_DELTA_FLAG',\n",
       " 'KBA13_ANTG1',\n",
       " 'KBA13_ANTG2',\n",
       " 'KBA13_ANTG3',\n",
       " 'KBA13_ANTG4',\n",
       " 'KBA13_ANZAHL_PKW',\n",
       " 'KBA13_BAUMAX',\n",
       " 'KBA13_CCM_1401_2500',\n",
       " 'KBA13_GBZ',\n",
       " 'KBA13_HHZ',\n",
       " 'KBA13_KMH_210',\n",
       " 'KK_KUNDENTYP',\n",
       " 'KOMBIALTER',\n",
       " 'KONSUMNAEHE',\n",
       " 'KONSUMZELLE',\n",
       " 'LNR',\n",
       " 'LP_FAMILIE_FEIN',\n",
       " 'LP_FAMILIE_GROB',\n",
       " 'LP_LEBENSPHASE_FEIN',\n",
       " 'LP_LEBENSPHASE_GROB',\n",
       " 'LP_STATUS_FEIN',\n",
       " 'LP_STATUS_GROB',\n",
       " 'MIN_GEBAEUDEJAHR',\n",
       " 'MOBI_RASTER',\n",
       " 'MOBI_REGIO',\n",
       " 'ONLINE_AFFINITAET',\n",
       " 'PLZ8_BAUMAX',\n",
       " 'RT_KEIN_ANREIZ',\n",
       " 'RT_SCHNAEPPCHEN',\n",
       " 'RT_UEBERGROESSE',\n",
       " 'SOHO_KZ',\n",
       " 'STRUKTURTYP',\n",
       " 'UMFELD_ALT',\n",
       " 'UMFELD_JUNG',\n",
       " 'UNGLEICHENN_FLAG',\n",
       " 'VERDICHTUNGSRAUM',\n",
       " 'VHA',\n",
       " 'VHN',\n",
       " 'VK_DHT4A',\n",
       " 'VK_DISTANZ',\n",
       " 'VK_ZG11'}"
      ]
     },
     "execution_count": 74,
     "metadata": {},
     "output_type": "execute_result"
    }
   ],
   "source": [
    "set(azdias.columns)  - set(unknown_vals.index)  "
   ]
  },
  {
   "cell_type": "code",
   "execution_count": null,
   "metadata": {},
   "outputs": [],
   "source": []
  },
  {
   "cell_type": "code",
   "execution_count": null,
   "metadata": {},
   "outputs": [],
   "source": []
  },
  {
   "cell_type": "code",
   "execution_count": null,
   "metadata": {},
   "outputs": [],
   "source": []
  },
  {
   "cell_type": "code",
   "execution_count": null,
   "metadata": {},
   "outputs": [],
   "source": []
  },
  {
   "cell_type": "code",
   "execution_count": null,
   "metadata": {},
   "outputs": [],
   "source": []
  },
  {
   "cell_type": "code",
   "execution_count": null,
   "metadata": {},
   "outputs": [],
   "source": []
  },
  {
   "cell_type": "code",
   "execution_count": null,
   "metadata": {},
   "outputs": [],
   "source": []
  },
  {
   "cell_type": "code",
   "execution_count": null,
   "metadata": {},
   "outputs": [],
   "source": []
  },
  {
   "cell_type": "code",
   "execution_count": null,
   "metadata": {},
   "outputs": [],
   "source": []
  },
  {
   "cell_type": "code",
   "execution_count": null,
   "metadata": {},
   "outputs": [],
   "source": []
  },
  {
   "cell_type": "code",
   "execution_count": null,
   "metadata": {},
   "outputs": [],
   "source": []
  },
  {
   "cell_type": "code",
   "execution_count": null,
   "metadata": {},
   "outputs": [],
   "source": []
  },
  {
   "cell_type": "code",
   "execution_count": null,
   "metadata": {},
   "outputs": [],
   "source": []
  },
  {
   "cell_type": "code",
   "execution_count": null,
   "metadata": {},
   "outputs": [],
   "source": []
  },
  {
   "cell_type": "code",
   "execution_count": null,
   "metadata": {},
   "outputs": [],
   "source": []
  },
  {
   "cell_type": "code",
   "execution_count": null,
   "metadata": {},
   "outputs": [],
   "source": []
  },
  {
   "cell_type": "code",
   "execution_count": null,
   "metadata": {},
   "outputs": [],
   "source": []
  },
  {
   "cell_type": "code",
   "execution_count": null,
   "metadata": {},
   "outputs": [],
   "source": []
  },
  {
   "cell_type": "code",
   "execution_count": null,
   "metadata": {},
   "outputs": [],
   "source": []
  },
  {
   "cell_type": "code",
   "execution_count": null,
   "metadata": {},
   "outputs": [],
   "source": []
  },
  {
   "cell_type": "code",
   "execution_count": null,
   "metadata": {},
   "outputs": [],
   "source": []
  },
  {
   "cell_type": "code",
   "execution_count": null,
   "metadata": {},
   "outputs": [],
   "source": []
  },
  {
   "cell_type": "code",
   "execution_count": null,
   "metadata": {},
   "outputs": [],
   "source": []
  },
  {
   "cell_type": "code",
   "execution_count": null,
   "metadata": {},
   "outputs": [],
   "source": []
  },
  {
   "cell_type": "code",
   "execution_count": null,
   "metadata": {},
   "outputs": [],
   "source": []
  },
  {
   "cell_type": "code",
   "execution_count": null,
   "metadata": {},
   "outputs": [],
   "source": []
  },
  {
   "cell_type": "code",
   "execution_count": null,
   "metadata": {},
   "outputs": [],
   "source": []
  },
  {
   "cell_type": "code",
   "execution_count": null,
   "metadata": {},
   "outputs": [],
   "source": []
  },
  {
   "cell_type": "code",
   "execution_count": null,
   "metadata": {},
   "outputs": [],
   "source": []
  },
  {
   "cell_type": "code",
   "execution_count": null,
   "metadata": {},
   "outputs": [],
   "source": []
  },
  {
   "cell_type": "code",
   "execution_count": null,
   "metadata": {},
   "outputs": [],
   "source": []
  },
  {
   "cell_type": "code",
   "execution_count": null,
   "metadata": {},
   "outputs": [],
   "source": []
  },
  {
   "cell_type": "code",
   "execution_count": null,
   "metadata": {},
   "outputs": [],
   "source": []
  },
  {
   "cell_type": "code",
   "execution_count": null,
   "metadata": {},
   "outputs": [],
   "source": []
  },
  {
   "cell_type": "code",
   "execution_count": null,
   "metadata": {},
   "outputs": [],
   "source": []
  },
  {
   "cell_type": "code",
   "execution_count": null,
   "metadata": {},
   "outputs": [],
   "source": []
  },
  {
   "cell_type": "code",
   "execution_count": null,
   "metadata": {},
   "outputs": [],
   "source": []
  },
  {
   "cell_type": "code",
   "execution_count": null,
   "metadata": {},
   "outputs": [],
   "source": []
  },
  {
   "cell_type": "code",
   "execution_count": null,
   "metadata": {},
   "outputs": [],
   "source": []
  },
  {
   "cell_type": "code",
   "execution_count": null,
   "metadata": {},
   "outputs": [],
   "source": []
  },
  {
   "cell_type": "code",
   "execution_count": null,
   "metadata": {},
   "outputs": [],
   "source": []
  },
  {
   "cell_type": "code",
   "execution_count": null,
   "metadata": {},
   "outputs": [],
   "source": []
  },
  {
   "cell_type": "code",
   "execution_count": null,
   "metadata": {},
   "outputs": [],
   "source": []
  },
  {
   "cell_type": "markdown",
   "metadata": {},
   "source": [
    "## Part 1: Customer Segmentation Report\n",
    "\n",
    "The main bulk of your analysis will come in this part of the project. Here, you should use unsupervised learning techniques to describe the relationship between the demographics of the company's existing customers and the general population of Germany. By the end of this part, you should be able to describe parts of the general population that are more likely to be part of the mail-order company's main customer base, and which parts of the general population are less so."
   ]
  },
  {
   "cell_type": "code",
   "execution_count": null,
   "metadata": {},
   "outputs": [],
   "source": []
  },
  {
   "cell_type": "markdown",
   "metadata": {},
   "source": [
    "## Part 2: Supervised Learning Model\n",
    "\n",
    "Now that you've found which parts of the population are more likely to be customers of the mail-order company, it's time to build a prediction model. Each of the rows in the \"MAILOUT\" data files represents an individual that was targeted for a mailout campaign. Ideally, we should be able to use the demographic information from each individual to decide whether or not it will be worth it to include that person in the campaign.\n",
    "\n",
    "The \"MAILOUT\" data has been split into two approximately equal parts, each with almost 43 000 data rows. In this part, you can verify your model with the \"TRAIN\" partition, which includes a column, \"RESPONSE\", that states whether or not a person became a customer of the company following the campaign. In the next part, you'll need to create predictions on the \"TEST\" partition, where the \"RESPONSE\" column has been withheld."
   ]
  },
  {
   "cell_type": "code",
   "execution_count": null,
   "metadata": {},
   "outputs": [],
   "source": [
    "mailout_train = pd.read_csv('../../data/Term2/capstone/arvato_data/Udacity_MAILOUT_052018_TRAIN.csv', sep=';')"
   ]
  },
  {
   "cell_type": "code",
   "execution_count": null,
   "metadata": {},
   "outputs": [],
   "source": []
  },
  {
   "cell_type": "markdown",
   "metadata": {},
   "source": [
    "## Part 3: Kaggle Competition\n",
    "\n",
    "Now that you've created a model to predict which individuals are most likely to respond to a mailout campaign, it's time to test that model in competition through Kaggle. If you click on the link [here](http://www.kaggle.com/t/21e6d45d4c574c7fa2d868f0e8c83140), you'll be taken to the competition page where, if you have a Kaggle account, you can enter.\n",
    "\n",
    "Your entry to the competition should be a CSV file with two columns. The first column should be a copy of \"LNR\", which acts as an ID number for each individual in the \"TEST\" partition. The second column, \"RESPONSE\", should be some measure of how likely each individual became a customer – this might not be a straightforward probability. As you should have found in Part 2, there is a large output class imbalance, where most individuals did not respond to the mailout. Thus, predicting individual classes and using accuracy does not seem to be an appropriate performance evaluation method. Instead, the competition will be using AUC to evaluate performance. The exact values of the \"RESPONSE\" column do not matter as much: only that the higher values try to capture as many of the actual customers as possible, early in the ROC curve sweep."
   ]
  },
  {
   "cell_type": "code",
   "execution_count": null,
   "metadata": {},
   "outputs": [],
   "source": [
    "mailout_test = pd.read_csv('../../data/Term2/capstone/arvato_data/Udacity_MAILOUT_052018_TEST.csv', sep=';')"
   ]
  },
  {
   "cell_type": "code",
   "execution_count": null,
   "metadata": {},
   "outputs": [],
   "source": []
  }
 ],
 "metadata": {
  "kernelspec": {
   "display_name": "Python 3",
   "language": "python",
   "name": "python3"
  },
  "language_info": {
   "codemirror_mode": {
    "name": "ipython",
    "version": 3
   },
   "file_extension": ".py",
   "mimetype": "text/x-python",
   "name": "python",
   "nbconvert_exporter": "python",
   "pygments_lexer": "ipython3",
   "version": "3.7.1"
  }
 },
 "nbformat": 4,
 "nbformat_minor": 2
}
